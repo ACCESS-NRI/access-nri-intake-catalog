{
 "cells": [
  {
   "cell_type": "markdown",
   "id": "1d643e89-e161-462b-81c8-8a51eed71268",
   "metadata": {},
   "source": [
    "# Generic playspace"
   ]
  },
  {
   "cell_type": "code",
   "execution_count": 1,
   "id": "3f7038d2-3a82-449b-b946-fe70f5a8817d",
   "metadata": {
    "tags": []
   },
   "outputs": [
    {
     "ename": "ModuleNotFoundError",
     "evalue": "No module named 'catalog_manager'",
     "output_type": "error",
     "traceback": [
      "\u001b[0;31m---------------------------------------------------------------------------\u001b[0m",
      "\u001b[0;31mModuleNotFoundError\u001b[0m                       Traceback (most recent call last)",
      "Cell \u001b[0;32mIn[1], line 1\u001b[0m\n\u001b[0;32m----> 1\u001b[0m \u001b[38;5;28;01mfrom\u001b[39;00m \u001b[38;5;21;01mcatalog_manager\u001b[39;00m \u001b[38;5;28;01mimport\u001b[39;00m esm, translators\n\u001b[1;32m      2\u001b[0m \u001b[38;5;28;01mfrom\u001b[39;00m \u001b[38;5;21;01mcatalog_manager\u001b[39;00m\u001b[38;5;21;01m.\u001b[39;00m\u001b[38;5;21;01mbuild\u001b[39;00m \u001b[38;5;28;01mimport\u001b[39;00m DFCatUpdater\n",
      "\u001b[0;31mModuleNotFoundError\u001b[0m: No module named 'catalog_manager'"
     ]
    }
   ],
   "source": [
    "from catalog_manager import esm, translators\n",
    "from catalog_manager.build import DFCatUpdater"
   ]
  },
  {
   "cell_type": "code",
   "execution_count": 1,
   "id": "f13cc71b-037a-4d77-a244-6a99cbdc252e",
   "metadata": {},
   "outputs": [],
   "source": [
    "dfcat_dir = \"/g/data/tm70/ds0092/projects/nri_intake_catalog/catalogs\"\n",
    "dfcat_name = \"dfcat\""
   ]
  },
  {
   "cell_type": "markdown",
   "id": "cc318e72-d25e-4237-853f-596333356980",
   "metadata": {},
   "source": [
    "## Add existing CMIP6 esm catalog"
   ]
  },
  {
   "cell_type": "code",
   "execution_count": 3,
   "id": "dd6e43a2-e5dc-42ba-95b4-a5f516db696a",
   "metadata": {},
   "outputs": [],
   "source": [
    "from catalog_manager.translators import Cmip6MetadataTranslator"
   ]
  },
  {
   "cell_type": "code",
   "execution_count": 4,
   "id": "ad5cca65-4591-4128-9174-12624a4dee63",
   "metadata": {
    "tags": []
   },
   "outputs": [
    {
     "name": "stdout",
     "output_type": "stream",
     "text": [
      "CPU times: user 1min 28s, sys: 1.35 s, total: 1min 30s\n",
      "Wall time: 1min 31s\n"
     ]
    }
   ],
   "source": [
    "%%time\n",
    "\n",
    "manager = DFCatUpdater.load_esm(\n",
    "    \"/g/data/hh5/public/apps/nci-intake-catalogue/esgf/cmip6/catalogue_latest.json\",\n",
    "    Cmip6MetadataTranslator\n",
    ")\n",
    "manager.add(\n",
    "    name=dfcat_name,\n",
    "    directory=dfcat_dir\n",
    ")"
   ]
  },
  {
   "cell_type": "markdown",
   "id": "f99b4cd0-8605-45dd-a1c4-3eed99993f3c",
   "metadata": {
    "tags": []
   },
   "source": [
    "## Add new esm catalogs from a config file"
   ]
  },
  {
   "cell_type": "code",
   "execution_count": 5,
   "id": "20977541-8824-45c8-a4c3-6c49464cab5d",
   "metadata": {
    "tags": []
   },
   "outputs": [],
   "source": [
    "import yaml\n",
    "\n",
    "config = \"/g/data/tm70/ds0092/projects/intake_catalog/config/cosima.yaml\"\n",
    "\n",
    "with open(config) as f:\n",
    "    config = yaml.safe_load(f)\n",
    "    \n",
    "catalogs = config.get(\"catalogs\")\n",
    "builder = getattr(esm, config.get(\"builder\"))\n",
    "translator = getattr(translators, config.get(\"translator\"))\n",
    "esmcat_dir = config.get(\"catalog_dir\")"
   ]
  },
  {
   "cell_type": "code",
   "execution_count": 6,
   "id": "e007d171-2071-4a6f-b5d1-50580abb9c44",
   "metadata": {
    "tags": []
   },
   "outputs": [
    {
     "name": "stdout",
     "output_type": "stream",
     "text": [
      "Successfully wrote ESM catalog json file to: file:///g/data/tm70/ds0092/projects/intake_catalog/catalogs/cosima/1deg_jra55_ryf9091_gadi.json\n",
      "Successfully wrote ESM catalog json file to: file:///g/data/tm70/ds0092/projects/intake_catalog/catalogs/cosima/1deg_jra55_iaf_omip2_cycle1.json\n",
      "Successfully wrote ESM catalog json file to: file:///g/data/tm70/ds0092/projects/intake_catalog/catalogs/cosima/1deg_jra55_iaf_omip2_cycle2.json\n",
      "Successfully wrote ESM catalog json file to: file:///g/data/tm70/ds0092/projects/intake_catalog/catalogs/cosima/1deg_jra55_iaf_omip2_cycle3.json\n",
      "Successfully wrote ESM catalog json file to: file:///g/data/tm70/ds0092/projects/intake_catalog/catalogs/cosima/1deg_jra55_iaf_omip2_cycle4.json\n",
      "Successfully wrote ESM catalog json file to: file:///g/data/tm70/ds0092/projects/intake_catalog/catalogs/cosima/1deg_jra55_iaf_omip2_cycle5.json\n",
      "Successfully wrote ESM catalog json file to: file:///g/data/tm70/ds0092/projects/intake_catalog/catalogs/cosima/1deg_jra55_iaf_omip2_cycle6.json\n",
      "Successfully wrote ESM catalog json file to: file:///g/data/tm70/ds0092/projects/intake_catalog/catalogs/cosima/025deg_jra55_ryf9091_gadi.json\n",
      "Successfully wrote ESM catalog json file to: file:///g/data/tm70/ds0092/projects/intake_catalog/catalogs/cosima/025deg_jra55_iaf_omip2_cycle1.json\n",
      "Successfully wrote ESM catalog json file to: file:///g/data/tm70/ds0092/projects/intake_catalog/catalogs/cosima/025deg_jra55_iaf_omip2_cycle2.json\n",
      "Successfully wrote ESM catalog json file to: file:///g/data/tm70/ds0092/projects/intake_catalog/catalogs/cosima/025deg_jra55_iaf_omip2_cycle3.json\n",
      "Successfully wrote ESM catalog json file to: file:///g/data/tm70/ds0092/projects/intake_catalog/catalogs/cosima/025deg_jra55_iaf_omip2_cycle4.json\n",
      "Successfully wrote ESM catalog json file to: file:///g/data/tm70/ds0092/projects/intake_catalog/catalogs/cosima/025deg_jra55_iaf_omip2_cycle5.json\n",
      "Successfully wrote ESM catalog json file to: file:///g/data/tm70/ds0092/projects/intake_catalog/catalogs/cosima/025deg_jra55_iaf_omip2_cycle6.json\n",
      "Successfully wrote ESM catalog json file to: file:///g/data/tm70/ds0092/projects/intake_catalog/catalogs/cosima/01deg_jra55v13_ryf9091.json\n",
      "Successfully wrote ESM catalog json file to: file:///g/data/tm70/ds0092/projects/intake_catalog/catalogs/cosima/01deg_jra55v140_iaf.json\n",
      "Successfully wrote ESM catalog json file to: file:///g/data/tm70/ds0092/projects/intake_catalog/catalogs/cosima/01deg_jra55v140_iaf_cycle2.json\n",
      "Successfully wrote ESM catalog json file to: file:///g/data/tm70/ds0092/projects/intake_catalog/catalogs/cosima/01deg_jra55v140_iaf_cycle3.json\n",
      "Successfully wrote ESM catalog json file to: file:///g/data/tm70/ds0092/projects/intake_catalog/catalogs/cosima/01deg_jra55v140_iaf_cycle4.json\n",
      "Successfully wrote ESM catalog json file to: file:///g/data/tm70/ds0092/projects/intake_catalog/catalogs/cosima/01deg_jra55v140_iaf_cycle4_jra55v150_extension.json\n",
      "Successfully wrote ESM catalog json file to: file:///g/data/tm70/ds0092/projects/intake_catalog/catalogs/cosima/01deg_jra55v150_iaf_cycle1.json\n",
      "CPU times: user 2min 54s, sys: 57.4 s, total: 3min 51s\n",
      "Wall time: 11min 4s\n"
     ]
    }
   ],
   "source": [
    "%%time\n",
    "\n",
    "for name, kwargs in catalogs.items():\n",
    "    description = kwargs.pop(\"description\")\n",
    "    paths = kwargs.pop(\"paths\")\n",
    "    \n",
    "    manager = DFCatUpdater.build_esm(\n",
    "        name=name,\n",
    "        description=description,\n",
    "        builder=builder,\n",
    "        translator=translator,\n",
    "        paths=paths,\n",
    "        builder_kwargs=kwargs,\n",
    "        directory=esmcat_dir,\n",
    "        overwrite=True,\n",
    "    )\n",
    "    manager.add(\n",
    "        name=dfcat_name,\n",
    "        directory=dfcat_dir\n",
    "    )"
   ]
  },
  {
   "cell_type": "markdown",
   "id": "a5ca6ff9-867c-4c83-a204-96c6d00fada1",
   "metadata": {},
   "source": [
    "## Use the DF catalog"
   ]
  },
  {
   "cell_type": "code",
   "execution_count": 2,
   "id": "b4709d5b-cd57-47c8-8f6c-593566bd2101",
   "metadata": {},
   "outputs": [],
   "source": [
    "import os\n",
    "import ast\n",
    "import intake\n",
    "import pandas as pd"
   ]
  },
  {
   "cell_type": "code",
   "execution_count": 5,
   "id": "a24828c5-2f10-4dc0-958b-a1d2f11b5b1a",
   "metadata": {},
   "outputs": [],
   "source": [
    "cat = intake.open_df_catalog(\n",
    "    os.path.join(dfcat_dir, f\"{dfcat_name}.csv\"),\n",
    "    name_column=\"experiment\",\n",
    "    read_kwargs={\"converters\": {\"variable\": ast.literal_eval}},\n",
    ")"
   ]
  },
  {
   "cell_type": "code",
   "execution_count": 7,
   "id": "98be24a1-831c-4936-bb2a-14e2d9a6bc47",
   "metadata": {},
   "outputs": [
    {
     "data": {
      "text/html": [
       "<p><strong>Dataframe catalog with 1 subcatalogs(s) across 5 rows</strong>:</p> <div>\n",
       "<style scoped>\n",
       "    .dataframe tbody tr th:only-of-type {\n",
       "        vertical-align: middle;\n",
       "    }\n",
       "\n",
       "    .dataframe tbody tr th {\n",
       "        vertical-align: top;\n",
       "    }\n",
       "\n",
       "    .dataframe thead th {\n",
       "        text-align: right;\n",
       "    }\n",
       "</style>\n",
       "<table border=\"1\" class=\"dataframe\">\n",
       "  <thead>\n",
       "    <tr style=\"text-align: right;\">\n",
       "      <th></th>\n",
       "      <th>realm</th>\n",
       "      <th>model</th>\n",
       "      <th>description</th>\n",
       "      <th>variable</th>\n",
       "      <th>frequency</th>\n",
       "    </tr>\n",
       "    <tr>\n",
       "      <th>experiment</th>\n",
       "      <th></th>\n",
       "      <th></th>\n",
       "      <th></th>\n",
       "      <th></th>\n",
       "      <th></th>\n",
       "    </tr>\n",
       "  </thead>\n",
       "  <tbody>\n",
       "    <tr>\n",
       "      <th>CMIP6_CMS</th>\n",
       "      <td>[atmos, unknown]</td>\n",
       "      <td>CMIP6</td>\n",
       "      <td>CLEX CMS indexed replicas of CMIP6 available o...</td>\n",
       "      <td>[abs550aer, albisccp, bldep, ccb, cct, ch4, ci...</td>\n",
       "      <td>[1day, 1mon, 3hr, 6hr, subhr]</td>\n",
       "    </tr>\n",
       "  </tbody>\n",
       "</table>\n",
       "</div>"
      ],
      "text/plain": [
       "<IPython.core.display.HTML object>"
      ]
     },
     "metadata": {},
     "output_type": "display_data"
    }
   ],
   "source": [
    "subcat = cat.search(experiment=\"CMIP6_CMS\", variable=\"psl\")\n",
    "\n",
    "subcat"
   ]
  },
  {
   "cell_type": "code",
   "execution_count": 126,
   "id": "afd17fb3-c199-415e-bea8-2634f25a6bea",
   "metadata": {
    "tags": []
   },
   "outputs": [
    {
     "data": {
      "text/html": [
       "<div>\n",
       "<style scoped>\n",
       "    .dataframe tbody tr th:only-of-type {\n",
       "        vertical-align: middle;\n",
       "    }\n",
       "\n",
       "    .dataframe tbody tr th {\n",
       "        vertical-align: top;\n",
       "    }\n",
       "\n",
       "    .dataframe thead th {\n",
       "        text-align: right;\n",
       "    }\n",
       "</style>\n",
       "<table border=\"1\" class=\"dataframe\">\n",
       "  <thead>\n",
       "    <tr style=\"text-align: right;\">\n",
       "      <th></th>\n",
       "      <th>experiment</th>\n",
       "      <th>frequency</th>\n",
       "      <th>variable</th>\n",
       "      <th>realm</th>\n",
       "      <th>model</th>\n",
       "      <th>description</th>\n",
       "    </tr>\n",
       "    <tr>\n",
       "      <th>experiment</th>\n",
       "      <th></th>\n",
       "      <th></th>\n",
       "      <th></th>\n",
       "      <th></th>\n",
       "      <th></th>\n",
       "      <th></th>\n",
       "    </tr>\n",
       "  </thead>\n",
       "  <tbody>\n",
       "    <tr>\n",
       "      <th>CMIP6_CMS</th>\n",
       "      <td>CMIP6_CMS</td>\n",
       "      <td>[1day, 1mon, 3hr, 6hr, subhr]</td>\n",
       "      <td>[abs550aer, albisccp, bldep, ccb, cct, ch4, ci, cl, cli, clivi, clt, cltisccp, clw, clwvi, co2, dryss, evspsbl, fco2antt, fco2fos, fco2nat, gpp, hfls, hfss, hur, hurs, hursmax, hursmin, hus, huss, lai, lossch4, mc, mmraerh2o, mmrbc, mmrdust, mmroa, mmrso4, mmrss, mrro, mrsfl, mrsll, mrso, mrsol,...</td>\n",
       "      <td>[atmos, unknown]</td>\n",
       "      <td>CMIP6</td>\n",
       "      <td>CLEX CMS indexed replicas of CMIP6 available on Gadi.</td>\n",
       "    </tr>\n",
       "  </tbody>\n",
       "</table>\n",
       "</div>"
      ],
      "text/plain": [
       "           experiment                      frequency  \\\n",
       "experiment                                             \n",
       "CMIP6_CMS   CMIP6_CMS  [1day, 1mon, 3hr, 6hr, subhr]   \n",
       "\n",
       "                                                                                                                                                                                                                                                                                                               variable  \\\n",
       "experiment                                                                                                                                                                                                                                                                                                                \n",
       "CMIP6_CMS   [abs550aer, albisccp, bldep, ccb, cct, ch4, ci, cl, cli, clivi, clt, cltisccp, clw, clwvi, co2, dryss, evspsbl, fco2antt, fco2fos, fco2nat, gpp, hfls, hfss, hur, hurs, hursmax, hursmin, hus, huss, lai, lossch4, mc, mmraerh2o, mmrbc, mmrdust, mmroa, mmrso4, mmrss, mrro, mrsfl, mrsll, mrso, mrsol,...   \n",
       "\n",
       "                       realm  model  \\\n",
       "experiment                            \n",
       "CMIP6_CMS   [atmos, unknown]  CMIP6   \n",
       "\n",
       "                                                      description  \n",
       "experiment                                                         \n",
       "CMIP6_CMS   CLEX CMS indexed replicas of CMIP6 available on Gadi.  "
      ]
     },
     "execution_count": 126,
     "metadata": {},
     "output_type": "execute_result"
    }
   ],
   "source": [
    "pd.set_option('display.max_colwidth', 300)\n",
    "\n",
    "def _list_unique(series):\n",
    "    uniques = sorted(\n",
    "        set(\n",
    "            series.drop_duplicates().apply(\n",
    "                lambda x: x if series.name in cat.dfcat.columns_with_iterables else [x]\n",
    "            ).sum()\n",
    "        )\n",
    "    )\n",
    "    return uniques[0] if len(uniques) == 1 else uniques\n",
    "\n",
    "df_summary = subcat.df.groupby(\"experiment\").agg({col: _list_unique for col in cat.df.columns.drop(\"yaml\")})\n",
    "\n",
    "df_summary"
   ]
  },
  {
   "cell_type": "code",
   "execution_count": 119,
   "id": "17dee1ce-4ac8-4344-9b20-0829e787e647",
   "metadata": {
    "tags": []
   },
   "outputs": [
    {
     "data": {
      "text/html": [
       "<div>\n",
       "<style scoped>\n",
       "    .dataframe tbody tr th:only-of-type {\n",
       "        vertical-align: middle;\n",
       "    }\n",
       "\n",
       "    .dataframe tbody tr th {\n",
       "        vertical-align: top;\n",
       "    }\n",
       "\n",
       "    .dataframe thead th {\n",
       "        text-align: right;\n",
       "    }\n",
       "</style>\n",
       "<table border=\"1\" class=\"dataframe\">\n",
       "  <thead>\n",
       "    <tr style=\"text-align: right;\">\n",
       "      <th></th>\n",
       "      <th>experiment</th>\n",
       "      <th>frequency</th>\n",
       "      <th>variable</th>\n",
       "      <th>realm</th>\n",
       "      <th>model</th>\n",
       "      <th>description</th>\n",
       "      <th>yaml</th>\n",
       "    </tr>\n",
       "  </thead>\n",
       "  <tbody>\n",
       "    <tr>\n",
       "      <th>0</th>\n",
       "      <td>CMIP6_CMS</td>\n",
       "      <td>1mon</td>\n",
       "      <td>[o3, ch4, lossch4, oh, fco2nat, pr, psl, rlut, rsdt, rsut, ta, tas, tasmax, tasmin, ts, uas, vas, zg, toz, fco2antt, fco2fos, co2, rlds, cl, cli, clivi, clt, clw, evspsbl, hfls, hfss, hur, hurs, hus, huss, pfull, phalf, prc, prsn, prw, ps, rldscs, rlus, rlutcs, rsds, rsdscs, rsus, rsuscs, rsutcs...</td>\n",
       "      <td>atmos</td>\n",
       "      <td>CMIP6</td>\n",
       "      <td>CLEX CMS indexed replicas of CMIP6 available on Gadi.</td>\n",
       "      <td>sources:\\n  CMIP6_CMS:\\n    args:\\n      obj: /g/data/hh5/public/apps/nci-intake-catalogue/esgf/cmip6/catalogue_latest.json\\n    description: ''\\n    driver: intake_esm.core.esm_datastore\\n    metadata: {}\\n</td>\n",
       "    </tr>\n",
       "    <tr>\n",
       "      <th>1</th>\n",
       "      <td>CMIP6_CMS</td>\n",
       "      <td>3hr</td>\n",
       "      <td>[hfls, hfss, huss, mrro, pr, prc, ps, rlds, rlus, rsds, rsus, tas, uas, vas, tos, sfcWind, clt, mrsos, prsn, rldscs, rsdscs, rsuscs, gpp, rsdsdiff, tslsi, ts, rsutcs, ta, psl, rlut, rsut, hus, ua, va]</td>\n",
       "      <td>atmos</td>\n",
       "      <td>CMIP6</td>\n",
       "      <td>CLEX CMS indexed replicas of CMIP6 available on Gadi.</td>\n",
       "      <td>sources:\\n  CMIP6_CMS:\\n    args:\\n      obj: /g/data/hh5/public/apps/nci-intake-catalogue/esgf/cmip6/catalogue_latest.json\\n    description: ''\\n    driver: intake_esm.core.esm_datastore\\n    metadata: {}\\n</td>\n",
       "    </tr>\n",
       "    <tr>\n",
       "      <th>2</th>\n",
       "      <td>CMIP6_CMS</td>\n",
       "      <td>6hr</td>\n",
       "      <td>[psl, tas, uas, vas, hus, ps, ta, ua, va, pr, sfcWind, zg, zg500, pfull, ts, tsl, rv850, hurs, ua100m, va100m, wap, wsgmax10m, huss, mrsol, zg1000, bldep]</td>\n",
       "      <td>atmos</td>\n",
       "      <td>CMIP6</td>\n",
       "      <td>CLEX CMS indexed replicas of CMIP6 available on Gadi.</td>\n",
       "      <td>sources:\\n  CMIP6_CMS:\\n    args:\\n      obj: /g/data/hh5/public/apps/nci-intake-catalogue/esgf/cmip6/catalogue_latest.json\\n    description: ''\\n    driver: intake_esm.core.esm_datastore\\n    metadata: {}\\n</td>\n",
       "    </tr>\n",
       "    <tr>\n",
       "      <th>3</th>\n",
       "      <td>CMIP6_CMS</td>\n",
       "      <td>subhr</td>\n",
       "      <td>[ps, ts, psl]</td>\n",
       "      <td>atmos</td>\n",
       "      <td>CMIP6</td>\n",
       "      <td>CLEX CMS indexed replicas of CMIP6 available on Gadi.</td>\n",
       "      <td>sources:\\n  CMIP6_CMS:\\n    args:\\n      obj: /g/data/hh5/public/apps/nci-intake-catalogue/esgf/cmip6/catalogue_latest.json\\n    description: ''\\n    driver: intake_esm.core.esm_datastore\\n    metadata: {}\\n</td>\n",
       "    </tr>\n",
       "    <tr>\n",
       "      <th>4</th>\n",
       "      <td>CMIP6_CMS</td>\n",
       "      <td>1day</td>\n",
       "      <td>[pr, sfcWind, tas, tasmax, tasmin, mrsfl, mrsll, mrsol, lai, hur, mrro, mrsos, rlut, rsus, snw, wap, hfls, hfss, psl, hurs, hus, rsds, ta, ua, va, zg, sfcWindmax, uas, vas, prw, clt, rlds, rlus, ts, mrso, hursmin, huss, hursmax, prc, prsn, ta850, tauu, tauv, snc, tslsi, tsl]</td>\n",
       "      <td>unknown</td>\n",
       "      <td>CMIP6</td>\n",
       "      <td>CLEX CMS indexed replicas of CMIP6 available on Gadi.</td>\n",
       "      <td>sources:\\n  CMIP6_CMS:\\n    args:\\n      obj: /g/data/hh5/public/apps/nci-intake-catalogue/esgf/cmip6/catalogue_latest.json\\n    description: ''\\n    driver: intake_esm.core.esm_datastore\\n    metadata: {}\\n</td>\n",
       "    </tr>\n",
       "  </tbody>\n",
       "</table>\n",
       "</div>"
      ],
      "text/plain": [
       "  experiment frequency  \\\n",
       "0  CMIP6_CMS      1mon   \n",
       "1  CMIP6_CMS       3hr   \n",
       "2  CMIP6_CMS       6hr   \n",
       "3  CMIP6_CMS     subhr   \n",
       "4  CMIP6_CMS      1day   \n",
       "\n",
       "                                                                                                                                                                                                                                                                                                      variable  \\\n",
       "0  [o3, ch4, lossch4, oh, fco2nat, pr, psl, rlut, rsdt, rsut, ta, tas, tasmax, tasmin, ts, uas, vas, zg, toz, fco2antt, fco2fos, co2, rlds, cl, cli, clivi, clt, clw, evspsbl, hfls, hfss, hur, hurs, hus, huss, pfull, phalf, prc, prsn, prw, ps, rldscs, rlus, rlutcs, rsds, rsdscs, rsus, rsuscs, rsutcs...   \n",
       "1                                                                                                     [hfls, hfss, huss, mrro, pr, prc, ps, rlds, rlus, rsds, rsus, tas, uas, vas, tos, sfcWind, clt, mrsos, prsn, rldscs, rsdscs, rsuscs, gpp, rsdsdiff, tslsi, ts, rsutcs, ta, psl, rlut, rsut, hus, ua, va]   \n",
       "2                                                                                                                                                   [psl, tas, uas, vas, hus, ps, ta, ua, va, pr, sfcWind, zg, zg500, pfull, ts, tsl, rv850, hurs, ua100m, va100m, wap, wsgmax10m, huss, mrsol, zg1000, bldep]   \n",
       "3                                                                                                                                                                                                                                                                                                [ps, ts, psl]   \n",
       "4                          [pr, sfcWind, tas, tasmax, tasmin, mrsfl, mrsll, mrsol, lai, hur, mrro, mrsos, rlut, rsus, snw, wap, hfls, hfss, psl, hurs, hus, rsds, ta, ua, va, zg, sfcWindmax, uas, vas, prw, clt, rlds, rlus, ts, mrso, hursmin, huss, hursmax, prc, prsn, ta850, tauu, tauv, snc, tslsi, tsl]   \n",
       "\n",
       "     realm  model                                            description  \\\n",
       "0    atmos  CMIP6  CLEX CMS indexed replicas of CMIP6 available on Gadi.   \n",
       "1    atmos  CMIP6  CLEX CMS indexed replicas of CMIP6 available on Gadi.   \n",
       "2    atmos  CMIP6  CLEX CMS indexed replicas of CMIP6 available on Gadi.   \n",
       "3    atmos  CMIP6  CLEX CMS indexed replicas of CMIP6 available on Gadi.   \n",
       "4  unknown  CMIP6  CLEX CMS indexed replicas of CMIP6 available on Gadi.   \n",
       "\n",
       "                                                                                                                                                                                                              yaml  \n",
       "0  sources:\\n  CMIP6_CMS:\\n    args:\\n      obj: /g/data/hh5/public/apps/nci-intake-catalogue/esgf/cmip6/catalogue_latest.json\\n    description: ''\\n    driver: intake_esm.core.esm_datastore\\n    metadata: {}\\n  \n",
       "1  sources:\\n  CMIP6_CMS:\\n    args:\\n      obj: /g/data/hh5/public/apps/nci-intake-catalogue/esgf/cmip6/catalogue_latest.json\\n    description: ''\\n    driver: intake_esm.core.esm_datastore\\n    metadata: {}\\n  \n",
       "2  sources:\\n  CMIP6_CMS:\\n    args:\\n      obj: /g/data/hh5/public/apps/nci-intake-catalogue/esgf/cmip6/catalogue_latest.json\\n    description: ''\\n    driver: intake_esm.core.esm_datastore\\n    metadata: {}\\n  \n",
       "3  sources:\\n  CMIP6_CMS:\\n    args:\\n      obj: /g/data/hh5/public/apps/nci-intake-catalogue/esgf/cmip6/catalogue_latest.json\\n    description: ''\\n    driver: intake_esm.core.esm_datastore\\n    metadata: {}\\n  \n",
       "4  sources:\\n  CMIP6_CMS:\\n    args:\\n      obj: /g/data/hh5/public/apps/nci-intake-catalogue/esgf/cmip6/catalogue_latest.json\\n    description: ''\\n    driver: intake_esm.core.esm_datastore\\n    metadata: {}\\n  "
      ]
     },
     "execution_count": 119,
     "metadata": {},
     "output_type": "execute_result"
    }
   ],
   "source": [
    "subcat.df"
   ]
  },
  {
   "cell_type": "code",
   "execution_count": 23,
   "id": "1d8a6ea9-3159-453d-b75d-7ed9ef59b84a",
   "metadata": {
    "tags": []
   },
   "outputs": [
    {
     "data": {
      "text/plain": [
       "{'025deg_jra55_iaf_omip2_cycle1': [12, 13], '025deg_jra55_iaf_omip2_cycle2': [14, 15], '025deg_jra55_iaf_omip2_cycle3': [16, 17], '025deg_jra55_iaf_omip2_cycle4': [18, 19], '025deg_jra55_iaf_omip2_cycle5': [20, 21], '025deg_jra55_iaf_omip2_cycle6': [22, 23], '1deg_jra55_iaf_omip2_cycle1': [0, 1], '1deg_jra55_iaf_omip2_cycle2': [2, 3], '1deg_jra55_iaf_omip2_cycle3': [4, 5], '1deg_jra55_iaf_omip2_cycle4': [6, 7], '1deg_jra55_iaf_omip2_cycle5': [8, 9], '1deg_jra55_iaf_omip2_cycle6': [10, 11]}"
      ]
     },
     "execution_count": 23,
     "metadata": {},
     "output_type": "execute_result"
    }
   ],
   "source": [
    "groups.groups"
   ]
  },
  {
   "cell_type": "code",
   "execution_count": 8,
   "id": "f4e70f8d-5bcb-4cb7-b3e0-d0938020b5a7",
   "metadata": {},
   "outputs": [
    {
     "data": {
      "text/html": [
       "<div>\n",
       "<style scoped>\n",
       "    .dataframe tbody tr th:only-of-type {\n",
       "        vertical-align: middle;\n",
       "    }\n",
       "\n",
       "    .dataframe tbody tr th {\n",
       "        vertical-align: top;\n",
       "    }\n",
       "\n",
       "    .dataframe thead th {\n",
       "        text-align: right;\n",
       "    }\n",
       "</style>\n",
       "<table border=\"1\" class=\"dataframe\">\n",
       "  <thead>\n",
       "    <tr style=\"text-align: right;\">\n",
       "      <th></th>\n",
       "      <th>model</th>\n",
       "      <th>description</th>\n",
       "      <th>frequency</th>\n",
       "      <th>realm</th>\n",
       "      <th>variable</th>\n",
       "    </tr>\n",
       "    <tr>\n",
       "      <th>experiment</th>\n",
       "      <th></th>\n",
       "      <th></th>\n",
       "      <th></th>\n",
       "      <th></th>\n",
       "      <th></th>\n",
       "    </tr>\n",
       "  </thead>\n",
       "  <tbody>\n",
       "    <tr>\n",
       "      <th>025deg_jra55_iaf_omip2_cycle1</th>\n",
       "      <td>ACCESS-OM2</td>\n",
       "      <td>0.25 degree ACCESS-OM2 physics only global configuration with JRA55-do v1.4 IAF Interannual Forcing. Cycle 1 of 6 61-year cycles of 1 Jan 1958 to 1 Jan 2019 following the OMIP-2 protocol. Run for ...</td>\n",
       "      <td>[1day, 1mon]</td>\n",
       "      <td>[ocean]</td>\n",
       "      <td>[[pbot_t, patm_t, rho_dzt, dht, sea_level, sea_level_sq, pot_temp, temp, sst, sst_sq, bottom_temp, salt, sss, sss_sq, bottom_salt, age_global, mld, mld_max, mld_min, mld_sq, psiu, psiv, bv_freq, b...</td>\n",
       "    </tr>\n",
       "    <tr>\n",
       "      <th>025deg_jra55_iaf_omip2_cycle2</th>\n",
       "      <td>ACCESS-OM2</td>\n",
       "      <td>0.25 degree ACCESS-OM2 physics only global configuration with JRA55-do v1.4 IAF Interannual Forcing. Cycle 2 of 6 61-year cycles of 1 Jan 1958 to 1 Jan 2019 following the OMIP-2 protocol. Run for ...</td>\n",
       "      <td>[1day, 1mon]</td>\n",
       "      <td>[ocean]</td>\n",
       "      <td>[[pbot_t, patm_t, rho_dzt, dht, sea_level, sea_level_sq, pot_temp, temp, sst, sst_sq, bottom_temp, salt, sss, sss_sq, bottom_salt, age_global, mld, mld_max, mld_min, mld_sq, psiu, psiv, bv_freq, b...</td>\n",
       "    </tr>\n",
       "    <tr>\n",
       "      <th>025deg_jra55_iaf_omip2_cycle3</th>\n",
       "      <td>ACCESS-OM2</td>\n",
       "      <td>0.25 degree ACCESS-OM2 physics only global configuration with JRA55-do v1.4 IAF Interannual Forcing. Cycle 3 of 6 61-year cycles of 1 Jan 1958 to 1 Jan 2019 following the OMIP-2 protocol. Run for ...</td>\n",
       "      <td>[1day, 1mon]</td>\n",
       "      <td>[ocean]</td>\n",
       "      <td>[[pbot_t, patm_t, rho_dzt, dht, sea_level, sea_level_sq, pot_temp, temp, sst, sst_sq, bottom_temp, salt, sss, sss_sq, bottom_salt, age_global, mld, mld_max, mld_min, mld_sq, psiu, psiv, bv_freq, b...</td>\n",
       "    </tr>\n",
       "    <tr>\n",
       "      <th>025deg_jra55_iaf_omip2_cycle4</th>\n",
       "      <td>ACCESS-OM2</td>\n",
       "      <td>0.25 degree ACCESS-OM2 physics only global configuration with JRA55-do v1.4 IAF Interannual Forcing. Cycle 4 of 6 61-year cycles of 1 Jan 1958 to 1 Jan 2019 following the OMIP-2 protocol. Run for ...</td>\n",
       "      <td>[1day, 1mon]</td>\n",
       "      <td>[ocean]</td>\n",
       "      <td>[[pbot_t, patm_t, rho_dzt, dht, sea_level, sea_level_sq, pot_temp, temp, sst, sst_sq, bottom_temp, salt, sss, sss_sq, bottom_salt, age_global, mld, mld_max, mld_min, mld_sq, psiu, psiv, bv_freq, b...</td>\n",
       "    </tr>\n",
       "    <tr>\n",
       "      <th>025deg_jra55_iaf_omip2_cycle5</th>\n",
       "      <td>ACCESS-OM2</td>\n",
       "      <td>0.25 degree ACCESS-OM2 physics only global configuration with JRA55-do v1.4 IAF Interannual Forcing. Cycle 5 of 6 61-year cycles of 1 Jan 1958 to 1 Jan 2019 following the OMIP-2 protocol. Run for ...</td>\n",
       "      <td>[1day, 1mon]</td>\n",
       "      <td>[ocean]</td>\n",
       "      <td>[[pbot_t, patm_t, rho_dzt, dht, sea_level, sea_level_sq, pot_temp, temp, sst, sst_sq, bottom_temp, salt, sss, sss_sq, bottom_salt, age_global, mld, mld_max, mld_min, mld_sq, psiu, psiv, bv_freq, b...</td>\n",
       "    </tr>\n",
       "    <tr>\n",
       "      <th>025deg_jra55_iaf_omip2_cycle6</th>\n",
       "      <td>ACCESS-OM2</td>\n",
       "      <td>0.25 degree ACCESS-OM2 physics only global configuration with JRA55-do v1.4 IAF Interannual Forcing. Cycle 6 of 6 61-year cycles of 1 Jan 1958 to 1 Jan 2019 following the OMIP-2 protocol. Run for ...</td>\n",
       "      <td>[1day, 1mon]</td>\n",
       "      <td>[ocean]</td>\n",
       "      <td>[[salt_int_rhodz, temp_int_rhodz, temp_tendency, temp_advection, temp_submeso, temp_vdiffuse_diff_cbt, temp_nonlocal_KPP, temp_vdiffuse_sbc, frazil_3d, temp_eta_smooth, neutral_diffusion_temp, neu...</td>\n",
       "    </tr>\n",
       "    <tr>\n",
       "      <th>1deg_jra55_iaf_omip2_cycle1</th>\n",
       "      <td>ACCESS-OM2</td>\n",
       "      <td>1 degree ACCESS-OM2-BGC global configuration with JRA55-do v1.4 IAF Interannual Forcing. Cycle 1 of 6 61-year cycles of 1 Jan 1958 to 1 Jan 2019 following the OMIP-2 protocol. Run for and included...</td>\n",
       "      <td>[1day, 1mon]</td>\n",
       "      <td>[ocean]</td>\n",
       "      <td>[[dissicos_raw, surface_dic, talkos_raw, o2os_raw, no3os_raw, phyos_raw, surface_zoo, surface_det, surface_fe, adic, alk, no3, det, caco3, intpp_raw, paco2, pco2, fgco2_raw, fgco2nat_raw, fgo2_raw...</td>\n",
       "    </tr>\n",
       "    <tr>\n",
       "      <th>1deg_jra55_iaf_omip2_cycle2</th>\n",
       "      <td>ACCESS-OM2</td>\n",
       "      <td>1 degree ACCESS-OM2-BGC global configuration with JRA55-do v1.4 IAF Interannual Forcing. Cycle 2 of 6 61-year cycles of 1 Jan 1958 to 1 Jan 2019 following the OMIP-2 protocol. Run for and included...</td>\n",
       "      <td>[1day, 1mon]</td>\n",
       "      <td>[ocean]</td>\n",
       "      <td>[[dissicos_raw, surface_dic, talkos_raw, o2os_raw, no3os_raw, phyos_raw, surface_zoo, surface_det, surface_fe, adic, alk, no3, det, caco3, intpp_raw, paco2, pco2, fgco2_raw, fgco2nat_raw, fgo2_raw...</td>\n",
       "    </tr>\n",
       "    <tr>\n",
       "      <th>1deg_jra55_iaf_omip2_cycle3</th>\n",
       "      <td>ACCESS-OM2</td>\n",
       "      <td>1 degree ACCESS-OM2-BGC global configuration with JRA55-do v1.4 IAF Interannual Forcing. Cycle 3 of 6 61-year cycles of 1 Jan 1958 to 1 Jan 2019 following the OMIP-2 protocol. Run for and included...</td>\n",
       "      <td>[1day, 1mon]</td>\n",
       "      <td>[ocean]</td>\n",
       "      <td>[[dissicos_raw, surface_dic, talkos_raw, o2os_raw, no3os_raw, phyos_raw, surface_zoo, surface_det, surface_fe, adic, alk, no3, det, caco3, intpp_raw, paco2, pco2, fgco2_raw, fgco2nat_raw, fgo2_raw...</td>\n",
       "    </tr>\n",
       "    <tr>\n",
       "      <th>1deg_jra55_iaf_omip2_cycle4</th>\n",
       "      <td>ACCESS-OM2</td>\n",
       "      <td>1 degree ACCESS-OM2-BGC global configuration with JRA55-do v1.4 IAF Interannual Forcing. Cycle 4 of 6 61-year cycles of 1 Jan 1958 to 1 Jan 2019 following the OMIP-2 protocol. Run for and included...</td>\n",
       "      <td>[1day, 1mon]</td>\n",
       "      <td>[ocean]</td>\n",
       "      <td>[[dissicos_raw, surface_dic, talkos_raw, o2os_raw, no3os_raw, phyos_raw, surface_zoo, surface_det, surface_fe, adic, alk, no3, det, caco3, intpp_raw, paco2, pco2, fgco2_raw, fgco2nat_raw, fgo2_raw...</td>\n",
       "    </tr>\n",
       "    <tr>\n",
       "      <th>1deg_jra55_iaf_omip2_cycle5</th>\n",
       "      <td>ACCESS-OM2</td>\n",
       "      <td>1 degree ACCESS-OM2-BGC global configuration with JRA55-do v1.4 IAF Interannual Forcing. Cycle 5 of 6 61-year cycles of 1 Jan 1958 to 1 Jan 2019 following the OMIP-2 protocol. Run for and included...</td>\n",
       "      <td>[1day, 1mon]</td>\n",
       "      <td>[ocean]</td>\n",
       "      <td>[[dissicos_raw, surface_dic, talkos_raw, o2os_raw, no3os_raw, phyos_raw, surface_zoo, surface_det, surface_fe, adic, alk, no3, det, caco3, intpp_raw, paco2, pco2, fgco2_raw, fgco2nat_raw, fgo2_raw...</td>\n",
       "    </tr>\n",
       "    <tr>\n",
       "      <th>1deg_jra55_iaf_omip2_cycle6</th>\n",
       "      <td>ACCESS-OM2</td>\n",
       "      <td>1 degree ACCESS-OM2-BGC global configuration with JRA55-do v1.4 IAF Interannual Forcing. Cycle 6 of 6 61-year cycles of 1 Jan 1958 to 1 Jan 2019 following the OMIP-2 protocol. Run for and included...</td>\n",
       "      <td>[1day, 1mon]</td>\n",
       "      <td>[ocean]</td>\n",
       "      <td>[[dissicos_raw, surface_dic, talkos_raw, o2os_raw, no3os_raw, phyos_raw, surface_zoo, surface_det, surface_fe, adic, alk, no3, det, caco3, intpp_raw, paco2, pco2, fgco2_raw, fgco2nat_raw, fgo2_raw...</td>\n",
       "    </tr>\n",
       "  </tbody>\n",
       "</table>\n",
       "</div>"
      ],
      "text/plain": [
       "                                    model  \\\n",
       "experiment                                  \n",
       "025deg_jra55_iaf_omip2_cycle1  ACCESS-OM2   \n",
       "025deg_jra55_iaf_omip2_cycle2  ACCESS-OM2   \n",
       "025deg_jra55_iaf_omip2_cycle3  ACCESS-OM2   \n",
       "025deg_jra55_iaf_omip2_cycle4  ACCESS-OM2   \n",
       "025deg_jra55_iaf_omip2_cycle5  ACCESS-OM2   \n",
       "025deg_jra55_iaf_omip2_cycle6  ACCESS-OM2   \n",
       "1deg_jra55_iaf_omip2_cycle1    ACCESS-OM2   \n",
       "1deg_jra55_iaf_omip2_cycle2    ACCESS-OM2   \n",
       "1deg_jra55_iaf_omip2_cycle3    ACCESS-OM2   \n",
       "1deg_jra55_iaf_omip2_cycle4    ACCESS-OM2   \n",
       "1deg_jra55_iaf_omip2_cycle5    ACCESS-OM2   \n",
       "1deg_jra55_iaf_omip2_cycle6    ACCESS-OM2   \n",
       "\n",
       "                                                                                                                                                                                                                           description  \\\n",
       "experiment                                                                                                                                                                                                                               \n",
       "025deg_jra55_iaf_omip2_cycle1  0.25 degree ACCESS-OM2 physics only global configuration with JRA55-do v1.4 IAF Interannual Forcing. Cycle 1 of 6 61-year cycles of 1 Jan 1958 to 1 Jan 2019 following the OMIP-2 protocol. Run for ...   \n",
       "025deg_jra55_iaf_omip2_cycle2  0.25 degree ACCESS-OM2 physics only global configuration with JRA55-do v1.4 IAF Interannual Forcing. Cycle 2 of 6 61-year cycles of 1 Jan 1958 to 1 Jan 2019 following the OMIP-2 protocol. Run for ...   \n",
       "025deg_jra55_iaf_omip2_cycle3  0.25 degree ACCESS-OM2 physics only global configuration with JRA55-do v1.4 IAF Interannual Forcing. Cycle 3 of 6 61-year cycles of 1 Jan 1958 to 1 Jan 2019 following the OMIP-2 protocol. Run for ...   \n",
       "025deg_jra55_iaf_omip2_cycle4  0.25 degree ACCESS-OM2 physics only global configuration with JRA55-do v1.4 IAF Interannual Forcing. Cycle 4 of 6 61-year cycles of 1 Jan 1958 to 1 Jan 2019 following the OMIP-2 protocol. Run for ...   \n",
       "025deg_jra55_iaf_omip2_cycle5  0.25 degree ACCESS-OM2 physics only global configuration with JRA55-do v1.4 IAF Interannual Forcing. Cycle 5 of 6 61-year cycles of 1 Jan 1958 to 1 Jan 2019 following the OMIP-2 protocol. Run for ...   \n",
       "025deg_jra55_iaf_omip2_cycle6  0.25 degree ACCESS-OM2 physics only global configuration with JRA55-do v1.4 IAF Interannual Forcing. Cycle 6 of 6 61-year cycles of 1 Jan 1958 to 1 Jan 2019 following the OMIP-2 protocol. Run for ...   \n",
       "1deg_jra55_iaf_omip2_cycle1    1 degree ACCESS-OM2-BGC global configuration with JRA55-do v1.4 IAF Interannual Forcing. Cycle 1 of 6 61-year cycles of 1 Jan 1958 to 1 Jan 2019 following the OMIP-2 protocol. Run for and included...   \n",
       "1deg_jra55_iaf_omip2_cycle2    1 degree ACCESS-OM2-BGC global configuration with JRA55-do v1.4 IAF Interannual Forcing. Cycle 2 of 6 61-year cycles of 1 Jan 1958 to 1 Jan 2019 following the OMIP-2 protocol. Run for and included...   \n",
       "1deg_jra55_iaf_omip2_cycle3    1 degree ACCESS-OM2-BGC global configuration with JRA55-do v1.4 IAF Interannual Forcing. Cycle 3 of 6 61-year cycles of 1 Jan 1958 to 1 Jan 2019 following the OMIP-2 protocol. Run for and included...   \n",
       "1deg_jra55_iaf_omip2_cycle4    1 degree ACCESS-OM2-BGC global configuration with JRA55-do v1.4 IAF Interannual Forcing. Cycle 4 of 6 61-year cycles of 1 Jan 1958 to 1 Jan 2019 following the OMIP-2 protocol. Run for and included...   \n",
       "1deg_jra55_iaf_omip2_cycle5    1 degree ACCESS-OM2-BGC global configuration with JRA55-do v1.4 IAF Interannual Forcing. Cycle 5 of 6 61-year cycles of 1 Jan 1958 to 1 Jan 2019 following the OMIP-2 protocol. Run for and included...   \n",
       "1deg_jra55_iaf_omip2_cycle6    1 degree ACCESS-OM2-BGC global configuration with JRA55-do v1.4 IAF Interannual Forcing. Cycle 6 of 6 61-year cycles of 1 Jan 1958 to 1 Jan 2019 following the OMIP-2 protocol. Run for and included...   \n",
       "\n",
       "                                  frequency    realm  \\\n",
       "experiment                                             \n",
       "025deg_jra55_iaf_omip2_cycle1  [1day, 1mon]  [ocean]   \n",
       "025deg_jra55_iaf_omip2_cycle2  [1day, 1mon]  [ocean]   \n",
       "025deg_jra55_iaf_omip2_cycle3  [1day, 1mon]  [ocean]   \n",
       "025deg_jra55_iaf_omip2_cycle4  [1day, 1mon]  [ocean]   \n",
       "025deg_jra55_iaf_omip2_cycle5  [1day, 1mon]  [ocean]   \n",
       "025deg_jra55_iaf_omip2_cycle6  [1day, 1mon]  [ocean]   \n",
       "1deg_jra55_iaf_omip2_cycle1    [1day, 1mon]  [ocean]   \n",
       "1deg_jra55_iaf_omip2_cycle2    [1day, 1mon]  [ocean]   \n",
       "1deg_jra55_iaf_omip2_cycle3    [1day, 1mon]  [ocean]   \n",
       "1deg_jra55_iaf_omip2_cycle4    [1day, 1mon]  [ocean]   \n",
       "1deg_jra55_iaf_omip2_cycle5    [1day, 1mon]  [ocean]   \n",
       "1deg_jra55_iaf_omip2_cycle6    [1day, 1mon]  [ocean]   \n",
       "\n",
       "                                                                                                                                                                                                                              variable  \n",
       "experiment                                                                                                                                                                                                                              \n",
       "025deg_jra55_iaf_omip2_cycle1  [[pbot_t, patm_t, rho_dzt, dht, sea_level, sea_level_sq, pot_temp, temp, sst, sst_sq, bottom_temp, salt, sss, sss_sq, bottom_salt, age_global, mld, mld_max, mld_min, mld_sq, psiu, psiv, bv_freq, b...  \n",
       "025deg_jra55_iaf_omip2_cycle2  [[pbot_t, patm_t, rho_dzt, dht, sea_level, sea_level_sq, pot_temp, temp, sst, sst_sq, bottom_temp, salt, sss, sss_sq, bottom_salt, age_global, mld, mld_max, mld_min, mld_sq, psiu, psiv, bv_freq, b...  \n",
       "025deg_jra55_iaf_omip2_cycle3  [[pbot_t, patm_t, rho_dzt, dht, sea_level, sea_level_sq, pot_temp, temp, sst, sst_sq, bottom_temp, salt, sss, sss_sq, bottom_salt, age_global, mld, mld_max, mld_min, mld_sq, psiu, psiv, bv_freq, b...  \n",
       "025deg_jra55_iaf_omip2_cycle4  [[pbot_t, patm_t, rho_dzt, dht, sea_level, sea_level_sq, pot_temp, temp, sst, sst_sq, bottom_temp, salt, sss, sss_sq, bottom_salt, age_global, mld, mld_max, mld_min, mld_sq, psiu, psiv, bv_freq, b...  \n",
       "025deg_jra55_iaf_omip2_cycle5  [[pbot_t, patm_t, rho_dzt, dht, sea_level, sea_level_sq, pot_temp, temp, sst, sst_sq, bottom_temp, salt, sss, sss_sq, bottom_salt, age_global, mld, mld_max, mld_min, mld_sq, psiu, psiv, bv_freq, b...  \n",
       "025deg_jra55_iaf_omip2_cycle6  [[salt_int_rhodz, temp_int_rhodz, temp_tendency, temp_advection, temp_submeso, temp_vdiffuse_diff_cbt, temp_nonlocal_KPP, temp_vdiffuse_sbc, frazil_3d, temp_eta_smooth, neutral_diffusion_temp, neu...  \n",
       "1deg_jra55_iaf_omip2_cycle1    [[dissicos_raw, surface_dic, talkos_raw, o2os_raw, no3os_raw, phyos_raw, surface_zoo, surface_det, surface_fe, adic, alk, no3, det, caco3, intpp_raw, paco2, pco2, fgco2_raw, fgco2nat_raw, fgo2_raw...  \n",
       "1deg_jra55_iaf_omip2_cycle2    [[dissicos_raw, surface_dic, talkos_raw, o2os_raw, no3os_raw, phyos_raw, surface_zoo, surface_det, surface_fe, adic, alk, no3, det, caco3, intpp_raw, paco2, pco2, fgco2_raw, fgco2nat_raw, fgo2_raw...  \n",
       "1deg_jra55_iaf_omip2_cycle3    [[dissicos_raw, surface_dic, talkos_raw, o2os_raw, no3os_raw, phyos_raw, surface_zoo, surface_det, surface_fe, adic, alk, no3, det, caco3, intpp_raw, paco2, pco2, fgco2_raw, fgco2nat_raw, fgo2_raw...  \n",
       "1deg_jra55_iaf_omip2_cycle4    [[dissicos_raw, surface_dic, talkos_raw, o2os_raw, no3os_raw, phyos_raw, surface_zoo, surface_det, surface_fe, adic, alk, no3, det, caco3, intpp_raw, paco2, pco2, fgco2_raw, fgco2nat_raw, fgo2_raw...  \n",
       "1deg_jra55_iaf_omip2_cycle5    [[dissicos_raw, surface_dic, talkos_raw, o2os_raw, no3os_raw, phyos_raw, surface_zoo, surface_det, surface_fe, adic, alk, no3, det, caco3, intpp_raw, paco2, pco2, fgco2_raw, fgco2nat_raw, fgo2_raw...  \n",
       "1deg_jra55_iaf_omip2_cycle6    [[dissicos_raw, surface_dic, talkos_raw, o2os_raw, no3os_raw, phyos_raw, surface_zoo, surface_det, surface_fe, adic, alk, no3, det, caco3, intpp_raw, paco2, pco2, fgco2_raw, fgco2nat_raw, fgo2_raw...  "
      ]
     },
     "execution_count": 8,
     "metadata": {},
     "output_type": "execute_result"
    }
   ],
   "source": [
    "import numpy as np\n",
    "\n",
    "pd.set_option('display.max_colwidth', 200)\n",
    "\n",
    "tab = pd.pivot_table(subcat.df, index=[\"model\", \"experiment\", \"description\"], aggfunc=lambda x: np.unique(x)).reset_index()\n",
    "tab.set_index(\"experiment\")[[\"model\", \"description\", \"frequency\", \"realm\", \"variable\"]]"
   ]
  },
  {
   "cell_type": "code",
   "execution_count": 205,
   "id": "1970eb60-31cb-49b4-bc8b-2b7e3a56f632",
   "metadata": {},
   "outputs": [
    {
     "ename": "KeyError",
     "evalue": "'name'",
     "output_type": "error",
     "traceback": [
      "\u001b[0;31m---------------------------------------------------------------------------\u001b[0m",
      "\u001b[0;31mKeyError\u001b[0m                                  Traceback (most recent call last)",
      "File \u001b[0;32m/g/data/tm70/ds0092/software/mambaforge/envs/catalog-manager-dev/lib/python3.10/site-packages/pandas/core/indexes/base.py:3802\u001b[0m, in \u001b[0;36mIndex.get_loc\u001b[0;34m(self, key, method, tolerance)\u001b[0m\n\u001b[1;32m   3801\u001b[0m \u001b[38;5;28;01mtry\u001b[39;00m:\n\u001b[0;32m-> 3802\u001b[0m     \u001b[38;5;28;01mreturn\u001b[39;00m \u001b[38;5;28;43mself\u001b[39;49m\u001b[38;5;241;43m.\u001b[39;49m\u001b[43m_engine\u001b[49m\u001b[38;5;241;43m.\u001b[39;49m\u001b[43mget_loc\u001b[49m\u001b[43m(\u001b[49m\u001b[43mcasted_key\u001b[49m\u001b[43m)\u001b[49m\n\u001b[1;32m   3803\u001b[0m \u001b[38;5;28;01mexcept\u001b[39;00m \u001b[38;5;167;01mKeyError\u001b[39;00m \u001b[38;5;28;01mas\u001b[39;00m err:\n",
      "File \u001b[0;32m/g/data/tm70/ds0092/software/mambaforge/envs/catalog-manager-dev/lib/python3.10/site-packages/pandas/_libs/index.pyx:138\u001b[0m, in \u001b[0;36mpandas._libs.index.IndexEngine.get_loc\u001b[0;34m()\u001b[0m\n",
      "File \u001b[0;32m/g/data/tm70/ds0092/software/mambaforge/envs/catalog-manager-dev/lib/python3.10/site-packages/pandas/_libs/index.pyx:165\u001b[0m, in \u001b[0;36mpandas._libs.index.IndexEngine.get_loc\u001b[0;34m()\u001b[0m\n",
      "File \u001b[0;32mpandas/_libs/hashtable_class_helper.pxi:5745\u001b[0m, in \u001b[0;36mpandas._libs.hashtable.PyObjectHashTable.get_item\u001b[0;34m()\u001b[0m\n",
      "File \u001b[0;32mpandas/_libs/hashtable_class_helper.pxi:5753\u001b[0m, in \u001b[0;36mpandas._libs.hashtable.PyObjectHashTable.get_item\u001b[0;34m()\u001b[0m\n",
      "\u001b[0;31mKeyError\u001b[0m: 'name'",
      "\nThe above exception was the direct cause of the following exception:\n",
      "\u001b[0;31mKeyError\u001b[0m                                  Traceback (most recent call last)",
      "Cell \u001b[0;32mIn[205], line 1\u001b[0m\n\u001b[0;32m----> 1\u001b[0m \u001b[43msubcat\u001b[49m\u001b[38;5;241;43m.\u001b[39;49m\u001b[43mto_subcatalog\u001b[49m\u001b[43m(\u001b[49m\u001b[43m)\u001b[49m\n",
      "File \u001b[0;32m/g/data/tm70/ds0092/software/intake-dataframe-catalog/src/intake_dataframe_catalog/core.py:501\u001b[0m, in \u001b[0;36mDFFileCatalog.to_subcatalog\u001b[0;34m(self, **kwargs)\u001b[0m\n\u001b[1;32m    485\u001b[0m \u001b[38;5;28;01mdef\u001b[39;00m \u001b[38;5;21mto_subcatalog\u001b[39m(\u001b[38;5;28mself\u001b[39m, \u001b[38;5;241m*\u001b[39m\u001b[38;5;241m*\u001b[39mkwargs: \u001b[38;5;28mdict\u001b[39m[\u001b[38;5;28mstr\u001b[39m, typing\u001b[38;5;241m.\u001b[39mAny]) \u001b[38;5;241m-\u001b[39m\u001b[38;5;241m>\u001b[39m intake\u001b[38;5;241m.\u001b[39mDataSource:\n\u001b[1;32m    486\u001b[0m \u001b[38;5;250m    \u001b[39m\u001b[38;5;124;03m\"\"\"\u001b[39;00m\n\u001b[1;32m    487\u001b[0m \u001b[38;5;124;03m    Load intake subcatalog. This is only possible if there is only one remaining subcatalog in the DF catalog.\u001b[39;00m\n\u001b[1;32m    488\u001b[0m \n\u001b[0;32m   (...)\u001b[0m\n\u001b[1;32m    498\u001b[0m \u001b[38;5;124;03m        A dictionary of subcatalogs.\u001b[39;00m\n\u001b[1;32m    499\u001b[0m \u001b[38;5;124;03m    \"\"\"\u001b[39;00m\n\u001b[0;32m--> 501\u001b[0m     \u001b[38;5;28;01mif\u001b[39;00m \u001b[38;5;28;43mlen\u001b[39;49m\u001b[43m(\u001b[49m\u001b[38;5;28;43mself\u001b[39;49m\u001b[43m)\u001b[49m \u001b[38;5;241m==\u001b[39m \u001b[38;5;241m1\u001b[39m:\n\u001b[1;32m    502\u001b[0m         res \u001b[38;5;241m=\u001b[39m \u001b[38;5;28mself\u001b[39m\u001b[38;5;241m.\u001b[39mto_subcatalog_dict(\u001b[38;5;241m*\u001b[39m\u001b[38;5;241m*\u001b[39mkwargs)\n\u001b[1;32m    503\u001b[0m         _, subcat \u001b[38;5;241m=\u001b[39m res\u001b[38;5;241m.\u001b[39mpopitem()\n",
      "File \u001b[0;32m/g/data/tm70/ds0092/software/intake-dataframe-catalog/src/intake_dataframe_catalog/core.py:418\u001b[0m, in \u001b[0;36mDFFileCatalog.__len__\u001b[0;34m(self)\u001b[0m\n\u001b[1;32m    417\u001b[0m \u001b[38;5;28;01mdef\u001b[39;00m \u001b[38;5;21m__len__\u001b[39m(\u001b[38;5;28mself\u001b[39m) \u001b[38;5;241m-\u001b[39m\u001b[38;5;241m>\u001b[39m \u001b[38;5;28mint\u001b[39m:\n\u001b[0;32m--> 418\u001b[0m     \u001b[38;5;28;01mreturn\u001b[39;00m \u001b[38;5;28mlen\u001b[39m(\u001b[38;5;28;43mself\u001b[39;49m\u001b[38;5;241;43m.\u001b[39;49m\u001b[43mkeys\u001b[49m\u001b[43m(\u001b[49m\u001b[43m)\u001b[49m)\n",
      "File \u001b[0;32m/g/data/tm70/ds0092/software/intake-dataframe-catalog/src/intake_dataframe_catalog/core.py:575\u001b[0m, in \u001b[0;36mDFFileCatalog.keys\u001b[0;34m(self)\u001b[0m\n\u001b[1;32m    571\u001b[0m \u001b[38;5;28;01mdef\u001b[39;00m \u001b[38;5;21mkeys\u001b[39m(\u001b[38;5;28mself\u001b[39m) \u001b[38;5;241m-\u001b[39m\u001b[38;5;241m>\u001b[39m \u001b[38;5;28mlist\u001b[39m[\u001b[38;5;28mstr\u001b[39m]:\n\u001b[1;32m    572\u001b[0m \u001b[38;5;250m    \u001b[39m\u001b[38;5;124;03m\"\"\"\u001b[39;00m\n\u001b[1;32m    573\u001b[0m \u001b[38;5;124;03m    Return a list of keys for the catalog entries.\u001b[39;00m\n\u001b[1;32m    574\u001b[0m \u001b[38;5;124;03m    \"\"\"\u001b[39;00m\n\u001b[0;32m--> 575\u001b[0m     \u001b[38;5;28;01mreturn\u001b[39;00m \u001b[38;5;28;43mself\u001b[39;49m\u001b[38;5;241;43m.\u001b[39;49m\u001b[43munique\u001b[49m\u001b[43m(\u001b[49m\u001b[43m)\u001b[49m\u001b[43m[\u001b[49m\u001b[38;5;28;43mself\u001b[39;49m\u001b[38;5;241;43m.\u001b[39;49m\u001b[43mname_column\u001b[49m\u001b[43m]\u001b[49m\n",
      "File \u001b[0;32m/g/data/tm70/ds0092/software/mambaforge/envs/catalog-manager-dev/lib/python3.10/site-packages/pandas/core/series.py:981\u001b[0m, in \u001b[0;36mSeries.__getitem__\u001b[0;34m(self, key)\u001b[0m\n\u001b[1;32m    978\u001b[0m     \u001b[38;5;28;01mreturn\u001b[39;00m \u001b[38;5;28mself\u001b[39m\u001b[38;5;241m.\u001b[39m_values[key]\n\u001b[1;32m    980\u001b[0m \u001b[38;5;28;01melif\u001b[39;00m key_is_scalar:\n\u001b[0;32m--> 981\u001b[0m     \u001b[38;5;28;01mreturn\u001b[39;00m \u001b[38;5;28;43mself\u001b[39;49m\u001b[38;5;241;43m.\u001b[39;49m\u001b[43m_get_value\u001b[49m\u001b[43m(\u001b[49m\u001b[43mkey\u001b[49m\u001b[43m)\u001b[49m\n\u001b[1;32m    983\u001b[0m \u001b[38;5;28;01mif\u001b[39;00m is_hashable(key):\n\u001b[1;32m    984\u001b[0m     \u001b[38;5;66;03m# Otherwise index.get_value will raise InvalidIndexError\u001b[39;00m\n\u001b[1;32m    985\u001b[0m     \u001b[38;5;28;01mtry\u001b[39;00m:\n\u001b[1;32m    986\u001b[0m         \u001b[38;5;66;03m# For labels that don't resolve as scalars like tuples and frozensets\u001b[39;00m\n",
      "File \u001b[0;32m/g/data/tm70/ds0092/software/mambaforge/envs/catalog-manager-dev/lib/python3.10/site-packages/pandas/core/series.py:1089\u001b[0m, in \u001b[0;36mSeries._get_value\u001b[0;34m(self, label, takeable)\u001b[0m\n\u001b[1;32m   1086\u001b[0m     \u001b[38;5;28;01mreturn\u001b[39;00m \u001b[38;5;28mself\u001b[39m\u001b[38;5;241m.\u001b[39m_values[label]\n\u001b[1;32m   1088\u001b[0m \u001b[38;5;66;03m# Similar to Index.get_value, but we do not fall back to positional\u001b[39;00m\n\u001b[0;32m-> 1089\u001b[0m loc \u001b[38;5;241m=\u001b[39m \u001b[38;5;28;43mself\u001b[39;49m\u001b[38;5;241;43m.\u001b[39;49m\u001b[43mindex\u001b[49m\u001b[38;5;241;43m.\u001b[39;49m\u001b[43mget_loc\u001b[49m\u001b[43m(\u001b[49m\u001b[43mlabel\u001b[49m\u001b[43m)\u001b[49m\n\u001b[1;32m   1090\u001b[0m \u001b[38;5;28;01mreturn\u001b[39;00m \u001b[38;5;28mself\u001b[39m\u001b[38;5;241m.\u001b[39mindex\u001b[38;5;241m.\u001b[39m_get_values_for_loc(\u001b[38;5;28mself\u001b[39m, loc, label)\n",
      "File \u001b[0;32m/g/data/tm70/ds0092/software/mambaforge/envs/catalog-manager-dev/lib/python3.10/site-packages/pandas/core/indexes/base.py:3804\u001b[0m, in \u001b[0;36mIndex.get_loc\u001b[0;34m(self, key, method, tolerance)\u001b[0m\n\u001b[1;32m   3802\u001b[0m     \u001b[38;5;28;01mreturn\u001b[39;00m \u001b[38;5;28mself\u001b[39m\u001b[38;5;241m.\u001b[39m_engine\u001b[38;5;241m.\u001b[39mget_loc(casted_key)\n\u001b[1;32m   3803\u001b[0m \u001b[38;5;28;01mexcept\u001b[39;00m \u001b[38;5;167;01mKeyError\u001b[39;00m \u001b[38;5;28;01mas\u001b[39;00m err:\n\u001b[0;32m-> 3804\u001b[0m     \u001b[38;5;28;01mraise\u001b[39;00m \u001b[38;5;167;01mKeyError\u001b[39;00m(key) \u001b[38;5;28;01mfrom\u001b[39;00m \u001b[38;5;21;01merr\u001b[39;00m\n\u001b[1;32m   3805\u001b[0m \u001b[38;5;28;01mexcept\u001b[39;00m \u001b[38;5;167;01mTypeError\u001b[39;00m:\n\u001b[1;32m   3806\u001b[0m     \u001b[38;5;66;03m# If we have a listlike key, _check_indexing_error will raise\u001b[39;00m\n\u001b[1;32m   3807\u001b[0m     \u001b[38;5;66;03m#  InvalidIndexError. Otherwise we fall through and re-raise\u001b[39;00m\n\u001b[1;32m   3808\u001b[0m     \u001b[38;5;66;03m#  the TypeError.\u001b[39;00m\n\u001b[1;32m   3809\u001b[0m     \u001b[38;5;28mself\u001b[39m\u001b[38;5;241m.\u001b[39m_check_indexing_error(key)\n",
      "\u001b[0;31mKeyError\u001b[0m: 'name'"
     ]
    }
   ],
   "source": [
    "subcat.to_subcatalog()"
   ]
  },
  {
   "cell_type": "code",
   "execution_count": null,
   "id": "95ff7cb4-480b-47f7-8264-bd42ec9c845d",
   "metadata": {},
   "outputs": [],
   "source": []
  }
 ],
 "metadata": {
  "kernelspec": {
   "display_name": "Python (catalog-manager-dev)",
   "language": "python",
   "name": "catalog-manager-dev"
  },
  "language_info": {
   "codemirror_mode": {
    "name": "ipython",
    "version": 3
   },
   "file_extension": ".py",
   "mimetype": "text/x-python",
   "name": "python",
   "nbconvert_exporter": "python",
   "pygments_lexer": "ipython3",
   "version": "3.10.0"
  }
 },
 "nbformat": 4,
 "nbformat_minor": 5
}
