{
 "cells": [
  {
   "cell_type": "markdown",
   "id": "1d643e89-e161-462b-81c8-8a51eed71268",
   "metadata": {},
   "source": [
    "# Generic playspace"
   ]
  },
  {
   "cell_type": "code",
   "execution_count": 1,
   "id": "35000659-384f-4210-9837-1a2fdae681c7",
   "metadata": {
    "tags": []
   },
   "outputs": [],
   "source": [
    "from catalog_manager import esmcat, dfcat, translators"
   ]
  },
  {
   "cell_type": "code",
   "execution_count": 2,
   "id": "f13cc71b-037a-4d77-a244-6a99cbdc252e",
   "metadata": {},
   "outputs": [],
   "source": [
    "dfcat_dir = \"/g/data/tm70/ds0092/projects/nri_intake_catalog/catalogs\"\n",
    "dfcat_name = \"dfcat\""
   ]
  },
  {
   "cell_type": "markdown",
   "id": "cc318e72-d25e-4237-853f-596333356980",
   "metadata": {},
   "source": [
    "## Add existing CMIP6 esm catalog"
   ]
  },
  {
   "cell_type": "code",
   "execution_count": 3,
   "id": "865744d1-8917-4212-bf7f-69967d84caf1",
   "metadata": {
    "tags": []
   },
   "outputs": [],
   "source": [
    "import yaml\n",
    "\n",
    "config = \"/g/data/tm70/ds0092/projects/nri_intake_catalog/config/cmip6.yaml\"\n",
    "\n",
    "with open(config) as f:\n",
    "    config = yaml.safe_load(f)\n",
    "\n",
    "builder = config.get(\"builder\")\n",
    "translator = config.get(\"translator\")\n",
    "metadata = config.get(\"metadata\") or {}\n",
    "subcatalog_dir = config.get(\"subcatalog_dir\")\n",
    "catalogs = config.get(\"catalogs\")"
   ]
  },
  {
   "cell_type": "code",
   "execution_count": 4,
   "id": "dd82da50-12ba-4e66-b94a-a7f8c740408f",
   "metadata": {
    "tags": []
   },
   "outputs": [
    {
     "name": "stdout",
     "output_type": "stream",
     "text": [
      "CPU times: user 18.5 s, sys: 1.16 s, total: 19.7 s\n",
      "Wall time: 19.7 s\n"
     ]
    }
   ],
   "source": [
    "%%time\n",
    "\n",
    "for name, kwargs in catalogs.items():\n",
    "    json_file = kwargs.pop(\"paths\")\n",
    "    assert len(json_file) == 1\n",
    "    json_file = json_file[0]\n",
    "    load_args = dict(\n",
    "        name=name,\n",
    "        description=kwargs.pop(\"description\"),\n",
    "        json_file=json_file,\n",
    "        open_kwargs=kwargs,\n",
    "        **metadata,\n",
    "    )\n",
    "    if translator:\n",
    "        load_args[\"translator\"] = getattr(translators, translator)\n",
    "        \n",
    "    manager = dfcat.CatalogManager.load_esm(**load_args).add(\n",
    "        name=dfcat_name,\n",
    "        directory=dfcat_dir\n",
    "    )"
   ]
  },
  {
   "cell_type": "markdown",
   "id": "f99b4cd0-8605-45dd-a1c4-3eed99993f3c",
   "metadata": {
    "tags": []
   },
   "source": [
    "## Add new esm catalogs from a config file"
   ]
  },
  {
   "cell_type": "code",
   "execution_count": null,
   "id": "20977541-8824-45c8-a4c3-6c49464cab5d",
   "metadata": {
    "tags": []
   },
   "outputs": [],
   "source": [
    "import yaml\n",
    "\n",
    "config = \"/g/data/tm70/ds0092/projects/nri_intake_catalog/config/access-esm1-5.yaml\"\n",
    "\n",
    "with open(config) as f:\n",
    "    config = yaml.safe_load(f)\n",
    "\n",
    "builder = config.get(\"builder\")\n",
    "translator = config.get(\"translator\")\n",
    "metadata = config.get(\"metadata\") or {}\n",
    "subcatalog_dir = config.get(\"subcatalog_dir\")\n",
    "catalogs = config.get(\"catalogs\")"
   ]
  },
  {
   "cell_type": "code",
   "execution_count": null,
   "id": "e007d171-2071-4a6f-b5d1-50580abb9c44",
   "metadata": {
    "tags": []
   },
   "outputs": [],
   "source": [
    "%%time\n",
    "\n",
    "for name, kwargs in catalogs.items():\n",
    "    build_args = dict(\n",
    "        name=name,\n",
    "        description=kwargs.pop(\"description\"),\n",
    "        builder=getattr(esmcat, builder),\n",
    "        paths=kwargs.pop(\"paths\"),\n",
    "        builder_kwargs=kwargs,\n",
    "        directory=subcatalog_dir,\n",
    "        overwrite=True,\n",
    "        **metadata,\n",
    "    )\n",
    "    if translator:\n",
    "        build_args[\"translator\"] = getattr(translators, translator)\n",
    "        \n",
    "    manager = dfcat.CatalogManager.build_esm(**build_args).add(\n",
    "        name=dfcat_name,\n",
    "        directory=dfcat_dir\n",
    "    )"
   ]
  },
  {
   "cell_type": "markdown",
   "id": "a5ca6ff9-867c-4c83-a204-96c6d00fada1",
   "metadata": {},
   "source": [
    "## Use the DF catalog"
   ]
  },
  {
   "cell_type": "code",
   "execution_count": 5,
   "id": "b4709d5b-cd57-47c8-8f6c-593566bd2101",
   "metadata": {},
   "outputs": [],
   "source": [
    "import os\n",
    "import ast\n",
    "import intake\n",
    "import pandas as pd"
   ]
  },
  {
   "cell_type": "code",
   "execution_count": 6,
   "id": "a24828c5-2f10-4dc0-958b-a1d2f11b5b1a",
   "metadata": {
    "tags": []
   },
   "outputs": [
    {
     "data": {
      "text/html": [
       "<p><strong>Intake-dataframe catalog with 22 subcatalog(s) across 708 rows</strong>:</p> <div>\n",
       "<style scoped>\n",
       "    .dataframe tbody tr th:only-of-type {\n",
       "        vertical-align: middle;\n",
       "    }\n",
       "\n",
       "    .dataframe tbody tr th {\n",
       "        vertical-align: top;\n",
       "    }\n",
       "\n",
       "    .dataframe thead th {\n",
       "        text-align: right;\n",
       "    }\n",
       "</style>\n",
       "<table border=\"1\" class=\"dataframe\">\n",
       "  <thead>\n",
       "    <tr style=\"text-align: right;\">\n",
       "      <th></th>\n",
       "      <th>model</th>\n",
       "      <th>description</th>\n",
       "      <th>realm</th>\n",
       "      <th>frequency</th>\n",
       "      <th>variable</th>\n",
       "    </tr>\n",
       "    <tr>\n",
       "      <th>subcatalog</th>\n",
       "      <th></th>\n",
       "      <th></th>\n",
       "      <th></th>\n",
       "      <th></th>\n",
       "      <th></th>\n",
       "    </tr>\n",
       "  </thead>\n",
       "  <tbody>\n",
       "    <tr>\n",
       "      <th>01deg_jra55v13_ryf9091</th>\n",
       "      <td>ACCESS-OM2</td>\n",
       "      <td>0.1 degree ACCESS-OM2 global model configuration with JRA55-do v1.3 RYF9091 repeat year forcing (May 1990 to Apr 1991)</td>\n",
       "      <td>ocean</td>\n",
       "      <td>[1day, 1mon, 3hr, 3mon, fx]</td>\n",
       "      <td>[age_global, area_t, area_u, average_DT, average_T1, average_T2, bih_fric_u, bih_fric_v, buoyfreq2_wt, drag_coeff, dxt, dxu, dyt, dyu, dzt, eta_global, eta_t, evap, evap_heat, fprec, fprec_melt_he...</td>\n",
       "    </tr>\n",
       "    <tr>\n",
       "      <th>01deg_jra55v140_iaf</th>\n",
       "      <td>ACCESS-OM2</td>\n",
       "      <td>Cycle 1/4 of 0.1 degree ACCESS-OM2 global model configuration with JRA55-do v1.4.0 OMIP2 interannual forcing</td>\n",
       "      <td>[ice, ocean]</td>\n",
       "      <td>[1day, 1mon, fx]</td>\n",
       "      <td>[ANGLE, ANGLET, HTE, HTN, Tsfc_m, age_global, aice_m, aicen_m, alidf_ai_m, alidr_ai_m, alvdf_ai_m, alvdr_ai_m, area_t, area_u, average_DT, average_T1, average_T2, bih_fric_u, bih_fric_v, blkmask, ...</td>\n",
       "    </tr>\n",
       "    <tr>\n",
       "      <th>01deg_jra55v140_iaf_cycle2</th>\n",
       "      <td>ACCESS-OM2</td>\n",
       "      <td>Cycle 2/4 of 0.1 degree ACCESS-OM2 global model configuration with JRA55-do v1.4.0 OMIP2 interannual forcing</td>\n",
       "      <td>[ice, ocean]</td>\n",
       "      <td>[1day, 1mon, fx]</td>\n",
       "      <td>[ANGLE, ANGLET, HTE, HTN, Sinz_m, Tinz_m, Tsfc_m, age_global, aice_m, aicen_m, alidf_ai_m, alidr_ai_m, alvdf_ai_m, alvdr_ai_m, area_t, area_u, average_DT, average_T1, average_T2, bih_fric_u, bih_f...</td>\n",
       "    </tr>\n",
       "    <tr>\n",
       "      <th>01deg_jra55v140_iaf_cycle3</th>\n",
       "      <td>ACCESS-OM2</td>\n",
       "      <td>Cycle 3/4 of 0.1 degree ACCESS-OM2 global model configuration with JRA55-do v1.4.0 OMIP2 interannual forcing</td>\n",
       "      <td>[ice, ocean]</td>\n",
       "      <td>[1day, 1mon, fx]</td>\n",
       "      <td>[ANGLE, ANGLET, HTE, HTN, Sinz_m, Tinz_m, Tsfc_m, age_global, aice_m, aicen_m, alidf_ai_m, alidr_ai_m, alvdf_ai_m, alvdr_ai_m, area_t, area_u, average_DT, average_T1, average_T2, blkmask, bmf_u, b...</td>\n",
       "    </tr>\n",
       "    <tr>\n",
       "      <th>01deg_jra55v140_iaf_cycle4</th>\n",
       "      <td>ACCESS-OM2</td>\n",
       "      <td>Cycle 4/4 of 0.1 degree ACCESS-OM2 + WOMBAT BGC global model configuration with JRA55-do v1.4.0 OMIP2 interannual forcing</td>\n",
       "      <td>[ice, ocean]</td>\n",
       "      <td>[1day, 1mon, 3hr, 6hr, fx]</td>\n",
       "      <td>[ANGLE, ANGLET, HTE, HTN, NCAT, PP_net_m, Sinz_m, Tinz_m, Tsfc_m, VGRDi, adic, adic_int100, adic_intmld, adic_xflux_adv, adic_yflux_adv, adic_zflux_adv, age_global, aice_h, aice_m, aicen_m, albsni...</td>\n",
       "    </tr>\n",
       "    <tr>\n",
       "      <th>01deg_jra55v140_iaf_cycle4_jra55v150_extension</th>\n",
       "      <td>ACCESS-OM2</td>\n",
       "      <td>Extensions of cycle 4/4 of 0.1 degree ACCESS-OM2 + WOMBAT BGC global model configuration with JRA55-do v1.5.0 and v1.5.0.1 OMIP2 interannual forcing</td>\n",
       "      <td>[ice, ocean]</td>\n",
       "      <td>[0hr, 1day, 1mon, fx]</td>\n",
       "      <td>[ANGLE, ANGLET, HTE, HTN, PP_net_m, Tsfc_m, adic, adic_int100, adic_intmld, adic_xflux_adv, adic_yflux_adv, adic_zflux_adv, age_global, aice_m, aicen_m, albsni_m, algal_N_m, alidf_ai_m, alidr_ai_m...</td>\n",
       "    </tr>\n",
       "    <tr>\n",
       "      <th>01deg_jra55v150_iaf_cycle1</th>\n",
       "      <td>ACCESS-OM2</td>\n",
       "      <td>Cycle 1/1 of 0.1 degree ACCESS-OM2 global model configuration with JRA55-do v1.5.0 OMIP2 interannual forcing</td>\n",
       "      <td>[ice, ocean]</td>\n",
       "      <td>[1day, 1mon, fx]</td>\n",
       "      <td>[ULAT, ULON, age_global, aice_m, area_t, area_u, average_DT, average_T1, average_T2, blkmask, bmf_u, bmf_v, diff_cbt_t, drag_coeff, dxt, dxu, dyt, dyu, dzt, ekman_we, eta_nonbouss, eta_t, evap, ev...</td>\n",
       "    </tr>\n",
       "    <tr>\n",
       "      <th>025deg_jra55_iaf_omip2_cycle1</th>\n",
       "      <td>ACCESS-OM2</td>\n",
       "      <td>Cycle 1/6 of 0.25 degree ACCESS-OM2 physics-only global configuration with JRA55-do v1.4 OMIP2 interannual forcing (1958-2019)</td>\n",
       "      <td>[ice, ocean]</td>\n",
       "      <td>[1day, 1mon, 1yr, fx]</td>\n",
       "      <td>[ANGLE, ANGLET, HTE, HTN, Tair_m, Tsfc_m, age_global, agm, aice_m, aicen_m, aiso_bih, albice_m, albsni_m, albsno_m, alidf_ai_m, alidr_ai_m, alvdf_ai_m, alvdr_ai_m, area_t, area_u, aredi, average_D...</td>\n",
       "    </tr>\n",
       "    <tr>\n",
       "      <th>025deg_jra55_iaf_omip2_cycle2</th>\n",
       "      <td>ACCESS-OM2</td>\n",
       "      <td>Cycle 2/6 of 0.25 degree ACCESS-OM2 physics-only global configuration with JRA55-do v1.4 OMIP2 interannual forcing (1958-2019)</td>\n",
       "      <td>[ice, ocean]</td>\n",
       "      <td>[1day, 1mon, 1yr, fx]</td>\n",
       "      <td>[ANGLE, ANGLET, HTE, HTN, Tair_m, Tsfc_m, age_global, agm, aice_m, aicen_m, aiso_bih, albice_m, albsni_m, albsno_m, alidf_ai_m, alidr_ai_m, alvdf_ai_m, alvdr_ai_m, area_t, area_u, aredi, average_D...</td>\n",
       "    </tr>\n",
       "    <tr>\n",
       "      <th>025deg_jra55_iaf_omip2_cycle3</th>\n",
       "      <td>ACCESS-OM2</td>\n",
       "      <td>Cycle 3/6 of 0.25 degree ACCESS-OM2 physics-only global configuration with JRA55-do v1.4 OMIP2 interannual forcing (1958-2019)</td>\n",
       "      <td>[ice, ocean]</td>\n",
       "      <td>[1day, 1mon, 1yr, fx]</td>\n",
       "      <td>[ANGLE, ANGLET, HTE, HTN, Tair_m, Tsfc_m, age_global, agm, aice_m, aicen_m, aiso_bih, albice_m, albsni_m, albsno_m, alidf_ai_m, alidr_ai_m, alvdf_ai_m, alvdr_ai_m, area_t, area_u, aredi, average_D...</td>\n",
       "    </tr>\n",
       "    <tr>\n",
       "      <th>025deg_jra55_iaf_omip2_cycle4</th>\n",
       "      <td>ACCESS-OM2</td>\n",
       "      <td>Cycle 4/6 of 0.25 degree ACCESS-OM2 physics-only global configuration with JRA55-do v1.4 OMIP2 interannual forcing (1958-2019)</td>\n",
       "      <td>[ice, ocean]</td>\n",
       "      <td>[1day, 1mon, 1yr, fx]</td>\n",
       "      <td>[ANGLE, ANGLET, HTE, HTN, Tair_m, Tsfc_m, age_global, agm, aice_m, aicen_m, aiso_bih, albice_m, albsni_m, albsno_m, alidf_ai_m, alidr_ai_m, alvdf_ai_m, alvdr_ai_m, area_t, area_u, aredi, average_D...</td>\n",
       "    </tr>\n",
       "    <tr>\n",
       "      <th>025deg_jra55_iaf_omip2_cycle5</th>\n",
       "      <td>ACCESS-OM2</td>\n",
       "      <td>Cycle 5/6 of 0.25 degree ACCESS-OM2 physics-only global configuration with JRA55-do v1.4 OMIP2 interannual forcing (1958-2019)</td>\n",
       "      <td>[ice, ocean]</td>\n",
       "      <td>[1day, 1mon, 1yr, fx]</td>\n",
       "      <td>[ANGLE, ANGLET, HTE, HTN, Tair_m, Tsfc_m, age_global, agm, aice_m, aicen_m, aiso_bih, albice_m, albsni_m, albsno_m, alidf_ai_m, alidr_ai_m, alvdf_ai_m, alvdr_ai_m, area_t, area_u, aredi, average_D...</td>\n",
       "    </tr>\n",
       "    <tr>\n",
       "      <th>025deg_jra55_iaf_omip2_cycle6</th>\n",
       "      <td>ACCESS-OM2</td>\n",
       "      <td>Cycle 6/6 of 0.25 degree ACCESS-OM2 physics-only global configuration with JRA55-do v1.4 OMIP2 interannual forcing (1958-2019)</td>\n",
       "      <td>[ice, ocean]</td>\n",
       "      <td>[1day, 1mon, fx]</td>\n",
       "      <td>[ANGLE, ANGLET, HTE, HTN, Tair_m, Tsfc_m, age_global, agm, aice_m, aicen_m, aiso_bih, albice_m, albsni_m, albsno_m, alidf_ai_m, alidr_ai_m, alvdf_ai_m, alvdr_ai_m, area_t, area_u, aredi, average_D...</td>\n",
       "    </tr>\n",
       "    <tr>\n",
       "      <th>025deg_jra55_ryf9091_gadi</th>\n",
       "      <td>ACCESS-OM2</td>\n",
       "      <td>0.25 degree ACCESS-OM2 physics-only global configuration with JRA55-do v1.3 RYF9091 repeat year forcing (May 1990 to Apr 1991)</td>\n",
       "      <td>ocean</td>\n",
       "      <td>[1mon, 1yr, fx]</td>\n",
       "      <td>[age_global, area_t, area_u, average_DT, average_T1, average_T2, diff_cbt_t, drag_coeff, dxt, dxu, dyt, dyu, dzt, eta_global, eta_t, frazil_3d_int_z, ht, hu, ke_tot, kmt, kmu, mld, net_sfc_heating...</td>\n",
       "    </tr>\n",
       "    <tr>\n",
       "      <th>1deg_jra55_iaf_omip2_cycle1</th>\n",
       "      <td>ACCESS-OM2</td>\n",
       "      <td>Cycle 1/6 of 1 degree ACCESS-OM2-BGC global configuration with JRA55-do v1.4 OMIP2 interannual forcing (1958-2019)</td>\n",
       "      <td>[ice, ocean]</td>\n",
       "      <td>[1day, 1mon, 1yr, fx]</td>\n",
       "      <td>[ANGLE, ANGLET, HTE, HTN, Tair_m, Tsfc_m, adic, age_global, agm, aice_m, aicen_m, aiso_bih, albice_m, albsni_m, albsno_m, alidf_ai_m, alidr_ai_m, alk, alvdf_ai_m, alvdr_ai_m, area_t, area_u, aredi...</td>\n",
       "    </tr>\n",
       "    <tr>\n",
       "      <th>1deg_jra55_iaf_omip2_cycle2</th>\n",
       "      <td>ACCESS-OM2</td>\n",
       "      <td>Cycle 2/6 of 1 degree ACCESS-OM2-BGC global configuration with JRA55-do v1.4 OMIP2 interannual forcing (1958-2019)</td>\n",
       "      <td>[ice, ocean]</td>\n",
       "      <td>[1day, 1mon, 1yr, fx]</td>\n",
       "      <td>[ANGLE, ANGLET, HTE, HTN, Tair_m, Tsfc_m, adic, age_global, agm, aice_m, aicen_m, aiso_bih, albice_m, albsni_m, albsno_m, alidf_ai_m, alidr_ai_m, alk, alvdf_ai_m, alvdr_ai_m, area_t, area_u, aredi...</td>\n",
       "    </tr>\n",
       "    <tr>\n",
       "      <th>1deg_jra55_iaf_omip2_cycle3</th>\n",
       "      <td>ACCESS-OM2</td>\n",
       "      <td>Cycle 3/6 of 1 degree ACCESS-OM2-BGC global configuration with JRA55-do v1.4 OMIP2 interannual forcing (1958-2019)</td>\n",
       "      <td>[ice, ocean]</td>\n",
       "      <td>[1day, 1mon, 1yr, fx]</td>\n",
       "      <td>[ANGLE, ANGLET, HTE, HTN, Tair_m, Tsfc_m, adic, age_global, agm, aice_m, aicen_m, aiso_bih, albice_m, albsni_m, albsno_m, alidf_ai_m, alidr_ai_m, alk, alvdf_ai_m, alvdr_ai_m, area_t, area_u, aredi...</td>\n",
       "    </tr>\n",
       "    <tr>\n",
       "      <th>1deg_jra55_iaf_omip2_cycle4</th>\n",
       "      <td>ACCESS-OM2</td>\n",
       "      <td>Cycle 4/6 of 1 degree ACCESS-OM2-BGC global configuration with JRA55-do v1.4 OMIP2 interannual forcing (1958-2019)</td>\n",
       "      <td>[ice, ocean]</td>\n",
       "      <td>[1day, 1mon, 1yr, fx]</td>\n",
       "      <td>[ANGLE, ANGLET, HTE, HTN, Tair_m, Tsfc_m, adic, age_global, agm, aice_m, aicen_m, aiso_bih, albice_m, albsni_m, albsno_m, alidf_ai_m, alidr_ai_m, alk, alvdf_ai_m, alvdr_ai_m, area_t, area_u, aredi...</td>\n",
       "    </tr>\n",
       "    <tr>\n",
       "      <th>1deg_jra55_iaf_omip2_cycle5</th>\n",
       "      <td>ACCESS-OM2</td>\n",
       "      <td>Cycle 5/6 of 1 degree ACCESS-OM2-BGC global configuration with JRA55-do v1.4 OMIP2 interannual forcing (1958-2019)</td>\n",
       "      <td>[ice, ocean]</td>\n",
       "      <td>[1day, 1mon, 1yr, fx]</td>\n",
       "      <td>[ANGLE, ANGLET, HTE, HTN, Tair_m, Tsfc_m, adic, age_global, agm, aice_m, aicen_m, aiso_bih, albice_m, albsni_m, albsno_m, alidf_ai_m, alidr_ai_m, alk, alvdf_ai_m, alvdr_ai_m, area_t, area_u, aredi...</td>\n",
       "    </tr>\n",
       "    <tr>\n",
       "      <th>1deg_jra55_iaf_omip2_cycle6</th>\n",
       "      <td>ACCESS-OM2</td>\n",
       "      <td>Cycle 6/6 of 1 degree ACCESS-OM2-BGC global configuration with JRA55-do v1.4 OMIP2 interannual forcing (1958-2019)</td>\n",
       "      <td>[ice, ocean]</td>\n",
       "      <td>[1day, 1mon, 1yr, fx]</td>\n",
       "      <td>[ANGLE, ANGLET, HTE, HTN, Tair_m, Tsfc_m, adic, age_global, agm, aice_m, aicen_m, aiso_bih, albice_m, albsni_m, albsno_m, alidf_ai_m, alidr_ai_m, alk, alvdf_ai_m, alvdr_ai_m, area_t, area_u, aredi...</td>\n",
       "    </tr>\n",
       "    <tr>\n",
       "      <th>1deg_jra55_ryf9091_gadi</th>\n",
       "      <td>ACCESS-OM2</td>\n",
       "      <td>1 degree ACCESS-OM2 physics-only global configuration with JRA55-do v1.3 RYF9091 repeat year forcing (May 1990 to Apr 1991)</td>\n",
       "      <td>ocean</td>\n",
       "      <td>[1mon, 1yr, fx]</td>\n",
       "      <td>[age_global, area_t, area_u, average_DT, average_T1, average_T2, bmf_u, bmf_v, dHdt, dVdt, diff_cbt_t, drag_coeff, dxt, dxu, dyt, dyu, dzt, eta_global, eta_t, evap, frazil_3d, frazil_3d_int_z, fra...</td>\n",
       "    </tr>\n",
       "    <tr>\n",
       "      <th>CMIP6_CMS</th>\n",
       "      <td>[ACCESS-CM2, ACCESS-ESM1-5, ACCESS-OM2, ACCESS-OM2-025, AWI-CM-1-1-MR, AWI-ESM-1-1-LR, BCC-CSM2-HR, BCC-CSM2-MR, BCC-ESM1, CAMS-CSM1-0, CAS-ESM2-0, CESM1-1-CAM5-CMIP5, CESM1-CAM5-SE-HR, CESM1-CAM5...</td>\n",
       "      <td>Available CMIP6 replicas indexed by CLEX-CMS</td>\n",
       "      <td>[atmos, ice, land, multi, ocean]</td>\n",
       "      <td>[1day, 1hr, 1mon, 1yr, 3hr, 6hr, subhr]</td>\n",
       "      <td>[abs550aer, agessc, albisccp, arag, aragos, baresoilFrac, bigthetao, bigthetaoga, bldep, burntFractionAll, c3PftFrac, c4PftFrac, cCwd, cLand, cLeaf, cLitter, cLitterAbove, cLitterBelow, cLitterCwd...</td>\n",
       "    </tr>\n",
       "  </tbody>\n",
       "</table>\n",
       "</div>"
      ],
      "text/plain": [
       "<IPython.core.display.HTML object>"
      ]
     },
     "metadata": {},
     "output_type": "display_data"
    }
   ],
   "source": [
    "cat = intake.open_df_catalog(\n",
    "    os.path.join(dfcat_dir, f\"{dfcat_name}.csv\"),\n",
    "    name_column=\"subcatalog\",\n",
    "    columns_with_iterables=[\"variable\"],\n",
    ")\n",
    "\n",
    "cat"
   ]
  },
  {
   "cell_type": "code",
   "execution_count": null,
   "id": "98be24a1-831c-4936-bb2a-14e2d9a6bc47",
   "metadata": {},
   "outputs": [],
   "source": [
    "cat2 = cat.search(model=\"ACCESS-ESM1-5\")\n",
    "\n",
    "cat2"
   ]
  },
  {
   "cell_type": "code",
   "execution_count": null,
   "id": "95ff7cb4-480b-47f7-8264-bd42ec9c845d",
   "metadata": {},
   "outputs": [],
   "source": [
    "subcat_dict = cat2.to_subcatalog_dict()"
   ]
  },
  {
   "cell_type": "code",
   "execution_count": null,
   "id": "63ee4ca7-ddce-4214-9e11-0a94c46a6cab",
   "metadata": {
    "tags": []
   },
   "outputs": [],
   "source": [
    "subcat_dict"
   ]
  },
  {
   "cell_type": "markdown",
   "id": "64c0db2e-1a6c-4390-9078-beb5e0df2c86",
   "metadata": {},
   "source": [
    "# COSIMA"
   ]
  },
  {
   "cell_type": "code",
   "execution_count": null,
   "id": "c90ecf90-fc7d-4249-8e6a-369002d50170",
   "metadata": {
    "tags": []
   },
   "outputs": [],
   "source": [
    "Builder = esmcat.AccessOm2Builder(\n",
    "    [\"/g/data/cj50/access-om2/raw-output/access-om2-01/01deg_jra55v140_iaf\"]\n",
    ").build(\n",
    ").save(\n",
    "    \"delete\", \"delete me\", \"/g/data/tm70/ds0092/projects/nri_intake_catalog/catalogs\"\n",
    ")"
   ]
  },
  {
   "cell_type": "code",
   "execution_count": null,
   "id": "efd329a6-7155-4847-b022-a1ea9aceabae",
   "metadata": {
    "tags": []
   },
   "outputs": [],
   "source": [
    "import intake\n",
    "\n",
    "test = intake.open_esm_datastore(\n",
    "    \"/g/data/tm70/ds0092/projects/nri_intake_catalog/catalogs/delete.json\",\n",
    "    columns_with_iterables=[\"variable\"]\n",
    ")"
   ]
  },
  {
   "cell_type": "code",
   "execution_count": null,
   "id": "2c7a75b6-9cf2-4a5c-8e3d-5375de288b5b",
   "metadata": {
    "tags": []
   },
   "outputs": [],
   "source": [
    "from distributed import Client\n",
    "\n",
    "client = Client()\n",
    "client"
   ]
  },
  {
   "cell_type": "code",
   "execution_count": null,
   "id": "42d7c22e-e7e4-41d2-94a7-785e9ea3a2cc",
   "metadata": {
    "tags": []
   },
   "outputs": [],
   "source": [
    "subtest = test.search(variable=\"wt\", frequency=\"1mon\")\n",
    "subtest"
   ]
  },
  {
   "cell_type": "code",
   "execution_count": null,
   "id": "a2e296e5-ee6f-4bd3-ac1f-9e6eb0cb8951",
   "metadata": {
    "tags": []
   },
   "outputs": [],
   "source": [
    "ds = subtest.to_dask(xarray_open_kwargs=dict(use_cftime=True))"
   ]
  },
  {
   "cell_type": "code",
   "execution_count": null,
   "id": "889cc8a5-f314-4259-aa81-93de9bc36e9a",
   "metadata": {
    "tags": []
   },
   "outputs": [],
   "source": [
    "ds[\"wt\"].isel(time=0, sw_ocean=0).plot()"
   ]
  },
  {
   "cell_type": "markdown",
   "id": "be69fba0-9296-4291-ace8-18f2df458b43",
   "metadata": {},
   "source": [
    "# Parsing `file_id`"
   ]
  },
  {
   "cell_type": "code",
   "execution_count": null,
   "id": "c93311a2-6b3a-482e-84cb-a6dbf4957d23",
   "metadata": {
    "tags": []
   },
   "outputs": [],
   "source": [
    "files = [\n",
    "    \"bz687a.pm107912_mon.nc\",\n",
    "    \"bz687a.p7107912_mon.nc\",\n",
    "    \"iceh.1917-05.nc\",\n",
    "    \"iceh.1917-05-daily.nc\",\n",
    "    \"ocean_month.nc\",\n",
    "    \"ocean.nc\",\n",
    "    \"ocean-3d-v-1-monthly-pow02-ym_1958_04.nc\",\n",
    "    \"ocean-2d-sfc_salt_flux_restore-1-monthly-mean-ym_1958_04.nc\",\n",
    "    \"PI-GWL-B2035.pe-109904_dai.nc\",\n",
    "    \"PI-GWL-B2035.pa-109904_mon.nc\",\n",
    "    \"PI-1pct-02.pe-011802_dai.nc_dai.nc\",\n",
    "    \"iceh.0101-01.nc\",\n",
    "    \"ocean_bgc_ann.nc-01551231\",\n",
    "    \"ocean_bgc_daily.nc-02971231\",\n",
    "    \"ocean_bgc_mth.nc-03011231\",\n",
    "    \"ocean_bgc.nc-02011231\",\n",
    "    \"ocean_daily.nc-02531231\",\n",
    "    \"ocean_month.nc-01991231\",\n",
    "    \"ocean_scalar.nc-01851231\",\n",
    "]"
   ]
  },
  {
   "cell_type": "code",
   "execution_count": null,
   "id": "3a1fcae4-4fe5-4848-a90d-66979cf5c0b7",
   "metadata": {},
   "outputs": [],
   "source": [
    "import re\n",
    "from pathlib import Path\n",
    "\n",
    "for file in files:\n",
    "filename = Path(file).stem\n",
    "# Remove dates dddd-dd, dddddd, dddddddd, starting from right\n",
    "file_id = re.sub(r\"(\\d{4}[-_]\\d{2}|\\d{6}|\\d{8})(([^0-9]|$))(.*)$\", r\"\\3\\4\", filename)\n",
    "# Enforce Python characters\n",
    "file_id = re.sub(r\"[-.]\", \"_\", file_id)\n",
    "# Remove any double or dangling _\n",
    "file_id = re.sub(r\"__\", \"_\", file_id).rstrip(\"_\")\n",
    "    print(file_id)"
   ]
  },
  {
   "cell_type": "code",
   "execution_count": null,
   "id": "d0056ffe-bcfc-4b76-b918-a9d48480991d",
   "metadata": {
    "tags": []
   },
   "outputs": [],
   "source": [
    "import re\n",
    "from pathlib import Path\n",
    "\n",
    "for file in files:\n",
    "    filename = Path(file).stem\n",
    "\n",
    "    file_id = re.sub(\n",
    "        r\"[-.]\", \n",
    "        \"_\",\n",
    "        re.sub(\n",
    "            r\"[-_.](\\d{4}[-_]\\d{2}|\\d{6}|\\d{8})\", r'boo\\2', filename\n",
    "        )\n",
    "    )\n",
    "    print(file, file_id)"
   ]
  },
  {
   "cell_type": "code",
   "execution_count": null,
   "id": "90f8a5e5-f712-4c86-b083-fd592a71a6d5",
   "metadata": {},
   "outputs": [],
   "source": []
  }
 ],
 "metadata": {
  "kernelspec": {
   "display_name": "Python (catalog-manager-dev)",
   "language": "python",
   "name": "catalog-manager-dev"
  },
  "language_info": {
   "codemirror_mode": {
    "name": "ipython",
    "version": 3
   },
   "file_extension": ".py",
   "mimetype": "text/x-python",
   "name": "python",
   "nbconvert_exporter": "python",
   "pygments_lexer": "ipython3",
   "version": "3.10.0"
  }
 },
 "nbformat": 4,
 "nbformat_minor": 5
}
