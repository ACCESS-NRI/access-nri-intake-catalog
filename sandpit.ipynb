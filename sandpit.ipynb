{
 "cells": [
  {
   "cell_type": "markdown",
   "id": "1d643e89-e161-462b-81c8-8a51eed71268",
   "metadata": {},
   "source": [
    "# Generic playspace"
   ]
  },
  {
   "cell_type": "code",
   "execution_count": 1,
   "id": "666c05f7-a8c3-4821-be6e-bee2787884cf",
   "metadata": {
    "tags": []
   },
   "outputs": [
    {
     "name": "stderr",
     "output_type": "stream",
     "text": [
      "/g/data/tm70/ds0092/software/mambaforge/envs/catalog-manager-dev/lib/python3.10/site-packages/fastprogress/fastprogress.py:107: UserWarning: Couldn't import ipywidgets properly, progress bar will use console behavior\n",
      "  warn(\"Couldn't import ipywidgets properly, progress bar will use console behavior\")\n"
     ]
    }
   ],
   "source": [
    "from catalog_manager.parsers import CosimaParser"
   ]
  },
  {
   "cell_type": "code",
   "execution_count": 2,
   "id": "8ba1eb10-3f3a-49c0-b91b-8d360128e354",
   "metadata": {
    "tags": []
   },
   "outputs": [],
   "source": [
    "import multiprocessing\n",
    "\n",
    "parser = CosimaParser(\n",
    "    paths=[\"/g/data/ik11/outputs/access-om2/1deg_jra55_ryf9091_gadi\"],\n",
    "    depth=3,\n",
    "    exclude_patterns=[\"*/restart*/*\", \"*o2i.nc\"],\n",
    "    include_patterns=[\"*.nc\"],\n",
    "    joblib_parallel_kwargs={\"n_jobs\": multiprocessing.cpu_count()},\n",
    ")"
   ]
  },
  {
   "cell_type": "code",
   "execution_count": 3,
   "id": "6f23dccd-7d6f-4751-9478-38a1f06327dc",
   "metadata": {
    "tags": []
   },
   "outputs": [
    {
     "data": {
      "text/plain": [
       "['/g/data/ik11/outputs/access-om2/1deg_jra55_ryf9091_gadi/output000/ice/OUTPUT/iceh.1900-01.nc',\n",
       " '/g/data/ik11/outputs/access-om2/1deg_jra55_ryf9091_gadi/output000/ice/OUTPUT/iceh.1900-02.nc',\n",
       " '/g/data/ik11/outputs/access-om2/1deg_jra55_ryf9091_gadi/output000/ice/OUTPUT/iceh.1900-03.nc',\n",
       " '/g/data/ik11/outputs/access-om2/1deg_jra55_ryf9091_gadi/output000/ice/OUTPUT/iceh.1900-04.nc',\n",
       " '/g/data/ik11/outputs/access-om2/1deg_jra55_ryf9091_gadi/output000/ice/OUTPUT/iceh.1900-05.nc']"
      ]
     },
     "execution_count": 3,
     "metadata": {},
     "output_type": "execute_result"
    }
   ],
   "source": [
    "parser.get_assets()\n",
    "parser.assets = parser.assets[:5]\n",
    "parser.assets"
   ]
  },
  {
   "cell_type": "code",
   "execution_count": 4,
   "id": "03a9f8e0-b317-447d-aae8-108aaf0e6300",
   "metadata": {
    "tags": []
   },
   "outputs": [],
   "source": [
    "parser.validate_parser()"
   ]
  },
  {
   "cell_type": "code",
   "execution_count": 5,
   "id": "186329ff-f54a-4512-a0e0-450282592a03",
   "metadata": {
    "tags": []
   },
   "outputs": [
    {
     "data": {
      "text/html": [
       "<div>\n",
       "<style scoped>\n",
       "    .dataframe tbody tr th:only-of-type {\n",
       "        vertical-align: middle;\n",
       "    }\n",
       "\n",
       "    .dataframe tbody tr th {\n",
       "        vertical-align: top;\n",
       "    }\n",
       "\n",
       "    .dataframe thead th {\n",
       "        text-align: right;\n",
       "    }\n",
       "</style>\n",
       "<table border=\"1\" class=\"dataframe\">\n",
       "  <thead>\n",
       "    <tr style=\"text-align: right;\">\n",
       "      <th></th>\n",
       "      <th>path</th>\n",
       "      <th>realm</th>\n",
       "      <th>variable</th>\n",
       "      <th>filename</th>\n",
       "      <th>start_date</th>\n",
       "      <th>end_date</th>\n",
       "      <th>frequency</th>\n",
       "    </tr>\n",
       "  </thead>\n",
       "  <tbody>\n",
       "    <tr>\n",
       "      <th>0</th>\n",
       "      <td>/g/data/ik11/outputs/access-om2/1deg_jra55_ryf...</td>\n",
       "      <td>[ice]</td>\n",
       "      <td>[time_bounds, tmask, blkmask, tarea, uarea, dx...</td>\n",
       "      <td>iceh.1900-01.nc</td>\n",
       "      <td>1900-01-01, 00:00:00</td>\n",
       "      <td>1900-02-01, 00:00:00</td>\n",
       "      <td>1_monthly</td>\n",
       "    </tr>\n",
       "    <tr>\n",
       "      <th>1</th>\n",
       "      <td>/g/data/ik11/outputs/access-om2/1deg_jra55_ryf...</td>\n",
       "      <td>[ice]</td>\n",
       "      <td>[time_bounds, tmask, blkmask, tarea, uarea, dx...</td>\n",
       "      <td>iceh.1900-02.nc</td>\n",
       "      <td>1900-02-01, 00:00:00</td>\n",
       "      <td>1900-03-01, 00:00:00</td>\n",
       "      <td>1_monthly</td>\n",
       "    </tr>\n",
       "    <tr>\n",
       "      <th>2</th>\n",
       "      <td>/g/data/ik11/outputs/access-om2/1deg_jra55_ryf...</td>\n",
       "      <td>[ice]</td>\n",
       "      <td>[time_bounds, tmask, blkmask, tarea, uarea, dx...</td>\n",
       "      <td>iceh.1900-03.nc</td>\n",
       "      <td>1900-03-01, 00:00:00</td>\n",
       "      <td>1900-04-01, 00:00:00</td>\n",
       "      <td>1_monthly</td>\n",
       "    </tr>\n",
       "    <tr>\n",
       "      <th>3</th>\n",
       "      <td>/g/data/ik11/outputs/access-om2/1deg_jra55_ryf...</td>\n",
       "      <td>[ice]</td>\n",
       "      <td>[time_bounds, tmask, blkmask, tarea, uarea, dx...</td>\n",
       "      <td>iceh.1900-04.nc</td>\n",
       "      <td>1900-04-01, 00:00:00</td>\n",
       "      <td>1900-05-01, 00:00:00</td>\n",
       "      <td>1_monthly</td>\n",
       "    </tr>\n",
       "    <tr>\n",
       "      <th>4</th>\n",
       "      <td>/g/data/ik11/outputs/access-om2/1deg_jra55_ryf...</td>\n",
       "      <td>[ice]</td>\n",
       "      <td>[time_bounds, tmask, blkmask, tarea, uarea, dx...</td>\n",
       "      <td>iceh.1900-05.nc</td>\n",
       "      <td>1900-05-01, 00:00:00</td>\n",
       "      <td>1900-06-01, 00:00:00</td>\n",
       "      <td>1_monthly</td>\n",
       "    </tr>\n",
       "  </tbody>\n",
       "</table>\n",
       "</div>"
      ],
      "text/plain": [
       "                                                path  realm  \\\n",
       "0  /g/data/ik11/outputs/access-om2/1deg_jra55_ryf...  [ice]   \n",
       "1  /g/data/ik11/outputs/access-om2/1deg_jra55_ryf...  [ice]   \n",
       "2  /g/data/ik11/outputs/access-om2/1deg_jra55_ryf...  [ice]   \n",
       "3  /g/data/ik11/outputs/access-om2/1deg_jra55_ryf...  [ice]   \n",
       "4  /g/data/ik11/outputs/access-om2/1deg_jra55_ryf...  [ice]   \n",
       "\n",
       "                                            variable         filename  \\\n",
       "0  [time_bounds, tmask, blkmask, tarea, uarea, dx...  iceh.1900-01.nc   \n",
       "1  [time_bounds, tmask, blkmask, tarea, uarea, dx...  iceh.1900-02.nc   \n",
       "2  [time_bounds, tmask, blkmask, tarea, uarea, dx...  iceh.1900-03.nc   \n",
       "3  [time_bounds, tmask, blkmask, tarea, uarea, dx...  iceh.1900-04.nc   \n",
       "4  [time_bounds, tmask, blkmask, tarea, uarea, dx...  iceh.1900-05.nc   \n",
       "\n",
       "             start_date              end_date  frequency  \n",
       "0  1900-01-01, 00:00:00  1900-02-01, 00:00:00  1_monthly  \n",
       "1  1900-02-01, 00:00:00  1900-03-01, 00:00:00  1_monthly  \n",
       "2  1900-03-01, 00:00:00  1900-04-01, 00:00:00  1_monthly  \n",
       "3  1900-04-01, 00:00:00  1900-05-01, 00:00:00  1_monthly  \n",
       "4  1900-05-01, 00:00:00  1900-06-01, 00:00:00  1_monthly  "
      ]
     },
     "execution_count": 5,
     "metadata": {},
     "output_type": "execute_result"
    }
   ],
   "source": [
    "parser.parse().clean_dataframe()\n",
    "parser.df"
   ]
  },
  {
   "cell_type": "code",
   "execution_count": null,
   "id": "d5749e72-4cb0-418f-aff7-06d5a6f9de9c",
   "metadata": {},
   "outputs": [],
   "source": []
  }
 ],
 "metadata": {
  "kernelspec": {
   "display_name": "Python (catalog-manager-dev)",
   "language": "python",
   "name": "catalog-manager-dev"
  },
  "language_info": {
   "codemirror_mode": {
    "name": "ipython",
    "version": 3
   },
   "file_extension": ".py",
   "mimetype": "text/x-python",
   "name": "python",
   "nbconvert_exporter": "python",
   "pygments_lexer": "ipython3",
   "version": "3.10.0"
  }
 },
 "nbformat": 4,
 "nbformat_minor": 5
}
