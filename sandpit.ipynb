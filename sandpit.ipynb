{
 "cells": [
  {
   "cell_type": "markdown",
   "id": "1d643e89-e161-462b-81c8-8a51eed71268",
   "metadata": {},
   "source": [
    "# Generic playspace"
   ]
  },
  {
   "cell_type": "code",
   "execution_count": 1,
   "id": "35000659-384f-4210-9837-1a2fdae681c7",
   "metadata": {
    "tags": []
   },
   "outputs": [
    {
     "name": "stderr",
     "output_type": "stream",
     "text": [
      "/g/data/tm70/ds0092/software/mambaforge/envs/catalog-manager-dev/lib/python3.10/site-packages/fastprogress/fastprogress.py:107: UserWarning: Couldn't import ipywidgets properly, progress bar will use console behavior\n",
      "  warn(\"Couldn't import ipywidgets properly, progress bar will use console behavior\")\n"
     ]
    }
   ],
   "source": [
    "from catalog_manager import esmcat, dfcat, translators"
   ]
  },
  {
   "cell_type": "code",
   "execution_count": 2,
   "id": "f13cc71b-037a-4d77-a244-6a99cbdc252e",
   "metadata": {},
   "outputs": [],
   "source": [
    "dfcat_dir = \"/g/data/tm70/ds0092/projects/nri_intake_catalog/catalogs\"\n",
    "dfcat_name = \"dfcat\""
   ]
  },
  {
   "cell_type": "markdown",
   "id": "cc318e72-d25e-4237-853f-596333356980",
   "metadata": {},
   "source": [
    "## Add existing CMIP6 esm catalog"
   ]
  },
  {
   "cell_type": "code",
   "execution_count": 3,
   "id": "ad5cca65-4591-4128-9174-12624a4dee63",
   "metadata": {
    "tags": []
   },
   "outputs": [
    {
     "name": "stdout",
     "output_type": "stream",
     "text": [
      "CPU times: user 19.5 s, sys: 16.8 s, total: 36.3 s\n",
      "Wall time: 37.1 s\n"
     ]
    }
   ],
   "source": [
    "%%time\n",
    "\n",
    "manager = dfcat.CatalogManager.load_esm(\n",
    "    \"/g/data/hh5/public/apps/nci-intake-catalogue/esgf/cmip6/catalogue_latest.json\",\n",
    "    translators.Cmip6Translator\n",
    ")\n",
    "manager.add(\n",
    "    name=dfcat_name,\n",
    "    directory=dfcat_dir\n",
    ")"
   ]
  },
  {
   "cell_type": "markdown",
   "id": "f99b4cd0-8605-45dd-a1c4-3eed99993f3c",
   "metadata": {
    "tags": []
   },
   "source": [
    "## Add new esm catalogs from a config file"
   ]
  },
  {
   "cell_type": "code",
   "execution_count": 3,
   "id": "20977541-8824-45c8-a4c3-6c49464cab5d",
   "metadata": {
    "tags": []
   },
   "outputs": [],
   "source": [
    "import yaml\n",
    "\n",
    "config = \"/g/data/tm70/ds0092/projects/nri_intake_catalog/config/accessesm15.yaml\"\n",
    "\n",
    "with open(config) as f:\n",
    "    config = yaml.safe_load(f)\n",
    "    \n",
    "catalogs = config.get(\"catalogs\")\n",
    "builder = getattr(esmcat, config.get(\"builder\"))\n",
    "translator = getattr(translators, config.get(\"translator\"))\n",
    "esmcat_dir = config.get(\"catalog_dir\")"
   ]
  },
  {
   "cell_type": "code",
   "execution_count": 4,
   "id": "e007d171-2071-4a6f-b5d1-50580abb9c44",
   "metadata": {
    "tags": []
   },
   "outputs": [
    {
     "name": "stdout",
     "output_type": "stream",
     "text": [
      "Successfully wrote ESM catalog json file to: file:///g/data/tm70/ds0092/projects/nri_intake_catalog/catalogs/accessesm15/PI_GWL_B2035.json\n",
      "CPU times: user 1min 6s, sys: 6.72 s, total: 1min 13s\n",
      "Wall time: 6min 40s\n"
     ]
    }
   ],
   "source": [
    "%%time\n",
    "\n",
    "for name, kwargs in catalogs.items():\n",
    "    description = kwargs.pop(\"description\")\n",
    "    paths = kwargs.pop(\"paths\")\n",
    "    \n",
    "    manager = dfcat.CatalogManager.build_esm(\n",
    "        name=name,\n",
    "        description=description,\n",
    "        builder=builder,\n",
    "        translator=translator,\n",
    "        paths=paths,\n",
    "        builder_kwargs=kwargs,\n",
    "        directory=esmcat_dir,\n",
    "        overwrite=True,\n",
    "    )\n",
    "    manager.add(\n",
    "        name=dfcat_name,\n",
    "        directory=dfcat_dir\n",
    "    )"
   ]
  },
  {
   "cell_type": "markdown",
   "id": "a5ca6ff9-867c-4c83-a204-96c6d00fada1",
   "metadata": {},
   "source": [
    "## Use the DF catalog"
   ]
  },
  {
   "cell_type": "code",
   "execution_count": 5,
   "id": "b4709d5b-cd57-47c8-8f6c-593566bd2101",
   "metadata": {},
   "outputs": [],
   "source": [
    "import os\n",
    "import ast\n",
    "import intake\n",
    "import pandas as pd"
   ]
  },
  {
   "cell_type": "code",
   "execution_count": 6,
   "id": "a24828c5-2f10-4dc0-958b-a1d2f11b5b1a",
   "metadata": {
    "tags": []
   },
   "outputs": [
    {
     "data": {
      "text/html": [
       "<p><strong>Intake-dataframe catalog with 23 subcatalog(s) across 734 rows</strong>:</p> <div>\n",
       "<style scoped>\n",
       "    .dataframe tbody tr th:only-of-type {\n",
       "        vertical-align: middle;\n",
       "    }\n",
       "\n",
       "    .dataframe tbody tr th {\n",
       "        vertical-align: top;\n",
       "    }\n",
       "\n",
       "    .dataframe thead th {\n",
       "        text-align: right;\n",
       "    }\n",
       "</style>\n",
       "<table border=\"1\" class=\"dataframe\">\n",
       "  <thead>\n",
       "    <tr style=\"text-align: right;\">\n",
       "      <th></th>\n",
       "      <th>description</th>\n",
       "      <th>model</th>\n",
       "      <th>realm</th>\n",
       "      <th>frequency</th>\n",
       "      <th>variable</th>\n",
       "    </tr>\n",
       "    <tr>\n",
       "      <th>subcatalog</th>\n",
       "      <th></th>\n",
       "      <th></th>\n",
       "      <th></th>\n",
       "      <th></th>\n",
       "      <th></th>\n",
       "    </tr>\n",
       "  </thead>\n",
       "  <tbody>\n",
       "    <tr>\n",
       "      <th>01deg_jra55v13_ryf9091</th>\n",
       "      <td>0.1 degree ACCESS-OM2 global model configuration with JRA55-do v1.3 RYF9091 repeat year forcing (May 1990 to Apr 1991)</td>\n",
       "      <td>ACCESS-OM2</td>\n",
       "      <td>[ice, ocean]</td>\n",
       "      <td>[1day, 1mon, 3hr, 3mon, fx]</td>\n",
       "      <td>[ANGLE, ANGLET, HTE, HTN, Tsfc_m, age_global, aice_m, aicen_m, alidf_ai_m, alidr_ai_m, alvdf_ai_m, alvdr_ai_m, area_t, area_u, average_DT, average_T1, average_T2, bih_fric_u, bih_fric_v, blkmask, ...</td>\n",
       "    </tr>\n",
       "    <tr>\n",
       "      <th>01deg_jra55v140_iaf</th>\n",
       "      <td>Cycle 1/4 of 0.1 degree ACCESS-OM2 global model configuration with JRA55-do v1.4.0 OMIP2 interannual forcing</td>\n",
       "      <td>ACCESS-OM2</td>\n",
       "      <td>[ice, ocean]</td>\n",
       "      <td>[1day, 1mon, fx]</td>\n",
       "      <td>[ANGLE, ANGLET, HTE, HTN, NCAT, Tsfc_m, age_global, aice, aice_m, aicen, aicen_m, alidf_ai_m, alidr_ai_m, alvdf_ai_m, alvdr_ai_m, area_t, area_u, average_DT, average_T1, average_T2, bih_fric_u, bi...</td>\n",
       "    </tr>\n",
       "    <tr>\n",
       "      <th>01deg_jra55v140_iaf_cycle2</th>\n",
       "      <td>Cycle 2/4 of 0.1 degree ACCESS-OM2 global model configuration with JRA55-do v1.4.0 OMIP2 interannual forcing</td>\n",
       "      <td>ACCESS-OM2</td>\n",
       "      <td>[ice, ocean]</td>\n",
       "      <td>[1day, 1mon, fx]</td>\n",
       "      <td>[ANGLE, ANGLET, HTE, HTN, NCAT, Sinz, Sinz_m, Tinz, Tinz_m, Tsfc_m, age_global, aice, aice_m, aicen, aicen_m, alidf_ai_m, alidr_ai_m, alvdf_ai_m, alvdr_ai_m, area_t, area_u, average_DT, average_T1...</td>\n",
       "    </tr>\n",
       "    <tr>\n",
       "      <th>01deg_jra55v140_iaf_cycle3</th>\n",
       "      <td>Cycle 3/4 of 0.1 degree ACCESS-OM2 global model configuration with JRA55-do v1.4.0 OMIP2 interannual forcing</td>\n",
       "      <td>ACCESS-OM2</td>\n",
       "      <td>[ice, ocean]</td>\n",
       "      <td>[1day, 1mon, fx]</td>\n",
       "      <td>[ANGLE, ANGLET, HTE, HTN, Sinz, Sinz_m, Tinz, Tinz_m, Tsfc_m, age_global, aice, aice_m, aicen_m, alidf_ai_m, alidr_ai_m, alvdf_ai_m, alvdr_ai_m, area_t, area_u, average_DT, average_T1, average_T2,...</td>\n",
       "    </tr>\n",
       "    <tr>\n",
       "      <th>01deg_jra55v140_iaf_cycle4</th>\n",
       "      <td>Cycle 4/4 of 0.1 degree ACCESS-OM2 + WOMBAT BGC global model configuration with JRA55-do v1.4.0 OMIP2 interannual forcing</td>\n",
       "      <td>ACCESS-OM2</td>\n",
       "      <td>[ice, ocean]</td>\n",
       "      <td>[1day, 1mon, 3hr, 6hr, fx]</td>\n",
       "      <td>[ANGLE, ANGLET, HTE, HTN, NCAT, PP_net, PP_net_m, Sinz, Sinz_m, Tinz, Tinz_m, Tsfc_m, VGRDi, adic, adic_int100, adic_intmld, adic_xflux_adv, adic_yflux_adv, adic_zflux_adv, age_global, aice, aice_...</td>\n",
       "    </tr>\n",
       "    <tr>\n",
       "      <th>01deg_jra55v140_iaf_cycle4_jra55v150_extension</th>\n",
       "      <td>Extensions of cycle 4/4 of 0.1 degree ACCESS-OM2 + WOMBAT BGC global model configuration with JRA55-do v1.5.0 and v1.5.0.1 OMIP2 interannual forcing</td>\n",
       "      <td>ACCESS-OM2</td>\n",
       "      <td>[ice, ocean]</td>\n",
       "      <td>[0hr, 1day, 1mon, fx]</td>\n",
       "      <td>[ANGLE, ANGLET, HTE, HTN, NCAT, PP_net, PP_net_m, Tsfc_m, adic, adic_int100, adic_intmld, adic_xflux_adv, adic_yflux_adv, adic_zflux_adv, age_global, aice, aice_m, aicen_m, albsni, albsni_m, algal...</td>\n",
       "    </tr>\n",
       "    <tr>\n",
       "      <th>01deg_jra55v150_iaf_cycle1</th>\n",
       "      <td>Cycle 1/1 of 0.1 degree ACCESS-OM2 global model configuration with JRA55-do v1.5.0 OMIP2 interannual forcing</td>\n",
       "      <td>ACCESS-OM2</td>\n",
       "      <td>[ice, ocean]</td>\n",
       "      <td>[1day, 1mon, fx]</td>\n",
       "      <td>[ULAT, ULON, age_global, aice, aice_m, area_t, area_u, average_DT, average_T1, average_T2, blkmask, bmf_u, bmf_v, diff_cbt_t, drag_coeff, dxt, dxu, dyt, dyu, dzt, ekman_we, eta_nonbouss, eta_t, ev...</td>\n",
       "    </tr>\n",
       "    <tr>\n",
       "      <th>025deg_jra55_iaf_omip2_cycle1</th>\n",
       "      <td>Cycle 1/6 of 0.25 degree ACCESS-OM2 physics-only global configuration with JRA55-do v1.4 OMIP2 interannual forcing (1958-2019)</td>\n",
       "      <td>ACCESS-OM2</td>\n",
       "      <td>[ice, ocean]</td>\n",
       "      <td>[1day, 1mon, 1yr, fx]</td>\n",
       "      <td>[ANGLE, ANGLET, HTE, HTN, NCAT, Tair_m, Tsfc_m, age_global, agm, aice, aice_m, aicen_m, aiso_bih, albice_m, albsni_m, albsno_m, alidf_ai_m, alidr_ai_m, alvdf_ai_m, alvdr_ai_m, area_t, area_u, ared...</td>\n",
       "    </tr>\n",
       "    <tr>\n",
       "      <th>025deg_jra55_iaf_omip2_cycle2</th>\n",
       "      <td>Cycle 2/6 of 0.25 degree ACCESS-OM2 physics-only global configuration with JRA55-do v1.4 OMIP2 interannual forcing (1958-2019)</td>\n",
       "      <td>ACCESS-OM2</td>\n",
       "      <td>[ice, ocean]</td>\n",
       "      <td>[1day, 1mon, 1yr, fx]</td>\n",
       "      <td>[ANGLE, ANGLET, HTE, HTN, NCAT, Tair_m, Tsfc_m, age_global, agm, aice, aice_m, aicen_m, aiso_bih, albice_m, albsni_m, albsno_m, alidf_ai_m, alidr_ai_m, alvdf_ai_m, alvdr_ai_m, area_t, area_u, ared...</td>\n",
       "    </tr>\n",
       "    <tr>\n",
       "      <th>025deg_jra55_iaf_omip2_cycle3</th>\n",
       "      <td>Cycle 3/6 of 0.25 degree ACCESS-OM2 physics-only global configuration with JRA55-do v1.4 OMIP2 interannual forcing (1958-2019)</td>\n",
       "      <td>ACCESS-OM2</td>\n",
       "      <td>[ice, ocean]</td>\n",
       "      <td>[1day, 1mon, 1yr, fx]</td>\n",
       "      <td>[ANGLE, ANGLET, HTE, HTN, NCAT, Tair_m, Tsfc_m, age_global, agm, aice, aice_m, aicen_m, aiso_bih, albice_m, albsni_m, albsno_m, alidf_ai_m, alidr_ai_m, alvdf_ai_m, alvdr_ai_m, area_t, area_u, ared...</td>\n",
       "    </tr>\n",
       "    <tr>\n",
       "      <th>025deg_jra55_iaf_omip2_cycle4</th>\n",
       "      <td>Cycle 4/6 of 0.25 degree ACCESS-OM2 physics-only global configuration with JRA55-do v1.4 OMIP2 interannual forcing (1958-2019)</td>\n",
       "      <td>ACCESS-OM2</td>\n",
       "      <td>[ice, ocean]</td>\n",
       "      <td>[1day, 1mon, 1yr, fx]</td>\n",
       "      <td>[ANGLE, ANGLET, HTE, HTN, NCAT, Tair_m, Tsfc_m, age_global, agm, aice, aice_m, aicen_m, aiso_bih, albice_m, albsni_m, albsno_m, alidf_ai_m, alidr_ai_m, alvdf_ai_m, alvdr_ai_m, area_t, area_u, ared...</td>\n",
       "    </tr>\n",
       "    <tr>\n",
       "      <th>025deg_jra55_iaf_omip2_cycle5</th>\n",
       "      <td>Cycle 5/6 of 0.25 degree ACCESS-OM2 physics-only global configuration with JRA55-do v1.4 OMIP2 interannual forcing (1958-2019)</td>\n",
       "      <td>ACCESS-OM2</td>\n",
       "      <td>[ice, ocean]</td>\n",
       "      <td>[1day, 1mon, 1yr, fx]</td>\n",
       "      <td>[ANGLE, ANGLET, HTE, HTN, NCAT, Tair_m, Tsfc_m, age_global, agm, aice, aice_m, aicen_m, aiso_bih, albice_m, albsni_m, albsno_m, alidf_ai_m, alidr_ai_m, alvdf_ai_m, alvdr_ai_m, area_t, area_u, ared...</td>\n",
       "    </tr>\n",
       "    <tr>\n",
       "      <th>025deg_jra55_iaf_omip2_cycle6</th>\n",
       "      <td>Cycle 6/6 of 0.25 degree ACCESS-OM2 physics-only global configuration with JRA55-do v1.4 OMIP2 interannual forcing (1958-2019)</td>\n",
       "      <td>ACCESS-OM2</td>\n",
       "      <td>[ice, ocean]</td>\n",
       "      <td>[1day, 1mon, fx]</td>\n",
       "      <td>[ANGLE, ANGLET, HTE, HTN, NCAT, Tair_m, Tsfc_m, age_global, agm, aice, aice_m, aicen_m, aiso_bih, albice_m, albsni_m, albsno_m, alidf_ai_m, alidr_ai_m, alvdf_ai_m, alvdr_ai_m, area_t, area_u, ared...</td>\n",
       "    </tr>\n",
       "    <tr>\n",
       "      <th>025deg_jra55_ryf9091_gadi</th>\n",
       "      <td>0.25 degree ACCESS-OM2 physics-only global configuration with JRA55-do v1.3 RYF9091 repeat year forcing (May 1990 to Apr 1991)</td>\n",
       "      <td>ACCESS-OM2</td>\n",
       "      <td>[ice, ocean]</td>\n",
       "      <td>[1mon, 1yr, fx]</td>\n",
       "      <td>[ANGLE, ANGLET, HTE, HTN, Tair_m, Tsfc_m, age_global, aice_m, aicen_m, albice_m, albsni_m, albsno_m, alidf_ai_m, alidr_ai_m, alvdf_ai_m, alvdr_ai_m, area_t, area_u, average_DT, average_T1, average...</td>\n",
       "    </tr>\n",
       "    <tr>\n",
       "      <th>1deg_jra55_iaf_omip2_cycle1</th>\n",
       "      <td>Cycle 1/6 of 1 degree ACCESS-OM2-BGC global configuration with JRA55-do v1.4 OMIP2 interannual forcing (1958-2019)</td>\n",
       "      <td>ACCESS-OM2</td>\n",
       "      <td>[ice, ocean]</td>\n",
       "      <td>[1day, 1mon, 1yr, fx]</td>\n",
       "      <td>[ANGLE, ANGLET, HTE, HTN, NCAT, Tair_m, Tsfc_m, adic, age_global, agm, aice, aice_m, aicen_m, aiso_bih, albice_m, albsni_m, albsno_m, alidf_ai_m, alidr_ai_m, alk, alvdf_ai_m, alvdr_ai_m, area_t, a...</td>\n",
       "    </tr>\n",
       "    <tr>\n",
       "      <th>1deg_jra55_iaf_omip2_cycle2</th>\n",
       "      <td>Cycle 2/6 of 1 degree ACCESS-OM2-BGC global configuration with JRA55-do v1.4 OMIP2 interannual forcing (1958-2019)</td>\n",
       "      <td>ACCESS-OM2</td>\n",
       "      <td>[ice, ocean]</td>\n",
       "      <td>[1day, 1mon, 1yr, fx]</td>\n",
       "      <td>[ANGLE, ANGLET, HTE, HTN, NCAT, Tair_m, Tsfc_m, adic, age_global, agm, aice, aice_m, aicen_m, aiso_bih, albice_m, albsni_m, albsno_m, alidf_ai_m, alidr_ai_m, alk, alvdf_ai_m, alvdr_ai_m, area_t, a...</td>\n",
       "    </tr>\n",
       "    <tr>\n",
       "      <th>1deg_jra55_iaf_omip2_cycle3</th>\n",
       "      <td>Cycle 3/6 of 1 degree ACCESS-OM2-BGC global configuration with JRA55-do v1.4 OMIP2 interannual forcing (1958-2019)</td>\n",
       "      <td>ACCESS-OM2</td>\n",
       "      <td>[ice, ocean]</td>\n",
       "      <td>[1day, 1mon, 1yr, fx]</td>\n",
       "      <td>[ANGLE, ANGLET, HTE, HTN, NCAT, Tair_m, Tsfc_m, adic, age_global, agm, aice, aice_m, aicen_m, aiso_bih, albice_m, albsni_m, albsno_m, alidf_ai_m, alidr_ai_m, alk, alvdf_ai_m, alvdr_ai_m, area_t, a...</td>\n",
       "    </tr>\n",
       "    <tr>\n",
       "      <th>1deg_jra55_iaf_omip2_cycle4</th>\n",
       "      <td>Cycle 4/6 of 1 degree ACCESS-OM2-BGC global configuration with JRA55-do v1.4 OMIP2 interannual forcing (1958-2019)</td>\n",
       "      <td>ACCESS-OM2</td>\n",
       "      <td>[ice, ocean]</td>\n",
       "      <td>[1day, 1mon, 1yr, fx]</td>\n",
       "      <td>[ANGLE, ANGLET, HTE, HTN, NCAT, Tair_m, Tsfc_m, adic, age_global, agm, aice, aice_m, aicen_m, aiso_bih, albice_m, albsni_m, albsno_m, alidf_ai_m, alidr_ai_m, alk, alvdf_ai_m, alvdr_ai_m, area_t, a...</td>\n",
       "    </tr>\n",
       "    <tr>\n",
       "      <th>1deg_jra55_iaf_omip2_cycle5</th>\n",
       "      <td>Cycle 5/6 of 1 degree ACCESS-OM2-BGC global configuration with JRA55-do v1.4 OMIP2 interannual forcing (1958-2019)</td>\n",
       "      <td>ACCESS-OM2</td>\n",
       "      <td>[ice, ocean]</td>\n",
       "      <td>[1day, 1mon, 1yr, fx]</td>\n",
       "      <td>[ANGLE, ANGLET, HTE, HTN, NCAT, Tair_m, Tsfc_m, adic, age_global, agm, aice, aice_m, aicen_m, aiso_bih, albice_m, albsni_m, albsno_m, alidf_ai_m, alidr_ai_m, alk, alvdf_ai_m, alvdr_ai_m, area_t, a...</td>\n",
       "    </tr>\n",
       "    <tr>\n",
       "      <th>1deg_jra55_iaf_omip2_cycle6</th>\n",
       "      <td>Cycle 6/6 of 1 degree ACCESS-OM2-BGC global configuration with JRA55-do v1.4 OMIP2 interannual forcing (1958-2019)</td>\n",
       "      <td>ACCESS-OM2</td>\n",
       "      <td>[ice, ocean]</td>\n",
       "      <td>[1day, 1mon, 1yr, fx]</td>\n",
       "      <td>[ANGLE, ANGLET, HTE, HTN, NCAT, Tair_m, Tsfc_m, adic, age_global, agm, aice, aice_m, aicen_m, aiso_bih, albice_m, albsni_m, albsno_m, alidf_ai_m, alidr_ai_m, alk, alvdf_ai_m, alvdr_ai_m, area_t, a...</td>\n",
       "    </tr>\n",
       "    <tr>\n",
       "      <th>1deg_jra55_ryf9091_gadi</th>\n",
       "      <td>1 degree ACCESS-OM2 physics-only global configuration with JRA55-do v1.3 RYF9091 repeat year forcing (May 1990 to Apr 1991)</td>\n",
       "      <td>ACCESS-OM2</td>\n",
       "      <td>[ice, ocean]</td>\n",
       "      <td>[1mon, 1yr, fx]</td>\n",
       "      <td>[ANGLE, ANGLET, HTE, HTN, Tair_m, Tsfc_m, age_global, aice_m, aicen_m, albice_m, albsni_m, albsno_m, alidf_ai_m, alidr_ai_m, alvdf_ai_m, alvdr_ai_m, area_t, area_u, average_DT, average_T1, average...</td>\n",
       "    </tr>\n",
       "    <tr>\n",
       "      <th>CMIP6_CMS</th>\n",
       "      <td>Available CMIP6 replicas indexed by CLEX-CMS</td>\n",
       "      <td>[ACCESS-CM2, ACCESS-ESM1-5, ACCESS-OM2, ACCESS-OM2-025, AWI-CM-1-1-MR, AWI-ESM-1-1-LR, BCC-CSM2-HR, BCC-CSM2-MR, BCC-ESM1, CAMS-CSM1-0, CAS-ESM2-0, CESM1-1-CAM5-CMIP5, CESM1-CAM5-SE-HR, CESM1-CAM5...</td>\n",
       "      <td>[atmos, ice, land, multi, ocean]</td>\n",
       "      <td>[1day, 1hr, 1mon, 1yr, 3hr, 6hr, subhr]</td>\n",
       "      <td>[abs550aer, agessc, albisccp, arag, aragos, baresoilFrac, bigthetao, bigthetaoga, bldep, burntFractionAll, c3PftFrac, c4PftFrac, cCwd, cLand, cLeaf, cLitter, cLitterAbove, cLitterBelow, cLitterCwd...</td>\n",
       "    </tr>\n",
       "    <tr>\n",
       "      <th>PI_GWL_B2035</th>\n",
       "      <td>Climate stabilization at different global warming levels, branching from ACCESS-ESM1.5 SSP-EDC-585-13 in 2035 and running with zero CO2 emissions and pre-industrial aerosols</td>\n",
       "      <td>ACCESS-ESM1.5</td>\n",
       "      <td>[atmos, ice, ocean]</td>\n",
       "      <td>[1day, 1mon, 1yr]</td>\n",
       "      <td>[ANGLE, ANGLET, Tsfc, VGRDi, VGRDs, adic, age_global, agm_grid_scaling, aice, aicen, alk, anompb, arag_raw, area_t, area_u, atm_co2, average_DT, average_T1, average_T2, bmf_u, bmf_v, bottom_age_gl...</td>\n",
       "    </tr>\n",
       "  </tbody>\n",
       "</table>\n",
       "</div>"
      ],
      "text/plain": [
       "<IPython.core.display.HTML object>"
      ]
     },
     "metadata": {},
     "output_type": "display_data"
    }
   ],
   "source": [
    "cat = intake.open_df_catalog(\n",
    "    os.path.join(dfcat_dir, f\"{dfcat_name}.csv\"),\n",
    "    name_column=\"subcatalog\",\n",
    "    columns_with_iterables=[\"variable\"],\n",
    ")\n",
    "\n",
    "cat"
   ]
  },
  {
   "cell_type": "code",
   "execution_count": 7,
   "id": "98be24a1-831c-4936-bb2a-14e2d9a6bc47",
   "metadata": {},
   "outputs": [
    {
     "data": {
      "text/html": [
       "<p><strong>Intake-dataframe catalog with 1 subcatalog(s) across 1 rows</strong>:</p> <div>\n",
       "<style scoped>\n",
       "    .dataframe tbody tr th:only-of-type {\n",
       "        vertical-align: middle;\n",
       "    }\n",
       "\n",
       "    .dataframe tbody tr th {\n",
       "        vertical-align: top;\n",
       "    }\n",
       "\n",
       "    .dataframe thead th {\n",
       "        text-align: right;\n",
       "    }\n",
       "</style>\n",
       "<table border=\"1\" class=\"dataframe\">\n",
       "  <thead>\n",
       "    <tr style=\"text-align: right;\">\n",
       "      <th></th>\n",
       "      <th>description</th>\n",
       "      <th>model</th>\n",
       "      <th>realm</th>\n",
       "      <th>frequency</th>\n",
       "      <th>variable</th>\n",
       "    </tr>\n",
       "    <tr>\n",
       "      <th>subcatalog</th>\n",
       "      <th></th>\n",
       "      <th></th>\n",
       "      <th></th>\n",
       "      <th></th>\n",
       "      <th></th>\n",
       "    </tr>\n",
       "  </thead>\n",
       "  <tbody>\n",
       "    <tr>\n",
       "      <th>CMIP6_CMS</th>\n",
       "      <td>Available CMIP6 replicas indexed by CLEX-CMS</td>\n",
       "      <td>EC-Earth3-Veg</td>\n",
       "      <td>land</td>\n",
       "      <td>1mon</td>\n",
       "      <td>[baresoilFrac, burntFractionAll, cCwd, cLeaf, cLitter, cLitterAbove, cLitterBelow, cProduct, cRoot, cSoilFast, cSoilMedium, cSoilSlow, cVeg, cropFrac, evspsblsoi, evspsblveg, fFire, fGrazing, fHar...</td>\n",
       "    </tr>\n",
       "  </tbody>\n",
       "</table>\n",
       "</div>"
      ],
      "text/plain": [
       "<IPython.core.display.HTML object>"
      ]
     },
     "metadata": {},
     "output_type": "display_data"
    }
   ],
   "source": [
    "cat2 = cat.search(variable=\"burntFractionAll\")\n",
    "\n",
    "cat2"
   ]
  },
  {
   "cell_type": "code",
   "execution_count": 8,
   "id": "95ff7cb4-480b-47f7-8264-bd42ec9c845d",
   "metadata": {},
   "outputs": [],
   "source": [
    "subcat_cmip = cat2.to_subcatalog()"
   ]
  },
  {
   "cell_type": "code",
   "execution_count": 9,
   "id": "63ee4ca7-ddce-4214-9e11-0a94c46a6cab",
   "metadata": {
    "tags": []
   },
   "outputs": [
    {
     "data": {
      "text/html": [
       "<p><strong>cmip6 catalog with 380616 dataset(s) from 3435017 asset(s)</strong>:</p> <div>\n",
       "<style scoped>\n",
       "    .dataframe tbody tr th:only-of-type {\n",
       "        vertical-align: middle;\n",
       "    }\n",
       "\n",
       "    .dataframe tbody tr th {\n",
       "        vertical-align: top;\n",
       "    }\n",
       "\n",
       "    .dataframe thead th {\n",
       "        text-align: right;\n",
       "    }\n",
       "</style>\n",
       "<table border=\"1\" class=\"dataframe\">\n",
       "  <thead>\n",
       "    <tr style=\"text-align: right;\">\n",
       "      <th></th>\n",
       "      <th>unique</th>\n",
       "    </tr>\n",
       "  </thead>\n",
       "  <tbody>\n",
       "    <tr>\n",
       "      <th>project</th>\n",
       "      <td>1</td>\n",
       "    </tr>\n",
       "    <tr>\n",
       "      <th>activity_id</th>\n",
       "      <td>15</td>\n",
       "    </tr>\n",
       "    <tr>\n",
       "      <th>institution_id</th>\n",
       "      <td>37</td>\n",
       "    </tr>\n",
       "    <tr>\n",
       "      <th>source_id</th>\n",
       "      <td>104</td>\n",
       "    </tr>\n",
       "    <tr>\n",
       "      <th>experiment_id</th>\n",
       "      <td>89</td>\n",
       "    </tr>\n",
       "    <tr>\n",
       "      <th>member_id</th>\n",
       "      <td>6433</td>\n",
       "    </tr>\n",
       "    <tr>\n",
       "      <th>table_id</th>\n",
       "      <td>30</td>\n",
       "    </tr>\n",
       "    <tr>\n",
       "      <th>variable_id</th>\n",
       "      <td>450</td>\n",
       "    </tr>\n",
       "    <tr>\n",
       "      <th>grid_label</th>\n",
       "      <td>11</td>\n",
       "    </tr>\n",
       "    <tr>\n",
       "      <th>date_range</th>\n",
       "      <td>29516</td>\n",
       "    </tr>\n",
       "    <tr>\n",
       "      <th>path</th>\n",
       "      <td>3435017</td>\n",
       "    </tr>\n",
       "    <tr>\n",
       "      <th>version</th>\n",
       "      <td>841</td>\n",
       "    </tr>\n",
       "    <tr>\n",
       "      <th>derived_variable_id</th>\n",
       "      <td>0</td>\n",
       "    </tr>\n",
       "  </tbody>\n",
       "</table>\n",
       "</div>"
      ],
      "text/plain": [
       "<IPython.core.display.HTML object>"
      ]
     },
     "metadata": {},
     "output_type": "display_data"
    }
   ],
   "source": [
    "subcat_cmip"
   ]
  }
 ],
 "metadata": {
  "kernelspec": {
   "display_name": "Python (catalog-manager-dev)",
   "language": "python",
   "name": "catalog-manager-dev"
  },
  "language_info": {
   "codemirror_mode": {
    "name": "ipython",
    "version": 3
   },
   "file_extension": ".py",
   "mimetype": "text/x-python",
   "name": "python",
   "nbconvert_exporter": "python",
   "pygments_lexer": "ipython3",
   "version": "3.10.0"
  }
 },
 "nbformat": 4,
 "nbformat_minor": 5
}
