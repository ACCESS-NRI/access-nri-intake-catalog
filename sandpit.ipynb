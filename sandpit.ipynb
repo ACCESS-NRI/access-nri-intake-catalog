{
 "cells": [
  {
   "cell_type": "markdown",
   "id": "1d643e89-e161-462b-81c8-8a51eed71268",
   "metadata": {},
   "source": [
    "# Generic playspace"
   ]
  },
  {
   "cell_type": "markdown",
   "id": "3655b70d-48d7-4aa5-9cf2-6f1325b3b76a",
   "metadata": {},
   "source": [
    "## YAML description"
   ]
  },
  {
   "cell_type": "code",
   "execution_count": 2,
   "id": "c511450d-b2dd-4e57-bb29-fce4232a3dd9",
   "metadata": {
    "tags": []
   },
   "outputs": [],
   "source": [
    "import intake\n",
    "\n",
    "cat = intake.open_df_catalog(\n",
    "    \"/g/data/tm70/intake/dfcatalog.csv\",\n",
    "    yaml_column=\"yaml\",\n",
    "    name_column=\"subcatalog\",\n",
    "    columns_with_iterables=[\"variable\"],\n",
    ")"
   ]
  },
  {
   "cell_type": "code",
   "execution_count": 4,
   "id": "f244d140-f483-44fa-ad82-1cc0ce80d1dd",
   "metadata": {
    "tags": []
   },
   "outputs": [
    {
     "name": "stdout",
     "output_type": "stream",
     "text": [
      "sources:\n",
      "  null:\n",
      "    args:\n",
      "      columns_with_iterables:\n",
      "      - variable\n",
      "      name_column: subcatalog\n",
      "      path: /g/data/tm70/intake/dfcatalog.csv\n",
      "      yaml_column: yaml\n",
      "    description: ''\n",
      "    driver: intake_dataframe_catalog.core.DFFileCatalog\n",
      "    metadata: {}\n",
      "\n"
     ]
    }
   ],
   "source": [
    "print(cat.yaml())"
   ]
  },
  {
   "cell_type": "markdown",
   "id": "be69fba0-9296-4291-ace8-18f2df458b43",
   "metadata": {},
   "source": [
    "## Parsing `file_id`"
   ]
  },
  {
   "cell_type": "code",
   "execution_count": 117,
   "id": "f1cb5a9d-2f21-4cc9-a586-144560ee8b6a",
   "metadata": {
    "tags": []
   },
   "outputs": [],
   "source": [
    "import re\n",
    "\n",
    "def strip_pattern_rh(patterns, string):\n",
    "    \"\"\"\n",
    "    Sequentially strip a list of regex patterns from a string, starting from the right\n",
    "    hand side. Then replace any \"-\" and \".\" with \"_\" and then remove double or dangling \"_\".\n",
    "\n",
    "    Parameters:\n",
    "    -----------\n",
    "    patterns: list of str\n",
    "        The list of regex patterns to strip\n",
    "    string: str\n",
    "        A filename with the suffixe (e.g. .nc) removed\n",
    "    \"\"\"\n",
    "\n",
    "    # Strip first matched pattern\n",
    "    stripped = string\n",
    "    for pattern in patterns:\n",
    "        match = re.match(r\".*(\"+pattern+r\")([^0-9]|$).*$\", stripped)\n",
    "        if match:\n",
    "            stripped = stripped[:match.start(1)] + stripped[match.end(1):]\n",
    "            break\n",
    "            \n",
    "    # Enforce Python characters\n",
    "    stripped = re.sub(r\"[-.]\", \"_\", stripped)\n",
    "    \n",
    "    # Remove any double or dangling _\n",
    "    return re.sub(r\"__\", \"_\", stripped).rstrip(\"_\")"
   ]
  },
  {
   "cell_type": "code",
   "execution_count": 118,
   "id": "c93311a2-6b3a-482e-84cb-a6dbf4957d23",
   "metadata": {
    "tags": []
   },
   "outputs": [],
   "source": [
    "cm2_files = [\n",
    "    \"bz687a.pm107912_mon.nc\",\n",
    "    \"bz687a.p7107912_mon.nc\",\n",
    "    \"iceh_m.2014-06.nc\",\n",
    "    \"iceh.1917-05-daily.nc\",\n",
    "    \"ocean_bgc_ann.nc-01551231\",\n",
    "    \"ocean_bgc_daily.nc-02971231\",\n",
    "    \"ocean_bgc_mth.nc-03011231\",\n",
    "    \"ocean_bgc.nc-02011231\",\n",
    "    \"ocean_daily.nc-02531231\",\n",
    "    \"ocean_month.nc-01991231\",\n",
    "    \"ocean_scalar.nc-01851231\",\n",
    "]\n",
    "\n",
    "esm_files = [\n",
    "    \"PI-GWL-B2035.pe-109904_dai.nc\",\n",
    "    \"PI-GWL-B2035.pa-109904_mon.nc\",\n",
    "    \"PI-1pct-02.pe-011802_dai.nc_dai.nc\",\n",
    "    \"iceh.1917-05.nc\",\n",
    "    \"iceh.1917-05-daily.nc\",\n",
    "    \"ocean_bgc_ann.nc-01551231\",\n",
    "    \"ocean_bgc_daily.nc-02971231\",\n",
    "    \"ocean_bgc_mth.nc-03011231\",\n",
    "    \"ocean_bgc.nc-02011231\",\n",
    "    \"ocean_daily.nc-02531231\",\n",
    "    \"ocean_month.nc-01991231\",\n",
    "    \"ocean_scalar.nc-01851231\",\n",
    "]\n",
    "\n",
    "om2_files = [\n",
    "    \"iceh.057-daily.nc\",\n",
    "    \"ocean.nc\",\n",
    "    \"ocean_month.nc\",\n",
    "    \"oceanbgc-3d-caco3-1-yearly-mean-y_2015.nc\",\n",
    "    \"oceanbgc-2d-wdet100-1-daily-mean-y_2015.nc\",\n",
    "    \"ocean-3d-v-1-monthly-pow02-ym_1958_04.nc\",\n",
    "    \"ocean-2d-sfc_salt_flux_restore-1-monthly-mean-ym_1958_04.nc\",\n",
    "]"
   ]
  },
  {
   "cell_type": "code",
   "execution_count": 121,
   "id": "3a1fcae4-4fe5-4848-a90d-66979cf5c0b7",
   "metadata": {
    "tags": []
   },
   "outputs": [
    {
     "name": "stdout",
     "output_type": "stream",
     "text": [
      "bz687a_pm_mon\n",
      "bz687a_p7_mon\n",
      "iceh_m\n",
      "iceh_daily\n",
      "ocean_bgc_ann\n",
      "ocean_bgc_daily\n",
      "ocean_bgc_mth\n",
      "ocean_bgc\n",
      "ocean_daily\n",
      "ocean_month\n",
      "ocean_scalar\n"
     ]
    }
   ],
   "source": [
    "import re\n",
    "from pathlib import Path\n",
    "\n",
    "for file in cm2_files:\n",
    "    \n",
    "    filename = Path(file).stem\n",
    "    \n",
    "    file_id = strip_pattern_rh([\"\\d{4}[-_]\\d{2}\", \"\\d{8}\", \"\\d{6}\"], filename)\n",
    "    #file_id = strip_pattern_rh([r\"\\d{4}[-_]\\d{2}\", r\"\\d{4}\", r\"\\d{3}\"], filename)\n",
    "\n",
    "    print(file_id)"
   ]
  },
  {
   "cell_type": "code",
   "execution_count": null,
   "id": "90f8a5e5-f712-4c86-b083-fd592a71a6d5",
   "metadata": {},
   "outputs": [],
   "source": []
  }
 ],
 "metadata": {
  "kernelspec": {
   "display_name": "Python (catalog-manager-dev)",
   "language": "python",
   "name": "catalog-manager-dev"
  },
  "language_info": {
   "codemirror_mode": {
    "name": "ipython",
    "version": 3
   },
   "file_extension": ".py",
   "mimetype": "text/x-python",
   "name": "python",
   "nbconvert_exporter": "python",
   "pygments_lexer": "ipython3",
   "version": "3.10.0"
  }
 },
 "nbformat": 4,
 "nbformat_minor": 5
}
