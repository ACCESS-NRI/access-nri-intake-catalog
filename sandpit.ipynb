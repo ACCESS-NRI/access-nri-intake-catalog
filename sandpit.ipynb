{
 "cells": [
  {
   "cell_type": "markdown",
   "id": "1d643e89-e161-462b-81c8-8a51eed71268",
   "metadata": {},
   "source": [
    "# Generic playspace"
   ]
  },
  {
   "cell_type": "code",
   "execution_count": 1,
   "id": "3f7038d2-3a82-449b-b946-fe70f5a8817d",
   "metadata": {
    "tags": []
   },
   "outputs": [
    {
     "name": "stderr",
     "output_type": "stream",
     "text": [
      "/g/data/tm70/ds0092/software/mambaforge/envs/catalog-manager-dev/lib/python3.10/site-packages/fastprogress/fastprogress.py:107: UserWarning: Couldn't import ipywidgets properly, progress bar will use console behavior\n",
      "  warn(\"Couldn't import ipywidgets properly, progress bar will use console behavior\")\n"
     ]
    }
   ],
   "source": [
    "from catalog_manager import esm, translators\n",
    "from catalog_manager.build import DFCatUpdater"
   ]
  },
  {
   "cell_type": "code",
   "execution_count": 2,
   "id": "f13cc71b-037a-4d77-a244-6a99cbdc252e",
   "metadata": {},
   "outputs": [],
   "source": [
    "catalog_directory = \"/g/data/tm70/ds0092/projects/intake_catalog/catalogs\"\n",
    "dfcat_name = \"dfcat\""
   ]
  },
  {
   "cell_type": "markdown",
   "id": "cc318e72-d25e-4237-853f-596333356980",
   "metadata": {},
   "source": [
    "## Add existing CMIP6 esm catalog"
   ]
  },
  {
   "cell_type": "code",
   "execution_count": 3,
   "id": "dd6e43a2-e5dc-42ba-95b4-a5f516db696a",
   "metadata": {},
   "outputs": [],
   "source": [
    "from catalog_manager.translators import Cmip6MetadataTranslator"
   ]
  },
  {
   "cell_type": "code",
   "execution_count": 4,
   "id": "ad5cca65-4591-4128-9174-12624a4dee63",
   "metadata": {
    "tags": []
   },
   "outputs": [
    {
     "name": "stdout",
     "output_type": "stream",
     "text": [
      "CPU times: user 1min 59s, sys: 2.09 s, total: 2min 1s\n",
      "Wall time: 2min 1s\n"
     ]
    }
   ],
   "source": [
    "%%time\n",
    "\n",
    "manager = DFCatUpdater.load_esm(\n",
    "    \"/g/data/hh5/public/apps/nci-intake-catalogue/esgf/cmip6/catalogue_latest.json\",\n",
    "    Cmip6MetadataTranslator\n",
    ")\n",
    "manager.add(\n",
    "    name=dfcat_name,\n",
    "    directory=catalog_directory\n",
    ")"
   ]
  },
  {
   "cell_type": "markdown",
   "id": "f99b4cd0-8605-45dd-a1c4-3eed99993f3c",
   "metadata": {
    "tags": []
   },
   "source": [
    "## Add new esm catalogs from a config file"
   ]
  },
  {
   "cell_type": "code",
   "execution_count": 5,
   "id": "20977541-8824-45c8-a4c3-6c49464cab5d",
   "metadata": {
    "tags": []
   },
   "outputs": [],
   "source": [
    "import yaml\n",
    "\n",
    "config = \"/g/data/tm70/ds0092/projects/intake_catalog/config/cosima.yaml\"\n",
    "\n",
    "with open(config) as f:\n",
    "    config = yaml.safe_load(f)\n",
    "    \n",
    "catalogs = config.get(\"catalogs\")\n",
    "builder = getattr(esm, config.get(\"builder\"))\n",
    "translator = getattr(translators, config.get(\"translator\"))"
   ]
  },
  {
   "cell_type": "code",
   "execution_count": 6,
   "id": "e007d171-2071-4a6f-b5d1-50580abb9c44",
   "metadata": {
    "tags": []
   },
   "outputs": [
    {
     "name": "stdout",
     "output_type": "stream",
     "text": [
      "Successfully wrote ESM catalog json file to: file:///g/data/tm70/ds0092/projects/intake_catalog/catalogs/1deg_jra55_ryf9091_gadi.json\n",
      "Successfully wrote ESM catalog json file to: file:///g/data/tm70/ds0092/projects/intake_catalog/catalogs/1deg_jra55_iaf_omip2_cycle1.json\n",
      "Successfully wrote ESM catalog json file to: file:///g/data/tm70/ds0092/projects/intake_catalog/catalogs/1deg_jra55_iaf_omip2_cycle2.json\n",
      "Successfully wrote ESM catalog json file to: file:///g/data/tm70/ds0092/projects/intake_catalog/catalogs/1deg_jra55_iaf_omip2_cycle3.json\n",
      "Successfully wrote ESM catalog json file to: file:///g/data/tm70/ds0092/projects/intake_catalog/catalogs/1deg_jra55_iaf_omip2_cycle4.json\n",
      "Successfully wrote ESM catalog json file to: file:///g/data/tm70/ds0092/projects/intake_catalog/catalogs/1deg_jra55_iaf_omip2_cycle5.json\n",
      "Successfully wrote ESM catalog json file to: file:///g/data/tm70/ds0092/projects/intake_catalog/catalogs/1deg_jra55_iaf_omip2_cycle6.json\n",
      "Successfully wrote ESM catalog json file to: file:///g/data/tm70/ds0092/projects/intake_catalog/catalogs/025deg_jra55_ryf9091_gadi.json\n",
      "Successfully wrote ESM catalog json file to: file:///g/data/tm70/ds0092/projects/intake_catalog/catalogs/025deg_jra55_iaf_omip2_cycle1.json\n",
      "Successfully wrote ESM catalog json file to: file:///g/data/tm70/ds0092/projects/intake_catalog/catalogs/025deg_jra55_iaf_omip2_cycle2.json\n",
      "Successfully wrote ESM catalog json file to: file:///g/data/tm70/ds0092/projects/intake_catalog/catalogs/025deg_jra55_iaf_omip2_cycle3.json\n",
      "Successfully wrote ESM catalog json file to: file:///g/data/tm70/ds0092/projects/intake_catalog/catalogs/025deg_jra55_iaf_omip2_cycle4.json\n",
      "Successfully wrote ESM catalog json file to: file:///g/data/tm70/ds0092/projects/intake_catalog/catalogs/025deg_jra55_iaf_omip2_cycle5.json\n",
      "Successfully wrote ESM catalog json file to: file:///g/data/tm70/ds0092/projects/intake_catalog/catalogs/025deg_jra55_iaf_omip2_cycle6.json\n",
      "Successfully wrote ESM catalog json file to: file:///g/data/tm70/ds0092/projects/intake_catalog/catalogs/01deg_jra55v13_ryf9091.json\n",
      "Successfully wrote ESM catalog json file to: file:///g/data/tm70/ds0092/projects/intake_catalog/catalogs/01deg_jra55v140_iaf.json\n",
      "Successfully wrote ESM catalog json file to: file:///g/data/tm70/ds0092/projects/intake_catalog/catalogs/01deg_jra55v140_iaf_cycle2.json\n",
      "Successfully wrote ESM catalog json file to: file:///g/data/tm70/ds0092/projects/intake_catalog/catalogs/01deg_jra55v140_iaf_cycle3.json\n",
      "Successfully wrote ESM catalog json file to: file:///g/data/tm70/ds0092/projects/intake_catalog/catalogs/01deg_jra55v140_iaf_cycle4.json\n",
      "Successfully wrote ESM catalog json file to: file:///g/data/tm70/ds0092/projects/intake_catalog/catalogs/01deg_jra55v140_iaf_cycle4_jra55v150_extension.json\n",
      "Successfully wrote ESM catalog json file to: file:///g/data/tm70/ds0092/projects/intake_catalog/catalogs/01deg_jra55v150_iaf_cycle1.json\n",
      "CPU times: user 3min 40s, sys: 1min 30s, total: 5min 11s\n",
      "Wall time: 19min 12s\n"
     ]
    }
   ],
   "source": [
    "%%time\n",
    "\n",
    "for name, kwargs in catalogs.items():\n",
    "    description = kwargs.pop(\"description\")\n",
    "    paths = kwargs.pop(\"paths\")\n",
    "    \n",
    "    manager = DFCatUpdater.build_esm(\n",
    "        name=name,\n",
    "        description=description,\n",
    "        builder=builder,\n",
    "        translator=translator,\n",
    "        paths=paths,\n",
    "        builder_kwargs=kwargs,\n",
    "        directory=catalog_directory,\n",
    "        overwrite=True,\n",
    "    )\n",
    "    manager.add(\n",
    "        name=dfcat_name,\n",
    "        directory=catalog_directory\n",
    "    )"
   ]
  },
  {
   "cell_type": "markdown",
   "id": "a5ca6ff9-867c-4c83-a204-96c6d00fada1",
   "metadata": {},
   "source": [
    "## Use the DF catalog"
   ]
  },
  {
   "cell_type": "code",
   "execution_count": 10,
   "id": "b4709d5b-cd57-47c8-8f6c-593566bd2101",
   "metadata": {},
   "outputs": [],
   "source": [
    "import os\n",
    "import ast\n",
    "import intake"
   ]
  },
  {
   "cell_type": "code",
   "execution_count": 12,
   "id": "a24828c5-2f10-4dc0-958b-a1d2f11b5b1a",
   "metadata": {},
   "outputs": [],
   "source": [
    "cat = intake.open_df_catalog(\n",
    "    os.path.join(catalog_directory, f\"{dfcat_name}.csv\"),\n",
    "    name_column=\"experiment\",\n",
    "    read_kwargs={\"converters\": {\"variable\": ast.literal_eval}},\n",
    ")"
   ]
  },
  {
   "cell_type": "code",
   "execution_count": 20,
   "id": "98be24a1-831c-4936-bb2a-14e2d9a6bc47",
   "metadata": {},
   "outputs": [],
   "source": [
    "subcat = cat.search(experiment=\"01deg_jra55v150_iaf_cycle1\")"
   ]
  },
  {
   "cell_type": "code",
   "execution_count": 22,
   "id": "55c91c65-789d-4675-9284-82cde26360dc",
   "metadata": {},
   "outputs": [
    {
     "data": {
      "text/html": [
       "<div>\n",
       "<style scoped>\n",
       "    .dataframe tbody tr th:only-of-type {\n",
       "        vertical-align: middle;\n",
       "    }\n",
       "\n",
       "    .dataframe tbody tr th {\n",
       "        vertical-align: top;\n",
       "    }\n",
       "\n",
       "    .dataframe thead th {\n",
       "        text-align: right;\n",
       "    }\n",
       "</style>\n",
       "<table border=\"1\" class=\"dataframe\">\n",
       "  <thead>\n",
       "    <tr style=\"text-align: right;\">\n",
       "      <th></th>\n",
       "      <th>experiment</th>\n",
       "      <th>frequency</th>\n",
       "      <th>model</th>\n",
       "      <th>description</th>\n",
       "      <th>realm</th>\n",
       "      <th>variable</th>\n",
       "      <th>yaml</th>\n",
       "    </tr>\n",
       "  </thead>\n",
       "  <tbody>\n",
       "    <tr>\n",
       "      <th>0</th>\n",
       "      <td>01deg_jra55v150_iaf_cycle1</td>\n",
       "      <td>1day</td>\n",
       "      <td>ACCESS-OM2</td>\n",
       "      <td>0.1 degree ACCESS-OM2 global model configurati...</td>\n",
       "      <td>ice</td>\n",
       "      <td>[time_bounds, ULON, ULAT, blkmask, aice]</td>\n",
       "      <td>sources:\\n  01deg_jra55v150_iaf_cycle1:\\n    a...</td>\n",
       "    </tr>\n",
       "    <tr>\n",
       "      <th>1</th>\n",
       "      <td>01deg_jra55v150_iaf_cycle1</td>\n",
       "      <td>1mon</td>\n",
       "      <td>ACCESS-OM2</td>\n",
       "      <td>0.1 degree ACCESS-OM2 global model configurati...</td>\n",
       "      <td>ice</td>\n",
       "      <td>[time_bounds, ULON, ULAT, blkmask, hi_m, aice_m]</td>\n",
       "      <td>sources:\\n  01deg_jra55v150_iaf_cycle1:\\n    a...</td>\n",
       "    </tr>\n",
       "    <tr>\n",
       "      <th>2</th>\n",
       "      <td>01deg_jra55v150_iaf_cycle1</td>\n",
       "      <td>1day</td>\n",
       "      <td>ACCESS-OM2</td>\n",
       "      <td>0.1 degree ACCESS-OM2 global model configurati...</td>\n",
       "      <td>ocean</td>\n",
       "      <td>[eta_t, average_T1, average_T2, average_DT, ti...</td>\n",
       "      <td>sources:\\n  01deg_jra55v150_iaf_cycle1:\\n    a...</td>\n",
       "    </tr>\n",
       "    <tr>\n",
       "      <th>3</th>\n",
       "      <td>01deg_jra55v150_iaf_cycle1</td>\n",
       "      <td>1mon</td>\n",
       "      <td>ACCESS-OM2</td>\n",
       "      <td>0.1 degree ACCESS-OM2 global model configurati...</td>\n",
       "      <td>ocean</td>\n",
       "      <td>[bmf_u, average_T1, average_T2, average_DT, ti...</td>\n",
       "      <td>sources:\\n  01deg_jra55v150_iaf_cycle1:\\n    a...</td>\n",
       "    </tr>\n",
       "    <tr>\n",
       "      <th>4</th>\n",
       "      <td>01deg_jra55v150_iaf_cycle1</td>\n",
       "      <td>fx</td>\n",
       "      <td>ACCESS-OM2</td>\n",
       "      <td>0.1 degree ACCESS-OM2 global model configurati...</td>\n",
       "      <td>ocean</td>\n",
       "      <td>[area_t, area_u, drag_coeff, dxt, dxu, dyt, dy...</td>\n",
       "      <td>sources:\\n  01deg_jra55v150_iaf_cycle1:\\n    a...</td>\n",
       "    </tr>\n",
       "  </tbody>\n",
       "</table>\n",
       "</div>"
      ],
      "text/plain": [
       "                   experiment frequency       model  \\\n",
       "0  01deg_jra55v150_iaf_cycle1      1day  ACCESS-OM2   \n",
       "1  01deg_jra55v150_iaf_cycle1      1mon  ACCESS-OM2   \n",
       "2  01deg_jra55v150_iaf_cycle1      1day  ACCESS-OM2   \n",
       "3  01deg_jra55v150_iaf_cycle1      1mon  ACCESS-OM2   \n",
       "4  01deg_jra55v150_iaf_cycle1        fx  ACCESS-OM2   \n",
       "\n",
       "                                         description  realm  \\\n",
       "0  0.1 degree ACCESS-OM2 global model configurati...    ice   \n",
       "1  0.1 degree ACCESS-OM2 global model configurati...    ice   \n",
       "2  0.1 degree ACCESS-OM2 global model configurati...  ocean   \n",
       "3  0.1 degree ACCESS-OM2 global model configurati...  ocean   \n",
       "4  0.1 degree ACCESS-OM2 global model configurati...  ocean   \n",
       "\n",
       "                                            variable  \\\n",
       "0           [time_bounds, ULON, ULAT, blkmask, aice]   \n",
       "1   [time_bounds, ULON, ULAT, blkmask, hi_m, aice_m]   \n",
       "2  [eta_t, average_T1, average_T2, average_DT, ti...   \n",
       "3  [bmf_u, average_T1, average_T2, average_DT, ti...   \n",
       "4  [area_t, area_u, drag_coeff, dxt, dxu, dyt, dy...   \n",
       "\n",
       "                                                yaml  \n",
       "0  sources:\\n  01deg_jra55v150_iaf_cycle1:\\n    a...  \n",
       "1  sources:\\n  01deg_jra55v150_iaf_cycle1:\\n    a...  \n",
       "2  sources:\\n  01deg_jra55v150_iaf_cycle1:\\n    a...  \n",
       "3  sources:\\n  01deg_jra55v150_iaf_cycle1:\\n    a...  \n",
       "4  sources:\\n  01deg_jra55v150_iaf_cycle1:\\n    a...  "
      ]
     },
     "execution_count": 22,
     "metadata": {},
     "output_type": "execute_result"
    }
   ],
   "source": [
    "subcat.df"
   ]
  },
  {
   "cell_type": "code",
   "execution_count": null,
   "id": "5b1fd585-1d3d-4c63-a315-e67c90355fe4",
   "metadata": {},
   "outputs": [],
   "source": []
  }
 ],
 "metadata": {
  "kernelspec": {
   "display_name": "Python (catalog-manager-dev)",
   "language": "python",
   "name": "catalog-manager-dev"
  },
  "language_info": {
   "codemirror_mode": {
    "name": "ipython",
    "version": 3
   },
   "file_extension": ".py",
   "mimetype": "text/x-python",
   "name": "python",
   "nbconvert_exporter": "python",
   "pygments_lexer": "ipython3",
   "version": "3.10.0"
  }
 },
 "nbformat": 4,
 "nbformat_minor": 5
}
