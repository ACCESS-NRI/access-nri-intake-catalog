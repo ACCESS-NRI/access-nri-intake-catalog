{
 "cells": [
  {
   "cell_type": "code",
   "execution_count": null,
   "id": "44bf9ac1-4839-4442-84a0-45c8c3f2ebe1",
   "metadata": {},
   "outputs": [],
   "source": []
  }
 ],
 "metadata": {
  "kernelspec": {
   "display_name": "Python (intake-esm-dev)",
   "language": "python",
   "name": "intake-esm-dev"
  },
  "language_info": {
   "codemirror_mode": {
    "name": "ipython",
    "version": 3
   },
   "file_extension": ".py",
   "mimetype": "text/x-python",
   "name": "python",
   "nbconvert_exporter": "python",
   "pygments_lexer": "ipython3",
   "version": "3.11.0"
  }
 },
 "nbformat": 4,
 "nbformat_minor": 5
}
