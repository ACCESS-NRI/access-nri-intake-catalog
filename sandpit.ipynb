{
 "cells": [
  {
   "cell_type": "markdown",
   "id": "1d643e89-e161-462b-81c8-8a51eed71268",
   "metadata": {},
   "source": [
    "# Generic playspace"
   ]
  },
  {
   "cell_type": "markdown",
   "id": "be69fba0-9296-4291-ace8-18f2df458b43",
   "metadata": {},
   "source": [
    "# Parsing `file_id`"
   ]
  },
  {
   "cell_type": "code",
   "execution_count": null,
   "id": "c93311a2-6b3a-482e-84cb-a6dbf4957d23",
   "metadata": {
    "tags": []
   },
   "outputs": [],
   "source": [
    "files = [\n",
    "    \"bz687a.pm107912_mon.nc\",\n",
    "    \"bz687a.p7107912_mon.nc\",\n",
    "    \"iceh.1917-05.nc\",\n",
    "    \"iceh.1917-05-daily.nc\",\n",
    "    \"ocean_month.nc\",\n",
    "    \"ocean.nc\",\n",
    "    \"ocean-3d-v-1-monthly-pow02-ym_1958_04.nc\",\n",
    "    \"ocean-2d-sfc_salt_flux_restore-1-monthly-mean-ym_1958_04.nc\",\n",
    "    \"PI-GWL-B2035.pe-109904_dai.nc\",\n",
    "    \"PI-GWL-B2035.pa-109904_mon.nc\",\n",
    "    \"PI-1pct-02.pe-011802_dai.nc_dai.nc\",\n",
    "    \"iceh.0101-01.nc\",\n",
    "    \"ocean_bgc_ann.nc-01551231\",\n",
    "    \"ocean_bgc_daily.nc-02971231\",\n",
    "    \"ocean_bgc_mth.nc-03011231\",\n",
    "    \"ocean_bgc.nc-02011231\",\n",
    "    \"ocean_daily.nc-02531231\",\n",
    "    \"ocean_month.nc-01991231\",\n",
    "    \"ocean_scalar.nc-01851231\",\n",
    "]"
   ]
  },
  {
   "cell_type": "code",
   "execution_count": null,
   "id": "3a1fcae4-4fe5-4848-a90d-66979cf5c0b7",
   "metadata": {},
   "outputs": [],
   "source": [
    "import re\n",
    "from pathlib import Path\n",
    "\n",
    "for file in files:\n",
    "filename = Path(file).stem\n",
    "# Remove dates dddd-dd, dddddd, dddddddd, starting from right\n",
    "file_id = re.sub(r\"(\\d{4}[-_]\\d{2}|\\d{6}|\\d{8})(([^0-9]|$))(.*)$\", r\"\\3\\4\", filename)\n",
    "# Enforce Python characters\n",
    "file_id = re.sub(r\"[-.]\", \"_\", file_id)\n",
    "# Remove any double or dangling _\n",
    "file_id = re.sub(r\"__\", \"_\", file_id).rstrip(\"_\")\n",
    "    print(file_id)"
   ]
  },
  {
   "cell_type": "code",
   "execution_count": null,
   "id": "d0056ffe-bcfc-4b76-b918-a9d48480991d",
   "metadata": {
    "tags": []
   },
   "outputs": [],
   "source": [
    "import re\n",
    "from pathlib import Path\n",
    "\n",
    "for file in files:\n",
    "    filename = Path(file).stem\n",
    "\n",
    "    file_id = re.sub(\n",
    "        r\"[-.]\", \n",
    "        \"_\",\n",
    "        re.sub(\n",
    "            r\"[-_.](\\d{4}[-_]\\d{2}|\\d{6}|\\d{8})\", r'boo\\2', filename\n",
    "        )\n",
    "    )\n",
    "    print(file, file_id)"
   ]
  },
  {
   "cell_type": "code",
   "execution_count": null,
   "id": "90f8a5e5-f712-4c86-b083-fd592a71a6d5",
   "metadata": {},
   "outputs": [],
   "source": []
  }
 ],
 "metadata": {
  "kernelspec": {
   "display_name": "Python (catalog-manager-dev)",
   "language": "python",
   "name": "catalog-manager-dev"
  },
  "language_info": {
   "codemirror_mode": {
    "name": "ipython",
    "version": 3
   },
   "file_extension": ".py",
   "mimetype": "text/x-python",
   "name": "python",
   "nbconvert_exporter": "python",
   "pygments_lexer": "ipython3",
   "version": "3.10.0"
  }
 },
 "nbformat": 4,
 "nbformat_minor": 5
}
