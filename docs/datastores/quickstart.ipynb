{
 "cells": [
  {
   "cell_type": "markdown",
   "id": "cb836184-31c3-4113-a89d-d93548f8bded",
   "metadata": {},
   "source": [
    "# Quickstart tutorial\n",
    "\n",
    "So you’ve recently finished a new ACCESS model run and you want to create an Intake-ESM datastore for that run? This tutorial demonstrates how you can do that using Builders from the access-nri-intake Python package. You can download the Jupyter notebook rendered below from [here](https://github.com/ACCESS-NRI/access-nri-intake-catalog/blob/main/docs/datastores/quickstart.ipynb) and run it yourself in an NCI ARE instance."
   ]
  },
  {
   "cell_type": "markdown",
   "id": "df348500-4be4-4350-b2c1-b34c5f703353",
   "metadata": {},
   "source": [
    "```{note}\n",
    "If you don't know what a Builder is, see [Datastore Builders](builders.rst)\n",
    "```"
   ]
  },
  {
   "cell_type": "code",
   "execution_count": 1,
   "id": "06f186de-4c9a-49fa-907b-77113c704664",
   "metadata": {},
   "outputs": [],
   "source": [
    "import warnings\n",
    "\n",
    "warnings.filterwarnings(\"ignore\") # Suppress warnings for these docs"
   ]
  },
  {
   "cell_type": "markdown",
   "id": "e62614a5",
   "metadata": {},
   "source": [
    "# Building an Intake-ESM datastore - the quick way\n",
    "\n",
    "As of `access_nri_intake` version 1.1.0, it is possible to build an ESM-datastore from the command line, using the `build-esm-datastore` utility.\n",
    "\n",
    "Usage is as follows:"
   ]
  },
  {
   "cell_type": "code",
   "execution_count": null,
   "id": "4c9ed0d1",
   "metadata": {
    "vscode": {
     "languageId": "shellscript"
    }
   },
   "outputs": [],
   "source": [
    "user@local_machine $ ssh gadi \n",
    "user@gadi $ mkdir catalog_dir && cd catalog_dir # Change catalog_dir to your desired directory\n",
    "user@gadi $ module load conda/analysis3\n",
    "user@gadi $ build-esm-datastore --builder Mom6Builder --expt-dir  /g/data/ik11/outputs/mom6-panan/panant-01-zstar-ACCESSyr2/ --cat-dir ."
   ]
  },
  {
   "cell_type": "markdown",
   "id": "ba0fa016",
   "metadata": {},
   "source": [
    "This will create a new Intake-ESM catalog in the `catalog_dir` directory, using the `Mom6Builder` builder, and the experiment directory `/g/data/ik11/outputs/mom6-panan/panant-01-zstar-ACCESSyr2/`.\n",
    "\n",
    "The first time you run `build-esm-datastore`, you can expect to see some output like this:"
   ]
  },
  {
   "cell_type": "code",
   "execution_count": null,
   "id": "349c9147",
   "metadata": {
    "vscode": {
     "languageId": "shellscript"
    }
   },
   "outputs": [],
   "source": [
    "$ build-esm-datastore --builder Mom6Builder --expt-dir  /g/data/ik11/outputs/mom6-panan/panant-01-zstar-ACCESSyr2/ --cat-dir .\n",
    "Generating esm-datastore for /g/data/ik11/outputs/mom6-panan/panant-01-zstar-ACCESSyr2\n",
    "Building esm-datastore...\n",
    "/home/189/ct1163/catalog_dir/venv/lib/python3.11/site-packages/access_nri_intake/source/utils.py:140: UserWarning: Time coordinate does not include bounds information. Guessing start and end times.\n",
    "  warnings.warn(\n",
    "...\n",
    "Sucessfully built esm-datastore!\n",
    "Saving esm-datastore to /home/189/ct1163/catalog_dir\n",
    "/home/189/ct1163/catalog_dir/venv/lib/python3.11/site-packages/intake_esm/cat.py:186: PydanticDeprecatedSince20: The `dict` method is deprecated; use `model_dump` instead. Deprecated in Pydantic V2.0 to be removed in V3.0. See Pydantic V2 Migration Guide at https://errors.pydantic.dev/2.10/migration/\n",
    "  data = self.dict().copy()\n",
    "Successfully wrote ESM catalog json file to: file:///home/189/ct1163/catalog_dir/experiment_datastore.json\n",
    "Hashing catalog to prevent unnecessary rebuilds.\n",
    "This may take some time...\n",
    "Catalog sucessfully hashed!\n",
    "Datastore sucessfully written to /home/189/ct1163/catalog_dir/experiment_datastore.json!\n",
    "Please note that this has not added the datastore to the access-nri-intake catalog.\n",
    "To add to catalog, please run 'scaffold-catalog-entry' for help on how to do so.\n",
    "To open the datastore, run `intake.open_esm_datastore('/home/189/ct1163/catalog_dir/experiment_datastore.json', columns_with_iterables=['variable'])` in a Python session.\n",
    "$\n"
   ]
  },
  {
   "cell_type": "markdown",
   "id": "97db5843",
   "metadata": {},
   "source": [
    "If you rerun `build-esm-datastore`, you can expect to see something like this if the tool detects a valid & current datastore in the specified directory:"
   ]
  },
  {
   "cell_type": "code",
   "execution_count": null,
   "id": "b6117aaa",
   "metadata": {
    "vscode": {
     "languageId": "shellscript"
    }
   },
   "outputs": [],
   "source": [
    "$ build-esm-datastore --builder Mom6Builder --expt-dir  /g/data/ik11/outputs/mom6-panan/panant-01-zstar-ACCESSyr2/ --cat-dir .\n",
    "Datastore found in current directory, verifying datastore integrity...\n",
    "Parsing experiment dir...\n",
    "Datastore integrity verified!\n",
    "Datastore found in /home/189/ct1163/catalog_dir/experiment_datastore.json!\n",
    "Please note that this has not added the datastore to the access-nri-intake catalog.\n",
    "To add to catalog, please run 'scaffold-catalog-entry' for help on how to do so.\n",
    "To open the datastore, run `intake.open_esm_datastore('/home/189/ct1163/catalog_dir/experiment_datastore.json', columns_with_iterables=['variable'])` in a Python session.\n",
    "$"
   ]
  },
  {
   "cell_type": "markdown",
   "id": "eeee704d",
   "metadata": {},
   "source": [
    "...or this if the tool detects that the datastore is out of date, and needs to be regenerated:"
   ]
  },
  {
   "cell_type": "code",
   "execution_count": null,
   "id": "da34d1f1",
   "metadata": {
    "vscode": {
     "languageId": "shellscript"
    }
   },
   "outputs": [],
   "source": [
    "$ build-esm-datastore --builder Mom6Builder --expt-dir  /g/data/ik11/outputs/mom6-panan/panant-01-zstar-ACCESSyr2/ --cat-dir .\n",
    "Datastore found in current directory, verifying datastore integrity...\n",
    "Parsing experiment dir...\n",
    "Experiment directory and datastore do not match (missing files from datastore). Datastore regeneration required...\n",
    "Building esm-datastore...\n",
    "...\n",
    "Sucessfully built esm-datastore!\n",
    "Saving esm-datastore to /home/189/ct1163/catalog_dir\n",
    "/home/189/ct1163/catalog_dir/venv/lib/python3.11/site-packages/intake_esm/cat.py:186: PydanticDeprecatedSince20: The `dict` method is deprecated; use `model_dump` instead. Deprecated in Pydantic V2.0 to be removed in V3.0. See Pydantic V2 Migration Guide at https://errors.pydantic.dev/2.10/migration/\n",
    "  data = self.dict().copy()\n",
    "Successfully wrote ESM catalog json file to: file:///home/189/ct1163/catalog_dir/experiment_datastore.json\n",
    "Hashing catalog to prevent unnecessary rebuilds.\n",
    "This may take some time...\n",
    "Catalog sucessfully hashed!\n",
    "Datastore sucessfully written to /home/189/ct1163/catalog_dir/experiment_datastore.json!\n",
    "Please note that this has not added the datastore to the access-nri-intake catalog.\n",
    "To add to catalog, please run 'scaffold-catalog-entry' for help on how to do so.\n",
    "To open the datastore, run `intake.open_esm_datastore('/home/189/ct1163/catalog_dir/experiment_datastore.json', columns_with_iterables=['variable'])` in a Python session."
   ]
  },
  {
   "cell_type": "markdown",
   "id": "a591b4e0",
   "metadata": {},
   "source": [
    "To see the full list of options, run `build-esm-datastore --help`:"
   ]
  },
  {
   "cell_type": "code",
   "execution_count": null,
   "id": "bdb56801",
   "metadata": {
    "vscode": {
     "languageId": "shellscript"
    }
   },
   "outputs": [],
   "source": [
    "$ build-esm-datastore --help\n",
    "usage: build-esm-datastore [-h] [--builder BUILDER] [--builder-kwargs [BUILDER_KWARGS ...]] [--expt-dir EXPT_DIR]\n",
    "                           [--cat-dir CAT_DIR] [--datastore-name DATASTORE_NAME] [--description DESCRIPTION]\n",
    "\n",
    "Build an esm-datastore by inspecting a directory containing model outputs. If no datastore exists, a new one will be\n",
    "created. If a datastore exists, it's integrity will be verified, and the datastore regenerated if necessary.\n",
    "\n",
    "options:\n",
    "  -h, --help            show this help message and exit\n",
    "  --builder BUILDER     Builder to use to create the esm-datastore. Builders are defined the source.builders module.\n",
    "                        Currently available options are: AccessOm2Builder, AccessOm3Builder, Mom6Builder,\n",
    "                        AccessEsm15Builder, AccessCm2Builder. To build a datastore for a new model, please contact the\n",
    "                        ACCESS-NRI team.\n",
    "  --builder-kwargs [BUILDER_KWARGS ...]\n",
    "                        Additional keyword arguments to pass to the builder. Should be in the form of key=value.\n",
    "  --expt-dir EXPT_DIR   Directory containing the model outputs to be added to the esm-datastore. Defaults to the\n",
    "                        current working directory. Although builders support adding multiple directories, this tool\n",
    "                        only supports one directory at a time - at present.\n",
    "  --cat-dir CAT_DIR     Directory in which to place the catalog.json file. Defaults to the value of --expt-dir if not\n",
    "                        set.\n",
    "  --datastore-name DATASTORE_NAME\n",
    "                        Name of the datastore to use. If not provided, this will default to 'experiment_datastore'.\n",
    "  --description DESCRIPTION\n",
    "                        Description of the datastore. If not provided, a default description will be used:\n",
    "                        'esm_datastore for the model output in {--expt-dir}'"
   ]
  },
  {
   "cell_type": "markdown",
   "id": "db1869d1",
   "metadata": {},
   "source": [
    "If you want to place multiple datastores in the same directory, you will need to specify different datastore names, using the `--datastore-name` option. For example:\n",
    "\n",
    "```bash\n",
    "$ build-esm-datastore --builder Mom6Builder --expt-dir  /g/data/ik11/outputs/mom6-panan/panant-01-zstar-ACCESSyr2/ --cat-dir . --datastore-name mom6_panant_01\n",
    "...\n",
    "$ build-esm-datastore --builder Mom6Builder --expt-dir  /g/data/ik11/outputs/mom6-panan/panant-02-zstar-ACCESSyr2/ --cat-dir . --datastore-name mom6_panant_02\n",
    "```\n"
   ]
  },
  {
   "cell_type": "markdown",
   "id": "c8290d6d",
   "metadata": {},
   "source": [
    "In addition, you can access the `build-esm-datastore` functionality from within a python script, using the `use_datastore` function:\n"
   ]
  },
  {
   "cell_type": "code",
   "execution_count": 2,
   "id": "5de825b9",
   "metadata": {},
   "outputs": [
    {
     "name": "stdout",
     "output_type": "stream",
     "text": [
      "\u001b[34m\u001b[22mDatastore found in \u001b[36m\u001b[1m/home/189/ct1163/catalog_dir\u001b[34m\u001b[22m, verifying datastore integrity...\u001b[0m\n",
      "\u001b[34m\u001b[22mParsing experiment dir...\u001b[0m\n",
      "\u001b[32m\u001b[22mDatastore integrity verified!\u001b[0m\n",
      "\u001b[32m\u001b[22mDatastore found in \u001b[36m\u001b[1m/home/189/ct1163/catalog_dir/experiment_datastore.json\u001b[32m\u001b[22m!\n",
      "\u001b[34m\u001b[22mPlease note that this has not added the datastore to the access-nri-intake catalog.\n",
      "To add to catalog, please run '\u001b[37m\u001b[1mscaffold_catalog_entry\u001b[34m\u001b[22m' for help on how to do so.\n"
     ]
    },
    {
     "data": {
      "text/html": [
       "<p><strong>experiment_datastore catalog with 13 dataset(s) from 12325 asset(s)</strong>:</p> <div>\n",
       "<style scoped>\n",
       "    .dataframe tbody tr th:only-of-type {\n",
       "        vertical-align: middle;\n",
       "    }\n",
       "\n",
       "    .dataframe tbody tr th {\n",
       "        vertical-align: top;\n",
       "    }\n",
       "\n",
       "    .dataframe thead th {\n",
       "        text-align: right;\n",
       "    }\n",
       "</style>\n",
       "<table border=\"1\" class=\"dataframe\">\n",
       "  <thead>\n",
       "    <tr style=\"text-align: right;\">\n",
       "      <th></th>\n",
       "      <th>unique</th>\n",
       "    </tr>\n",
       "  </thead>\n",
       "  <tbody>\n",
       "    <tr>\n",
       "      <th>filename</th>\n",
       "      <td>12325</td>\n",
       "    </tr>\n",
       "    <tr>\n",
       "      <th>file_id</th>\n",
       "      <td>13</td>\n",
       "    </tr>\n",
       "    <tr>\n",
       "      <th>path</th>\n",
       "      <td>12325</td>\n",
       "    </tr>\n",
       "    <tr>\n",
       "      <th>filename_timestamp</th>\n",
       "      <td>82</td>\n",
       "    </tr>\n",
       "    <tr>\n",
       "      <th>frequency</th>\n",
       "      <td>3</td>\n",
       "    </tr>\n",
       "    <tr>\n",
       "      <th>start_date</th>\n",
       "      <td>3977</td>\n",
       "    </tr>\n",
       "    <tr>\n",
       "      <th>end_date</th>\n",
       "      <td>3978</td>\n",
       "    </tr>\n",
       "    <tr>\n",
       "      <th>variable</th>\n",
       "      <td>122</td>\n",
       "    </tr>\n",
       "    <tr>\n",
       "      <th>variable_long_name</th>\n",
       "      <td>17</td>\n",
       "    </tr>\n",
       "    <tr>\n",
       "      <th>variable_standard_name</th>\n",
       "      <td>17</td>\n",
       "    </tr>\n",
       "    <tr>\n",
       "      <th>variable_cell_methods</th>\n",
       "      <td>17</td>\n",
       "    </tr>\n",
       "    <tr>\n",
       "      <th>variable_units</th>\n",
       "      <td>17</td>\n",
       "    </tr>\n",
       "    <tr>\n",
       "      <th>realm</th>\n",
       "      <td>2</td>\n",
       "    </tr>\n",
       "    <tr>\n",
       "      <th>derived_variable</th>\n",
       "      <td>0</td>\n",
       "    </tr>\n",
       "  </tbody>\n",
       "</table>\n",
       "</div>"
      ],
      "text/plain": [
       "<IPython.core.display.HTML object>"
      ]
     },
     "metadata": {},
     "output_type": "display_data"
    }
   ],
   "source": [
    "from access_nri_intake.experiment import use_datastore\n",
    "from access_nri_intake.source.builders import Mom6Builder\n",
    "\n",
    "ds = use_datastore(\n",
    "    experiment_dir=\"/g/data/ik11/outputs/mom6-panan/panant-01-zstar-ACCESSyr2/\",\n",
    "    catalog_dir=\"/home/189/ct1163/catalog_dir/\",\n",
    "    builder=Mom6Builder,\n",
    "    datastore_name=\"experiment_datastore\",\n",
    "    description=\"PanAnt experiment with ACCESS-OM2-01 forcing\",\n",
    "              )\n",
    "ds"
   ]
  },
  {
   "cell_type": "markdown",
   "id": "31c9ac00",
   "metadata": {},
   "source": [
    "For even more fine grained control, follow the guide below:"
   ]
  },
  {
   "cell_type": "markdown",
   "id": "c1526d2b-06b8-46e3-9005-638c04844c6e",
   "metadata": {},
   "source": [
    "## Building an Intake-ESM datastore - using builders directly"
   ]
  },
  {
   "cell_type": "markdown",
   "id": "9f8f5cd3-93bf-4612-afc9-54ac6b2ce516",
   "metadata": {},
   "source": [
    "In the rest of this tutorial, we'll build an Intake-ESM datastore for an ACCESS-OM2 model run that is currently not included in the ACCESS-NRI catalog. The base output directory for this model run is:\n",
    "\n",
    "`/g/data/ik11/outputs/access-om2/1deg_iamip2_CMCC-ESM2ssp126`\n",
    "\n",
    "which comprises about 150 GB of netcdf files. Because this is an ACCESS-OM2 run, we'll use the `AccessOm2Builder`"
   ]
  },
  {
   "cell_type": "code",
   "execution_count": 2,
   "id": "6c64a255-43e1-4e17-8176-736bd78a693e",
   "metadata": {},
   "outputs": [],
   "source": [
    "\n",
    "from access_nri_intake.source.builders import AccessOm2Builder"
   ]
  },
  {
   "cell_type": "markdown",
   "id": "54ab0f35-68b2-40dc-a298-407bd7adc700",
   "metadata": {},
   "source": [
    "Building the Intake-ESM catalog should be as simple as passing the model run base output directory to the Builder and calling `.build()`. The build is parallelized so will be faster if you throw more resources at it. The following was run using an XX-Large `normalbw` ARE instance (28 cpus). Note, a warning is thrown below because core metadata is missing (and thus inferred) from some of the files in this model output. "
   ]
  },
  {
   "cell_type": "markdown",
   "id": "6fbf790f",
   "metadata": {},
   "source": [
    "```{note}\n",
    "The `openmpi` module now needs to be loaded explicitly on Gadi for the following line to work. This should have been placed in the 'Modules' section of the 'Advanced options' on ARE.\n",
    "```"
   ]
  },
  {
   "cell_type": "code",
   "execution_count": 3,
   "id": "db2a83f3-501d-48df-944d-67ba306bbfa5",
   "metadata": {
    "tags": []
   },
   "outputs": [
    {
     "name": "stderr",
     "output_type": "stream",
     "text": [
      "/home/120/mcw120/access-nri/access-nri-intake-catalog/src/access_nri_intake/source/utils.py:113: UserWarning: Time coordinate does not include bounds information. Guessing start and end times.\n",
      "  warnings.warn(\n",
      "/home/120/mcw120/access-nri/access-nri-intake-catalog/src/access_nri_intake/source/utils.py:113: UserWarning: Time coordinate does not include bounds information. Guessing start and end times.\n",
      "  warnings.warn(\n",
      "/home/120/mcw120/access-nri/access-nri-intake-catalog/src/access_nri_intake/source/utils.py:113: UserWarning: Time coordinate does not include bounds information. Guessing start and end times.\n",
      "  warnings.warn(\n",
      "/home/120/mcw120/access-nri/access-nri-intake-catalog/src/access_nri_intake/source/utils.py:113: UserWarning: Time coordinate does not include bounds information. Guessing start and end times.\n",
      "  warnings.warn(\n",
      "/home/120/mcw120/access-nri/access-nri-intake-catalog/src/access_nri_intake/source/utils.py:113: UserWarning: Time coordinate does not include bounds information. Guessing start and end times.\n",
      "  warnings.warn(\n",
      "/home/120/mcw120/access-nri/access-nri-intake-catalog/src/access_nri_intake/source/utils.py:113: UserWarning: Time coordinate does not include bounds information. Guessing start and end times.\n",
      "  warnings.warn(\n",
      "/home/120/mcw120/access-nri/access-nri-intake-catalog/src/access_nri_intake/source/utils.py:113: UserWarning: Time coordinate does not include bounds information. Guessing start and end times.\n",
      "  warnings.warn(\n",
      "/home/120/mcw120/access-nri/access-nri-intake-catalog/src/access_nri_intake/source/utils.py:113: UserWarning: Time coordinate does not include bounds information. Guessing start and end times.\n",
      "  warnings.warn(\n",
      "/home/120/mcw120/access-nri/access-nri-intake-catalog/src/access_nri_intake/source/utils.py:113: UserWarning: Time coordinate does not include bounds information. Guessing start and end times.\n",
      "  warnings.warn(\n",
      "/home/120/mcw120/access-nri/access-nri-intake-catalog/src/access_nri_intake/source/utils.py:113: UserWarning: Time coordinate does not include bounds information. Guessing start and end times.\n",
      "  warnings.warn(\n",
      "/home/120/mcw120/access-nri/access-nri-intake-catalog/src/access_nri_intake/source/utils.py:113: UserWarning: Time coordinate does not include bounds information. Guessing start and end times.\n",
      "  warnings.warn(\n",
      "/home/120/mcw120/access-nri/access-nri-intake-catalog/src/access_nri_intake/source/utils.py:113: UserWarning: Time coordinate does not include bounds information. Guessing start and end times.\n",
      "  warnings.warn(\n",
      "/home/120/mcw120/access-nri/access-nri-intake-catalog/src/access_nri_intake/source/utils.py:113: UserWarning: Time coordinate does not include bounds information. Guessing start and end times.\n",
      "  warnings.warn(\n",
      "/home/120/mcw120/access-nri/access-nri-intake-catalog/src/access_nri_intake/source/utils.py:113: UserWarning: Time coordinate does not include bounds information. Guessing start and end times.\n",
      "  warnings.warn(\n",
      "/home/120/mcw120/access-nri/access-nri-intake-catalog/src/access_nri_intake/source/utils.py:113: UserWarning: Time coordinate does not include bounds information. Guessing start and end times.\n",
      "  warnings.warn(\n",
      "/home/120/mcw120/access-nri/access-nri-intake-catalog/src/access_nri_intake/source/utils.py:113: UserWarning: Time coordinate does not include bounds information. Guessing start and end times.\n",
      "  warnings.warn(\n",
      "/home/120/mcw120/access-nri/access-nri-intake-catalog/src/access_nri_intake/source/utils.py:113: UserWarning: Time coordinate does not include bounds information. Guessing start and end times.\n",
      "  warnings.warn(\n",
      "/home/120/mcw120/access-nri/access-nri-intake-catalog/src/access_nri_intake/source/utils.py:113: UserWarning: Time coordinate does not include bounds information. Guessing start and end times.\n",
      "  warnings.warn(\n",
      "/home/120/mcw120/access-nri/access-nri-intake-catalog/src/access_nri_intake/source/utils.py:113: UserWarning: Time coordinate does not include bounds information. Guessing start and end times.\n",
      "  warnings.warn(\n",
      "/home/120/mcw120/access-nri/access-nri-intake-catalog/src/access_nri_intake/source/utils.py:113: UserWarning: Time coordinate does not include bounds information. Guessing start and end times.\n",
      "  warnings.warn(\n",
      "/home/120/mcw120/access-nri/access-nri-intake-catalog/src/access_nri_intake/source/utils.py:113: UserWarning: Time coordinate does not include bounds information. Guessing start and end times.\n",
      "  warnings.warn(\n",
      "/home/120/mcw120/access-nri/access-nri-intake-catalog/src/access_nri_intake/source/utils.py:113: UserWarning: Time coordinate does not include bounds information. Guessing start and end times.\n",
      "  warnings.warn(\n",
      "/home/120/mcw120/access-nri/access-nri-intake-catalog/src/access_nri_intake/source/utils.py:113: UserWarning: Time coordinate does not include bounds information. Guessing start and end times.\n",
      "  warnings.warn(\n",
      "/home/120/mcw120/access-nri/access-nri-intake-catalog/src/access_nri_intake/source/utils.py:113: UserWarning: Time coordinate does not include bounds information. Guessing start and end times.\n",
      "  warnings.warn(\n",
      "/home/120/mcw120/access-nri/access-nri-intake-catalog/src/access_nri_intake/source/utils.py:113: UserWarning: Time coordinate does not include bounds information. Guessing start and end times.\n",
      "  warnings.warn(\n",
      "/home/120/mcw120/access-nri/access-nri-intake-catalog/src/access_nri_intake/source/utils.py:113: UserWarning: Time coordinate does not include bounds information. Guessing start and end times.\n",
      "  warnings.warn(\n",
      "/home/120/mcw120/access-nri/access-nri-intake-catalog/src/access_nri_intake/source/utils.py:113: UserWarning: Time coordinate does not include bounds information. Guessing start and end times.\n",
      "  warnings.warn(\n",
      "/home/120/mcw120/access-nri/access-nri-intake-catalog/src/access_nri_intake/source/utils.py:113: UserWarning: Time coordinate does not include bounds information. Guessing start and end times.\n",
      "  warnings.warn(\n",
      "/home/120/mcw120/access-nri/access-nri-intake-catalog/src/access_nri_intake/source/utils.py:113: UserWarning: Time coordinate does not include bounds information. Guessing start and end times.\n",
      "  warnings.warn(\n",
      "/home/120/mcw120/access-nri/access-nri-intake-catalog/src/access_nri_intake/source/utils.py:113: UserWarning: Time coordinate does not include bounds information. Guessing start and end times.\n",
      "  warnings.warn(\n",
      "/home/120/mcw120/access-nri/access-nri-intake-catalog/src/access_nri_intake/source/utils.py:113: UserWarning: Time coordinate does not include bounds information. Guessing start and end times.\n",
      "  warnings.warn(\n",
      "/home/120/mcw120/access-nri/access-nri-intake-catalog/src/access_nri_intake/source/utils.py:113: UserWarning: Time coordinate does not include bounds information. Guessing start and end times.\n",
      "  warnings.warn(\n",
      "/home/120/mcw120/access-nri/access-nri-intake-catalog/src/access_nri_intake/source/utils.py:113: UserWarning: Time coordinate does not include bounds information. Guessing start and end times.\n",
      "  warnings.warn(\n",
      "/home/120/mcw120/access-nri/access-nri-intake-catalog/src/access_nri_intake/source/utils.py:113: UserWarning: Time coordinate does not include bounds information. Guessing start and end times.\n",
      "  warnings.warn(\n",
      "/home/120/mcw120/access-nri/access-nri-intake-catalog/src/access_nri_intake/source/utils.py:113: UserWarning: Time coordinate does not include bounds information. Guessing start and end times.\n",
      "  warnings.warn(\n",
      "/home/120/mcw120/access-nri/access-nri-intake-catalog/src/access_nri_intake/source/utils.py:113: UserWarning: Time coordinate does not include bounds information. Guessing start and end times.\n",
      "  warnings.warn(\n",
      "/home/120/mcw120/access-nri/access-nri-intake-catalog/src/access_nri_intake/source/utils.py:113: UserWarning: Time coordinate does not include bounds information. Guessing start and end times.\n",
      "  warnings.warn(\n"
     ]
    },
    {
     "name": "stdout",
     "output_type": "stream",
     "text": [
      "CPU times: user 5.07 s, sys: 1.41 s, total: 6.48 s\n",
      "Wall time: 22 s\n"
     ]
    }
   ],
   "source": [
    "%%time\n",
    "\n",
    "builder = AccessOm2Builder(\n",
    "    path=\"/g/data/ik11/outputs/access-om2/1deg_iamip2_CMCC-ESM2ssp126\"\n",
    ").build()"
   ]
  },
  {
   "cell_type": "code",
   "execution_count": 4,
   "id": "95a81108",
   "metadata": {},
   "outputs": [
    {
     "data": {
      "text/plain": [
       "{'filename': 'oceanbgc-scalar-1-monthly-ym_2100_02.nc',\n",
       " 'file_id': 'oceanbgc_scalar_1_monthly_ym_XXXX_XX',\n",
       " 'path': '/g/data/ik11/outputs/access-om2/1deg_iamip2_CMCC-ESM2ssp126/output142/ocean/oceanbgc-scalar-1-monthly-ym_2100_02.nc',\n",
       " 'filename_timestamp': '2100_02',\n",
       " 'frequency': '1mon',\n",
       " 'start_date': '2100-02-01, 00:00:00',\n",
       " 'end_date': '2101-02-01, 00:00:00',\n",
       " 'variable': ['scalar_axis', 'time', 'total_aco2_flux', 'total_co2_flux'],\n",
       " 'variable_long_name': ['none',\n",
       "  'time',\n",
       "  'Total surface flux of inorganic C (natural + anthropogenic) into ocean',\n",
       "  'Total surface flux of inorganic C (natural) into ocean'],\n",
       " 'variable_standard_name': ['', '', '', ''],\n",
       " 'variable_cell_methods': ['', '', 'time: point', 'time: point'],\n",
       " 'variable_units': ['none',\n",
       "  'days since 1900-01-01 00:00:00',\n",
       "  'Pg/yr',\n",
       "  'Pg/yr'],\n",
       " 'realm': 'ocean'}"
      ]
     },
     "execution_count": 4,
     "metadata": {},
     "output_type": "execute_result"
    }
   ],
   "source": [
    "AccessOm2Builder.parser(\"/g/data/ik11/outputs/access-om2/1deg_iamip2_CMCC-ESM2ssp126/output142/ocean/oceanbgc-scalar-1-monthly-ym_2100_02.nc\")"
   ]
  },
  {
   "cell_type": "markdown",
   "id": "e61775ac-a973-4cb0-a87f-b6a695b9e00d",
   "metadata": {},
   "source": [
    "The previous cell builds the Intake-ESM datastore in memory. We'll want to save it somewhere so we can reuse and share it. The following cell will create two new files (a `.json` and `.csv` file) in your current work directory. These files are how Intake-ESM datastores are stored on disk."
   ]
  },
  {
   "cell_type": "code",
   "execution_count": 5,
   "id": "7f4ed770-df35-4467-ab5e-ce9f8b8ec075",
   "metadata": {
    "tags": []
   },
   "outputs": [
    {
     "name": "stdout",
     "output_type": "stream",
     "text": [
      "Successfully wrote ESM catalog json file to: file:///home/120/mcw120/access-nri/access-nri-intake-catalog/docs/datastores/mydatastore.json\n"
     ]
    }
   ],
   "source": [
    "builder.save(\n",
    "    name=\"mydatastore\",\n",
    "    description=\"An example datastore for ACCESS-OM2 1deg_iamip2_CMCC-ESM2ssp126\",\n",
    ")"
   ]
  },
  {
   "cell_type": "markdown",
   "id": "8d188090-9037-4b39-a848-3c3a69f60af4",
   "metadata": {},
   "source": [
    "```{note}\n",
    "All access-nri-intake Builders require that the output base `path` is provided. Some also have additional optional arguments. For example, `AccessCm2Builder` and `AccessEsm15Builder` can also receive an optional `ensemble` parameter that can be used to create datastores of ensemble outputs (see [Datastore Builders](builders.rst))\n",
    "```"
   ]
  },
  {
   "cell_type": "markdown",
   "id": "1acbbe16-04a3-4a7c-bc30-3f2a4ec81fc9",
   "metadata": {
    "tags": []
   },
   "source": [
    "## Using your Intake-ESM datastore"
   ]
  },
  {
   "cell_type": "markdown",
   "id": "e01ccb09-1783-4856-9648-f8ddcd863a80",
   "metadata": {},
   "source": [
    "Now we can use our Intake-ESM datastore to query and load the model data. Only the basics are shown in this tutorial. You can read the Intake-ESM documentation [here](https://intake-esm.readthedocs.io/en/stable/index.html).\n",
    "\n",
    "We can load the datastore directly using `intake`."
   ]
  },
  {
   "cell_type": "code",
   "execution_count": 6,
   "id": "029dd740-fa73-4403-b756-2dff8fd0a32f",
   "metadata": {
    "tags": []
   },
   "outputs": [],
   "source": [
    "import intake\n",
    "\n",
    "cat = intake.open_esm_datastore(\n",
    "    \"./mydatastore.json\",\n",
    "    columns_with_iterables=[\"variable\"] # This is important\n",
    ")"
   ]
  },
  {
   "cell_type": "markdown",
   "id": "13da55f6-dd0e-47a8-a460-7df64d90786d",
   "metadata": {},
   "source": [
    "We can see what datasets are available in our datastore by looking at the output of the `keys()` method. Here, a \"dataset\" is a set of contiguous files that we can load and combine together using xarray. It's good to check that these make sense when creating new datastores."
   ]
  },
  {
   "cell_type": "code",
   "execution_count": 7,
   "id": "b824d16f-923d-4db7-ad30-948b691fd2ff",
   "metadata": {
    "tags": []
   },
   "outputs": [
    {
     "data": {
      "text/plain": [
       "['iceh_XXX_daily.1day',\n",
       " 'ocean_2d_area_t.fx',\n",
       " 'ocean_2d_area_u.fx',\n",
       " 'ocean_2d_drag_coeff.fx',\n",
       " 'ocean_2d_dxt.fx',\n",
       " 'ocean_2d_dxu.fx',\n",
       " 'ocean_2d_dyt.fx',\n",
       " 'ocean_2d_dyu.fx',\n",
       " 'ocean_2d_geolat_c.fx',\n",
       " 'ocean_2d_geolat_t.fx',\n",
       " 'ocean_2d_geolon_c.fx',\n",
       " 'ocean_2d_geolon_t.fx',\n",
       " 'ocean_2d_ht.fx',\n",
       " 'ocean_2d_hu.fx',\n",
       " 'ocean_2d_kmt.fx',\n",
       " 'ocean_2d_kmu.fx',\n",
       " 'ocean_2d_mld_1_daily_mean_ym_XXXX_XX.1day',\n",
       " 'ocean_2d_surface_salt_1_daily_mean_ym_XXXX_XX.1day',\n",
       " 'ocean_2d_surface_temp_1_daily_mean_ym_XXXX_XX.1day',\n",
       " 'ocean_3d_salt_1_yearly_mean_ym_XXXX_XX.1yr',\n",
       " 'ocean_3d_temp_1_yearly_mean_ym_XXXX_XX.1yr',\n",
       " 'ocean_scalar_1_monthly_ym_XXXX_XX.1mon',\n",
       " 'oceanbgc_2d_npp1_1_daily_mean_y_XXXX.1day',\n",
       " 'oceanbgc_2d_npp2d_1_daily_mean_y_XXXX.1day',\n",
       " 'oceanbgc_2d_pprod_gross_2d_1_daily_mean_y_XXXX.1day',\n",
       " 'oceanbgc_2d_radbio1_1_daily_mean_y_XXXX.1day',\n",
       " 'oceanbgc_2d_stf09_1_daily_mean_y_XXXX.1day',\n",
       " 'oceanbgc_2d_surface_adic_1_daily_mean_ym_XXXX_XX.1day',\n",
       " 'oceanbgc_2d_surface_alk_1_daily_mean_ym_XXXX_XX.1day',\n",
       " 'oceanbgc_2d_surface_det_1_daily_mean_ym_XXXX_XX.1day',\n",
       " 'oceanbgc_2d_surface_fe_1_daily_mean_ym_XXXX_XX.1day',\n",
       " 'oceanbgc_2d_surface_no3_1_daily_mean_ym_XXXX_XX.1day',\n",
       " 'oceanbgc_2d_surface_phy_1_daily_mean_ym_XXXX_XX.1day',\n",
       " 'oceanbgc_2d_surface_zoo_1_daily_mean_ym_XXXX_XX.1day',\n",
       " 'oceanbgc_2d_wdet100_1_daily_mean_y_XXXX.1day',\n",
       " 'oceanbgc_3d_adic_1_yearly_mean_y_XXXX.1yr',\n",
       " 'oceanbgc_3d_alk_1_yearly_mean_y_XXXX.1yr',\n",
       " 'oceanbgc_3d_caco3_1_yearly_mean_y_XXXX.1yr',\n",
       " 'oceanbgc_3d_det_1_yearly_mean_y_XXXX.1yr',\n",
       " 'oceanbgc_3d_dic_1_yearly_mean_y_XXXX.1yr',\n",
       " 'oceanbgc_3d_fe_1_yearly_mean_y_XXXX.1yr',\n",
       " 'oceanbgc_3d_no3_1_yearly_mean_y_XXXX.1yr',\n",
       " 'oceanbgc_3d_npp3d_1_yearly_mean_y_XXXX.1yr',\n",
       " 'oceanbgc_3d_o2_1_yearly_mean_y_XXXX.1yr',\n",
       " 'oceanbgc_3d_phy_1_yearly_mean_y_XXXX.1yr',\n",
       " 'oceanbgc_3d_pprod_gross_1_yearly_mean_y_XXXX.1yr',\n",
       " 'oceanbgc_3d_zoo_1_yearly_mean_y_XXXX.1yr',\n",
       " 'oceanbgc_scalar_1_monthly_ym_XXXX_XX.1mon']"
      ]
     },
     "execution_count": 7,
     "metadata": {},
     "output_type": "execute_result"
    }
   ],
   "source": [
    "cat.keys()"
   ]
  },
  {
   "cell_type": "markdown",
   "id": "f028d48f-13c2-4440-8daf-e91b702dfa3f",
   "metadata": {},
   "source": [
    "All access-nri-intake Builders label datasets using a file identifier and a frequency: `file_id.frequency`. The file id is parsed from the filenames. The \"X\"s are there in place of time stamps that were included in the filenames for some of the data. The dataset labels above look sensible for the ACCESS-OM2 data were working with here, which have a separate set of files for each output variable."
   ]
  },
  {
   "cell_type": "markdown",
   "id": "141b0c4a-f3ee-448b-bd78-c2f5294a0516",
   "metadata": {},
   "source": [
    "```{note}\n",
    "If your dataset labels don't look right, please open an issue [here](https://github.com/ACCESS-NRI/access-nri-intake-catalog/issues).\n",
    "```"
   ]
  },
  {
   "cell_type": "markdown",
   "id": "c9667b60-639b-4eb4-abf0-cb198ab2a9a0",
   "metadata": {},
   "source": [
    "It's easy to search for datasets in the datastore containing a particular variable and load them as xarray Datasets. (Note for analysing large datasets, you may want to first start a dask cluster)."
   ]
  },
  {
   "cell_type": "code",
   "execution_count": 8,
   "id": "f7377e3c-19db-4732-9da2-6e3d3460de71",
   "metadata": {
    "tags": []
   },
   "outputs": [],
   "source": [
    "ds = cat.search(variable=\"temp\").to_dask()"
   ]
  },
  {
   "cell_type": "code",
   "execution_count": 9,
   "id": "896a9cc5-ac81-4fcb-a70f-3d4ee6d59682",
   "metadata": {
    "tags": []
   },
   "outputs": [
    {
     "data": {
      "text/plain": [
       "<matplotlib.collections.QuadMesh at 0x7ffa746c1300>"
      ]
     },
     "execution_count": 9,
     "metadata": {},
     "output_type": "execute_result"
    },
    {
     "data": {
      "image/png": "[encoded data removed]",
      "text/plain": [
       "<Figure size 640x480 with 2 Axes>"
      ]
     },
     "metadata": {},
     "output_type": "display_data"
    }
   ],
   "source": [
    "ds[\"temp\"].isel(time=-1, st_ocean=0).plot()"
   ]
  },
  {
   "cell_type": "markdown",
   "id": "0fcbcf73-42ed-4920-88a0-5a7b5f07f11c",
   "metadata": {},
   "source": [
    "Once you've created a datastore for your model run and you think it's working as expected, please consider adding it to the ACCESS-NRI catalog so that others can easily find and use your great data - see [Adding datastores to the catalog](adding.rst)."
   ]
  }
 ],
 "metadata": {
  "kernelspec": {
   "display_name": "Python 3 (ipykernel)",
   "language": "python",
   "name": "python3"
  },
  "language_info": {
   "codemirror_mode": {
    "name": "ipython",
    "version": 3
   },
   "file_extension": ".py",
   "mimetype": "text/x-python",
   "name": "python",
   "nbconvert_exporter": "python",
   "pygments_lexer": "ipython3",
   "version": "3.11.9"
  }
 },
 "nbformat": 4,
 "nbformat_minor": 5
}
