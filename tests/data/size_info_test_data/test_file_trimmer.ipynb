{
 "cells": [
  {
   "cell_type": "code",
   "execution_count": 1,
   "id": "c5139edb-be7c-462e-b798-abbf2fb1d653",
   "metadata": {},
   "outputs": [],
   "source": [
    "from pathlib import Path\n",
    "\n",
    "import xarray as xr"
   ]
  },
  {
   "cell_type": "code",
   "execution_count": 2,
   "id": "f2843c91-bc0e-4b26-83ba-7bac9afff1d0",
   "metadata": {},
   "outputs": [],
   "source": [
    "new_dir = Path(\"/home/120/mcw120/access-nri/access-nri-intake-catalog/size_info_test_data\")"
   ]
  },
  {
   "cell_type": "code",
   "execution_count": 3,
   "id": "e884e744-c48a-4d38-a4f5-ae96267d37b6",
   "metadata": {},
   "outputs": [],
   "source": [
    "files_to_action = [\n",
    "    # (\"/path/to/file/dir\", \"filename\")\n",
    "    (\"/g/data/p73/archive/non-CMIP/ACCESS-CM2/bz687/history/atm/netCDF/\", \"bz687a.pm107912_mon.nc\"),\n",
    "    (\"/g/data/p73/archive/non-CMIP/ACCESS-CM2/cj877/history/ice/\", \"iceh_m.0498-09.nc\"),\n",
    "    (\"/g/data/p73/archive/non-CMIP/ACCESS-CM2/cj877/history/ocn/\", \"ocean-2d-surface_salt-1-daily-mean-ym_0409_01.nc\"),\n",
    "    (\"/g/data/p73/archive/non-CMIP/ACCESS-CM2/bx944b/history/ice\", \"iceh_d.1972-04.nc\"),\n",
    "    (\"/g/data/p73/archive/non-CMIP/ACCESS-CM2/bx944b/history/ocn\", \"ocean_daily.nc-19960630\"),\n",
    "    (\"/g/data/p73/archive/non-CMIP/ACCESS-ESM1-5/PI-GWL-B2035/history/atm/netCDF\", \"PI-GWL-B2035.pe-109904_dai.nc\"),\n",
    "    (\"/g/data/p73/archive/non-CMIP/ACCESS-ESM1-5/PI-GWL-B2035/history/atm/netCDF\", \"PI-GWL-B2035.pa-109904_mon.nc\"),\n",
    "    (\"/g/data/p73/archive/non-CMIP/ACCESS-ESM1-5/PI-1pct-02/history/atm/netCDF\", \"PI-1pct-02.pe-011802_dai.nc_dai.nc\"),\n",
    "    (\"/g/data/p73/archive/non-CMIP/ACCESS-ESM1-5/HI-noluc-CN-05/history/ice\", \"iceh.1917-05.nc\"),\n",
    "    (\"/g/data/ik11/outputs/access-om2/1deg_jra55_iaf_omip2spunup_cycle37/output2242/ocean\", \"ocean_month.nc\"),\n",
    "    (\"/g/data/cj50/access-om2/raw-output/access-om2-01/01deg_jra55v13_ryf9091/output1084/ocean\", \"ocean_daily_3d_pot_rho_1.nc\"),\n",
    "    (\"/g/data/cj50/access-om2/raw-output/access-om2-01/01deg_jra55v13_ryf9091/output278/ocean\", \"ocean_daily_3d_vhrho_nt_07.nc\"),\n",
    "    (\"/g/data/cj50/access-om2/raw-output/access-om2-01/01deg_jra55v140_iaf_cycle4/output735/ocean\", \"ocean-3d-v-1-monthly-pow02-ym_1958_04.nc\"),\n",
    "    (\"/g/data/cj50/access-om2/raw-output/access-om2-01/01deg_jra55v140_iaf_cycle3/output489/ocean\", \"ocean-2d-sfc_salt_flux_restore-1-monthly-mean-ym_1958_04.nc\"),\n",
    "    (\"/g/data/ik11/outputs/access-om2-01/01deg_jra55v140_iaf_cycle4_jra55v150_extension/output1005/ocean\", \"ocean-2d-sea_level-540-seconds-snap-ym_2022_04_01.nc\"),\n",
    "    (\"/g/data/ik11/outputs/access-om2-01/01deg_jra55v140_iaf_cycle3/output731/ocean\", \"ocean-3d-salt-1-daily-mean-ym_2018_10_jmax511_sigfig4.nc\"),\n",
    "    (\"/g/data/ik11/outputs/access-om2/1deg_iamip2_con/output115/ocean\", \"oceanbgc-3d-caco3-1-yearly-mean-y_2015.nc\"),\n",
    "    (\"/g/data/ik11/outputs/access-om2/1deg_iamip2_exc/output057/ocean\", \"oceanbgc-2d-wdet100-1-daily-mean-y_2015.nc\"),\n",
    "    (\"/g/data/ik11/outputs/access-om2-01/01deg_jra55v140_iaf_cycle4_jra55v150_extension/output999/ocean\", \"oceanbgc-3d-phy-1-daily-mean-3-sigfig-5-daily-ymd_2020_12_01.nc\"),\n",
    "    (\"/g/data/ik11/outputs/access-om2-01/01deg_jra55v13_ryf9091/output963/ocean\", \"rregionPrydz_temp_xflux_adv.nc\"),\n",
    "    (\"/g/data/ik11/outputs/mom6-om4-025/OM4_025.JRA_RYF/output000\", \"19000101.ice_daily.nc\"),\n",
    "    (\"/g/data/ik11/outputs/mom6-om4-025/OM4_025.JRA_RYF/output000\", \"19000101.ice_month.nc\"),\n",
    "    (\"/g/data/ik11/outputs/mom6-om4-025/OM4_025.JRA_RYF/output000\", \"19000101.ocean_annual.nc\"),\n",
    "    (\"/g/data/ik11/outputs/mom6-om4-025/OM4_025.JRA_RYF/output000\", \"19000101.ocean_month_rho2.nc\"),\n",
    "    (\"/g/data/ik11/outputs/mom6-om4-025/OM4_025.JRA_RYF/output000\", \"19000101.ocean_scalar_annual.nc\"),\n",
    "    (\"/g/data/jk72/deg581/shacom/mdl/shackleton_v4\", \"roms_his_0016.nc\"),\n",
    "]"
   ]
  },
  {
   "cell_type": "code",
   "execution_count": 4,
   "id": "b0a1bf42-8efe-42b3-bd72-83c22373ddbf",
   "metadata": {},
   "outputs": [],
   "source": []
  },
  {
   "cell_type": "code",
   "execution_count": 5,
   "id": "33a05409-4f7b-478b-9738-41c714b29e0e",
   "metadata": {},
   "outputs": [
    {
     "name": "stdout",
     "output_type": "stream",
     "text": [
      "bz687a.pm107912_mon.nc - bnds:2.depth:6.lat:144.lat_v:145.lon:192.lon_u:192.model_rho_level_number:85.model_theta_level_number:85.pressure:19.pseudo_level:5.pseudo_level_0:6.pseudo_level_1:17.pseudo_level_2:13.time:1\n",
      "iceh_m.0498-09.nc - d2:2.nc:5.ni:1440.nj:1080.nkbio:2.time:1\n",
      "ocean-2d-surface_salt-1-daily-mean-ym_0409_01.nc - nv:2.time:181.xt_ocean:1440.yt_ocean:1080\n",
      "iceh_d.1972-04.nc - d2:2.nc:5.ni:360.nj:300.nkbio:2.time:30\n",
      "ocean_daily.nc-19960630 - nv:2.time:182.xt_ocean:360.yt_ocean:300\n",
      "PI-GWL-B2035.pe-109904_dai.nc - bnds:2.lat:145.lat_v:144.lon:192.lon_u:192.pseudo_level:17.soil_model_level_number:6.time:30\n",
      "PI-GWL-B2035.pa-109904_mon.nc - bnds:2.lat:145.lat_v:144.lon:192.lon_u:192.model_rho_level_number:38.model_theta_level_number:38.pressure:19.pseudo_level:6.pseudo_level_0:17.pseudo_level_2:13.soil_model_level_number:6.time:1.time_0:1\n",
      "PI-1pct-02.pe-011802_dai.nc_dai.nc - bnds:2.lat:145.lat_v:144.lon:192.lon_u:192.pressure:8.pseudo_level:17.soil_model_level_number:6.time:28\n",
      "iceh.1917-05.nc - d2:2.nc:5.ni:360.nj:300.nkice:1.nksnow:1.time:1\n",
      "ocean_month.nc - grid_xt_ocean:360.grid_xu_ocean:360.grid_yt_ocean:300.grid_yu_ocean:300.neutral:80.neutralrho_edges:81.nv:2.potrho:80.potrho_edges:81.st_edges_ocean:51.st_ocean:50.sw_edges_ocean:51.sw_ocean:50.time:12.xt_ocean:360.xu_ocean:360.yt_ocean:300.yu_ocean:300\n",
      "ocean_daily_3d_pot_rho_1.nc - nv:2.st_edges_ocean:76.st_ocean:75.time:90.xt_ocean:3600.yt_ocean:2700\n",
      "ocean_daily_3d_vhrho_nt_07.nc - nv:2.st_ocean:75.time:31.xt_ocean:3600.yt_ocean:900\n",
      "ocean-3d-v-1-monthly-pow02-ym_1958_04.nc - nv:2.st_edges_ocean:76.st_ocean:75.time:1.xu_ocean:3600.yu_ocean:2700\n",
      "ocean-2d-sfc_salt_flux_restore-1-monthly-mean-ym_1958_04.nc - nv:2.time:3.xt_ocean:3600.yt_ocean:2700\n",
      "ocean-2d-sea_level-540-seconds-snap-ym_2022_04_01.nc - time:160.xt_ocean:3600.yt_ocean:2700\n",
      "ocean-3d-salt-1-daily-mean-ym_2018_10_jmax511_sigfig4.nc - nv:2.st_ocean:75.time:31.xt_ocean:3600.yt_ocean:511\n",
      "oceanbgc-3d-caco3-1-yearly-mean-y_2015.nc - nv:2.st_edges_ocean:51.st_ocean:50.time:1.xt_ocean:360.yt_ocean:300\n",
      "oceanbgc-2d-wdet100-1-daily-mean-y_2015.nc - nv:2.time:365.xt_ocean:360.yt_ocean:300\n",
      "oceanbgc-3d-phy-1-daily-mean-3-sigfig-5-daily-ymd_2020_12_01.nc - st_ocean:75.time:1.xt_ocean:3600.yt_ocean:2700\n",
      "rregionPrydz_temp_xflux_adv.nc - nv:2.st_edges_ocean:76.st_ocean:75.time:736.xu_ocean_sub02:351.yt_ocean_sub02:119\n",
      "19000101.ice_daily.nc - nv:2.time:365.xT:1440.xTe:1441.yT:1080.yTe:1081\n",
      "19000101.ice_month.nc - nv:2.time:12.xT:1440.xTe:1441.yT:1080.yTe:1081\n",
      "19000101.ocean_annual.nc - nv:2.time:1.xh:1440.xq:1441.yh:1080.yq:1081.zi:76.zl:75\n",
      "19000101.ocean_month_rho2.nc - nv:2.rho2_i:36.rho2_l:35.time:12.xh:1440.yh:1080.yq:1081\n",
      "19000101.ocean_scalar_annual.nc - nv:2.scalar_axis:1.time:1\n",
      "roms_his_0016.nc - boundary:4.eta_psi:309.eta_rho:310.eta_u:310.eta_v:309.ocean_time:73.s_rho:31.s_w:32.tracer:2.xi_psi:294.xi_rho:295.xi_u:294.xi_v:295\n"
     ]
    }
   ],
   "source": [
    "for old_dir, fn in files_to_action:\n",
    "    with xr.open_dataset(Path(old_dir) / fn, mode=\"r\", chunks={}, engine=\"netcdf4\", decode_times=False) as old_xr:\n",
    "        # new_xr = old_xr.copy(deep=True, data={k: np.empty(old_xr.data_vars[k].shape) for k in old_xr.data_vars})\n",
    "        # new_xr.to_netcdf(new_dir / fn, format=\"NETCDF4\", mode=\"w\")\n",
    "        old_xr.to_netcdf(new_dir / fn, mode=\"w\", compute=False)\n",
    "        print(fn + \" - \" + \".\".join(sorted([f\"{s}:{old_xr.sizes[s]}\" for s in old_xr.sizes])))"
   ]
  }
 ],
 "metadata": {
  "kernelspec": {
   "display_name": "Python [conda env:analysis3-25.04] *",
   "language": "python",
   "name": "conda-env-analysis3-25.04-py"
  },
  "language_info": {
   "codemirror_mode": {
    "name": "ipython",
    "version": 3
   },
   "file_extension": ".py",
   "mimetype": "text/x-python",
   "name": "python",
   "nbconvert_exporter": "python",
   "pygments_lexer": "ipython3",
   "version": "3.11.12"
  }
 },
 "nbformat": 4,
 "nbformat_minor": 5
}
